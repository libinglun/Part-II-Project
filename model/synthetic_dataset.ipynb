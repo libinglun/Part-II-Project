{
 "cells": [
  {
   "cell_type": "code",
   "execution_count": 3,
   "id": "initial_id",
   "metadata": {
    "collapsed": true,
    "ExecuteTime": {
     "end_time": "2024-01-03T07:23:55.768086Z",
     "start_time": "2024-01-03T07:23:55.748077Z"
    }
   },
   "outputs": [],
   "source": [
    "import numpy as np\n",
    "import tqdm"
   ]
  },
  {
   "cell_type": "markdown",
   "source": [
    "### Create my synthetic dataset"
   ],
   "metadata": {
    "collapsed": false
   },
   "id": "9d759fe8449593b5"
  },
  {
   "cell_type": "code",
   "execution_count": 4,
   "outputs": [],
   "source": [
    "np.set_printoptions(suppress=True, precision=4)\n",
    "np.set_printoptions(linewidth=100, threshold=np.inf)\n",
    "np.set_printoptions(formatter={'int': '{:5d}'.format})"
   ],
   "metadata": {
    "collapsed": false,
    "ExecuteTime": {
     "end_time": "2024-01-03T07:23:57.228200Z",
     "start_time": "2024-01-03T07:23:57.208450Z"
    }
   },
   "id": "d42c121b90cd961e"
  },
  {
   "cell_type": "code",
   "execution_count": 5,
   "outputs": [],
   "source": [
    "num_states = 10\n",
    "num_observations = 100"
   ],
   "metadata": {
    "collapsed": false,
    "ExecuteTime": {
     "end_time": "2024-01-03T07:23:59.570853Z",
     "start_time": "2024-01-03T07:23:59.552432Z"
    }
   },
   "id": "c08a922824f24efa"
  },
  {
   "cell_type": "code",
   "execution_count": 6,
   "outputs": [],
   "source": [
    "transition_probs = np.random.dirichlet(np.ones(num_states), size=num_states)\n",
    "emission_probs = np.random.dirichlet(np.ones(num_observations), size=num_states)\n",
    "initial_state_dist = np.ones(num_states) / num_states"
   ],
   "metadata": {
    "collapsed": false,
    "ExecuteTime": {
     "end_time": "2024-01-03T07:24:00.245723Z",
     "start_time": "2024-01-03T07:24:00.228973Z"
    }
   },
   "id": "d00feed61a6f6993"
  },
  {
   "cell_type": "code",
   "execution_count": 7,
   "outputs": [
    {
     "data": {
      "text/plain": "(array([[0.1851, 0.3632, 0.0797, 0.0335, 0.0389, 0.049 , 0.0035, 0.0981, 0.0865, 0.0625],\n        [0.1029, 0.064 , 0.0194, 0.0925, 0.3036, 0.0824, 0.0247, 0.0134, 0.2101, 0.087 ],\n        [0.136 , 0.0061, 0.2452, 0.0169, 0.2428, 0.0198, 0.1776, 0.0269, 0.0139, 0.1147],\n        [0.0929, 0.0821, 0.1675, 0.0098, 0.1082, 0.0807, 0.1139, 0.1401, 0.1957, 0.0092],\n        [0.0166, 0.0852, 0.0489, 0.0615, 0.0514, 0.2068, 0.0625, 0.0203, 0.4396, 0.0073],\n        [0.1463, 0.0244, 0.0181, 0.1109, 0.0449, 0.0525, 0.4599, 0.058 , 0.0687, 0.0164],\n        [0.1638, 0.2945, 0.1397, 0.0152, 0.0392, 0.0079, 0.2076, 0.0678, 0.0199, 0.0443],\n        [0.0623, 0.1885, 0.022 , 0.0774, 0.1774, 0.142 , 0.0637, 0.1139, 0.1479, 0.0051],\n        [0.0101, 0.1721, 0.0459, 0.1131, 0.0685, 0.0556, 0.1991, 0.019 , 0.1833, 0.1334],\n        [0.1738, 0.1015, 0.0237, 0.0564, 0.4082, 0.1302, 0.0559, 0.    , 0.039 , 0.0113]]),\n array([[0.0242, 0.0072, 0.0084, 0.0003, 0.0024, 0.004 , 0.0288, 0.0019, 0.006 , 0.0144, 0.0039,\n         0.0123, 0.0119, 0.0023, 0.0148, 0.0012, 0.0089, 0.0098, 0.0028, 0.0053, 0.0047, 0.0008,\n         0.0103, 0.0063, 0.0071, 0.0025, 0.0167, 0.0137, 0.0075, 0.0246, 0.0101, 0.0029, 0.0004,\n         0.0112, 0.0117, 0.0241, 0.0006, 0.0299, 0.0187, 0.0119, 0.0298, 0.0233, 0.0303, 0.0174,\n         0.0021, 0.0045, 0.0038, 0.0026, 0.007 , 0.0289, 0.0221, 0.0032, 0.0223, 0.0045, 0.0229,\n         0.0072, 0.0137, 0.0066, 0.0016, 0.01  , 0.0021, 0.0026, 0.001 , 0.0029, 0.0149, 0.0085,\n         0.0074, 0.0112, 0.0031, 0.0108, 0.0064, 0.0063, 0.0329, 0.0114, 0.0053, 0.0212, 0.0103,\n         0.0081, 0.0306, 0.0009, 0.0045, 0.0008, 0.0006, 0.007 , 0.0036, 0.0187, 0.0293, 0.0168,\n         0.0047, 0.0033, 0.0051, 0.0085, 0.0006, 0.0059, 0.0109, 0.0073, 0.006 , 0.0134, 0.0013,\n         0.0032],\n        [0.0119, 0.0105, 0.0082, 0.0098, 0.0126, 0.0295, 0.0041, 0.0078, 0.0104, 0.0013, 0.0168,\n         0.0086, 0.0121, 0.0385, 0.0137, 0.0037, 0.0002, 0.0051, 0.0104, 0.0041, 0.0083, 0.0095,\n         0.0024, 0.0172, 0.0013, 0.0151, 0.0057, 0.0055, 0.0055, 0.0019, 0.0061, 0.0043, 0.0119,\n         0.005 , 0.001 , 0.001 , 0.0003, 0.0104, 0.0011, 0.0065, 0.0001, 0.0074, 0.0153, 0.0111,\n         0.0082, 0.0173, 0.0069, 0.0005, 0.0044, 0.0136, 0.0068, 0.0013, 0.0172, 0.0135, 0.015 ,\n         0.    , 0.0002, 0.0129, 0.0179, 0.029 , 0.0172, 0.0058, 0.0031, 0.0016, 0.0057, 0.0264,\n         0.0101, 0.0248, 0.007 , 0.0067, 0.0085, 0.0312, 0.0041, 0.0354, 0.0133, 0.0187, 0.0011,\n         0.0088, 0.0049, 0.001 , 0.0227, 0.0315, 0.0007, 0.0121, 0.0061, 0.0046, 0.0001, 0.0013,\n         0.0112, 0.0036, 0.002 , 0.0091, 0.0271, 0.0263, 0.0197, 0.0023, 0.0106, 0.0209, 0.0139,\n         0.0006],\n        [0.0622, 0.0054, 0.012 , 0.005 , 0.0033, 0.0051, 0.0088, 0.002 , 0.008 , 0.0047, 0.0026,\n         0.0062, 0.0024, 0.0171, 0.0061, 0.0179, 0.004 , 0.0005, 0.0126, 0.0178, 0.0306, 0.002 ,\n         0.0032, 0.0104, 0.0113, 0.0103, 0.0135, 0.0196, 0.0049, 0.0032, 0.0001, 0.0078, 0.0019,\n         0.0471, 0.0013, 0.009 , 0.0094, 0.0292, 0.0055, 0.0024, 0.0109, 0.0051, 0.0082, 0.0001,\n         0.0009, 0.015 , 0.0333, 0.0068, 0.0063, 0.0107, 0.0098, 0.0076, 0.0157, 0.0204, 0.0212,\n         0.0012, 0.0122, 0.0008, 0.0001, 0.0373, 0.    , 0.0062, 0.0014, 0.053 , 0.0095, 0.0332,\n         0.0285, 0.002 , 0.0028, 0.0015, 0.0047, 0.0014, 0.0061, 0.0147, 0.0115, 0.0005, 0.0005,\n         0.0108, 0.0031, 0.001 , 0.0002, 0.0112, 0.0048, 0.0036, 0.0163, 0.0011, 0.0052, 0.0171,\n         0.0006, 0.004 , 0.0119, 0.0101, 0.016 , 0.0124, 0.0107, 0.0057, 0.0064, 0.0122, 0.0022,\n         0.0059],\n        [0.013 , 0.0053, 0.0108, 0.0152, 0.0131, 0.0154, 0.0046, 0.0097, 0.0121, 0.004 , 0.0033,\n         0.0165, 0.0075, 0.0036, 0.006 , 0.001 , 0.0055, 0.0095, 0.032 , 0.0165, 0.0046, 0.0251,\n         0.0142, 0.0014, 0.0052, 0.0127, 0.0013, 0.008 , 0.002 , 0.0077, 0.011 , 0.0017, 0.0163,\n         0.0197, 0.0343, 0.0123, 0.0067, 0.0039, 0.0063, 0.0004, 0.001 , 0.0021, 0.0009, 0.0022,\n         0.0067, 0.0226, 0.0051, 0.0015, 0.0017, 0.0277, 0.0038, 0.0022, 0.031 , 0.0138, 0.0019,\n         0.0189, 0.0055, 0.002 , 0.0076, 0.0093, 0.0108, 0.0443, 0.0077, 0.0088, 0.0198, 0.013 ,\n         0.0001, 0.0017, 0.0109, 0.0039, 0.0042, 0.0115, 0.0149, 0.0017, 0.009 , 0.0115, 0.0104,\n         0.0024, 0.0163, 0.0005, 0.0073, 0.0132, 0.0019, 0.0024, 0.0372, 0.0026, 0.0014, 0.0001,\n         0.0051, 0.0139, 0.0191, 0.0128, 0.0203, 0.0001, 0.0026, 0.0202, 0.0002, 0.0468, 0.0185,\n         0.0043],\n        [0.0212, 0.0098, 0.0089, 0.0043, 0.0136, 0.0001, 0.0012, 0.0295, 0.0122, 0.0028, 0.0157,\n         0.0041, 0.0095, 0.0018, 0.0037, 0.0085, 0.0098, 0.0023, 0.0025, 0.0023, 0.0084, 0.0103,\n         0.0015, 0.0015, 0.0125, 0.009 , 0.0014, 0.0076, 0.013 , 0.0032, 0.0053, 0.0261, 0.0027,\n         0.012 , 0.0137, 0.0156, 0.0097, 0.0128, 0.0029, 0.005 , 0.0056, 0.0033, 0.0007, 0.0118,\n         0.0051, 0.0006, 0.0069, 0.0024, 0.008 , 0.0115, 0.0086, 0.0054, 0.0067, 0.0074, 0.0405,\n         0.0042, 0.013 , 0.0087, 0.0274, 0.0086, 0.0163, 0.0083, 0.0041, 0.0041, 0.008 , 0.0073,\n         0.0035, 0.0041, 0.0175, 0.0059, 0.0056, 0.005 , 0.0021, 0.0024, 0.009 , 0.0557, 0.0008,\n         0.0219, 0.0039, 0.0149, 0.0218, 0.0226, 0.0019, 0.0164, 0.0084, 0.0102, 0.0132, 0.0055,\n         0.0487, 0.0033, 0.0065, 0.0077, 0.0064, 0.0265, 0.0174, 0.0134, 0.0042, 0.0091, 0.0115,\n         0.0203],\n        [0.0157, 0.0038, 0.0059, 0.0001, 0.0017, 0.0014, 0.003 , 0.0173, 0.0112, 0.0028, 0.0089,\n         0.0197, 0.003 , 0.0062, 0.0036, 0.0034, 0.0284, 0.0097, 0.0008, 0.0205, 0.0116, 0.0054,\n         0.0113, 0.0289, 0.003 , 0.0186, 0.0241, 0.0035, 0.0161, 0.0056, 0.0125, 0.0041, 0.0199,\n         0.0013, 0.0019, 0.0217, 0.    , 0.0144, 0.0029, 0.0067, 0.0006, 0.0042, 0.0035, 0.0047,\n         0.0282, 0.0102, 0.0075, 0.0129, 0.0054, 0.0052, 0.0172, 0.0118, 0.0078, 0.0009, 0.0386,\n         0.0107, 0.0035, 0.0015, 0.007 , 0.0024, 0.0222, 0.009 , 0.0211, 0.0096, 0.0045, 0.023 ,\n         0.023 , 0.0085, 0.0116, 0.0022, 0.0075, 0.0032, 0.004 , 0.0039, 0.0005, 0.0019, 0.0135,\n         0.0155, 0.0017, 0.0204, 0.0042, 0.02  , 0.0026, 0.04  , 0.0174, 0.0141, 0.0021, 0.0072,\n         0.0001, 0.0183, 0.0036, 0.0344, 0.0046, 0.0023, 0.0094, 0.02  , 0.0008, 0.0058, 0.0104,\n         0.0118],\n        [0.0015, 0.0113, 0.0244, 0.001 , 0.0023, 0.0193, 0.0249, 0.0174, 0.0032, 0.0111, 0.009 ,\n         0.0115, 0.008 , 0.0038, 0.0038, 0.0307, 0.0301, 0.0048, 0.0067, 0.001 , 0.0088, 0.0193,\n         0.0006, 0.0113, 0.0018, 0.0108, 0.0067, 0.0107, 0.0141, 0.0174, 0.0044, 0.0016, 0.0076,\n         0.0084, 0.0044, 0.0216, 0.0002, 0.0007, 0.0171, 0.0128, 0.0008, 0.0233, 0.0106, 0.0384,\n         0.0024, 0.0332, 0.0041, 0.0032, 0.0101, 0.0004, 0.0012, 0.0002, 0.0019, 0.0106, 0.003 ,\n         0.0045, 0.0028, 0.0001, 0.0162, 0.0285, 0.0005, 0.0196, 0.0008, 0.0021, 0.0032, 0.0027,\n         0.016 , 0.0127, 0.0031, 0.0055, 0.004 , 0.0077, 0.0032, 0.0006, 0.0038, 0.003 , 0.0036,\n         0.0038, 0.0009, 0.0027, 0.0102, 0.0207, 0.0124, 0.0211, 0.0009, 0.0266, 0.0081, 0.0006,\n         0.0126, 0.0144, 0.0617, 0.0066, 0.0008, 0.0474, 0.0236, 0.0137, 0.0001, 0.0151, 0.0015,\n         0.0009],\n        [0.0045, 0.0092, 0.0295, 0.0083, 0.0007, 0.0047, 0.0112, 0.0082, 0.0083, 0.0033, 0.0153,\n         0.0043, 0.002 , 0.0019, 0.0055, 0.0007, 0.0022, 0.0076, 0.0028, 0.0119, 0.0037, 0.0193,\n         0.0043, 0.0028, 0.0049, 0.012 , 0.0053, 0.0253, 0.0033, 0.0051, 0.0181, 0.0115, 0.0121,\n         0.0015, 0.0015, 0.043 , 0.0309, 0.0035, 0.003 , 0.052 , 0.0207, 0.0047, 0.0053, 0.0002,\n         0.0021, 0.0042, 0.0061, 0.0135, 0.0035, 0.0005, 0.0064, 0.0005, 0.0087, 0.0206, 0.0123,\n         0.017 , 0.0027, 0.0047, 0.0013, 0.0052, 0.0024, 0.0075, 0.0139, 0.0073, 0.0002, 0.0399,\n         0.014 , 0.0077, 0.0052, 0.0018, 0.0094, 0.0066, 0.0153, 0.0026, 0.02  , 0.013 , 0.0279,\n         0.0031, 0.0169, 0.002 , 0.0097, 0.0106, 0.0003, 0.01  , 0.0002, 0.0081, 0.0009, 0.0012,\n         0.0057, 0.0023, 0.0091, 0.0527, 0.0043, 0.0177, 0.0251, 0.001 , 0.0184, 0.0012, 0.0171,\n         0.0425],\n        [0.0002, 0.011 , 0.0068, 0.0095, 0.0219, 0.0234, 0.0266, 0.0031, 0.0006, 0.001 , 0.0044,\n         0.0095, 0.0067, 0.0094, 0.0206, 0.0054, 0.0219, 0.017 , 0.0067, 0.0265, 0.0013, 0.0033,\n         0.0011, 0.0044, 0.0021, 0.0039, 0.0046, 0.0104, 0.0017, 0.0074, 0.0005, 0.0138, 0.0082,\n         0.0053, 0.0161, 0.0075, 0.0089, 0.0008, 0.0159, 0.0171, 0.0068, 0.0058, 0.0004, 0.0004,\n         0.012 , 0.004 , 0.0029, 0.0001, 0.0078, 0.0128, 0.0108, 0.0137, 0.0137, 0.0313, 0.0162,\n         0.0319, 0.0005, 0.006 , 0.0022, 0.0119, 0.0234, 0.0024, 0.0069, 0.0004, 0.0092, 0.0054,\n         0.0001, 0.0029, 0.0094, 0.0174, 0.0064, 0.0048, 0.028 , 0.022 , 0.0222, 0.0032, 0.0141,\n         0.0104, 0.0041, 0.0013, 0.0385, 0.0004, 0.0025, 0.0264, 0.0057, 0.0188, 0.0104, 0.0102,\n         0.0198, 0.001 , 0.0055, 0.0044, 0.0039, 0.0096, 0.0314, 0.0169, 0.0189, 0.0005, 0.0206,\n         0.0027],\n        [0.0005, 0.0123, 0.0093, 0.0097, 0.0048, 0.0166, 0.0175, 0.0114, 0.0034, 0.0366, 0.0033,\n         0.0041, 0.0124, 0.0378, 0.0183, 0.0138, 0.0103, 0.0005, 0.0016, 0.0086, 0.0024, 0.0055,\n         0.0038, 0.0168, 0.0014, 0.0042, 0.0129, 0.0092, 0.0054, 0.0112, 0.013 , 0.0116, 0.0107,\n         0.0315, 0.0032, 0.0004, 0.0104, 0.0042, 0.0045, 0.0337, 0.0202, 0.0031, 0.0021, 0.0334,\n         0.0075, 0.0094, 0.0032, 0.025 , 0.0023, 0.0062, 0.0044, 0.016 , 0.0131, 0.0053, 0.0031,\n         0.0099, 0.002 , 0.0074, 0.0254, 0.0134, 0.0087, 0.0033, 0.0066, 0.0217, 0.0078, 0.0325,\n         0.0023, 0.002 , 0.0111, 0.0118, 0.0015, 0.0129, 0.0116, 0.0067, 0.0138, 0.0061, 0.0013,\n         0.0089, 0.0015, 0.0186, 0.0223, 0.0024, 0.0069, 0.0019, 0.0019, 0.0024, 0.0115, 0.0178,\n         0.005 , 0.0141, 0.0028, 0.0332, 0.0029, 0.0147, 0.0115, 0.0008, 0.0065, 0.0043, 0.0032,\n         0.0021]]))"
     },
     "execution_count": 7,
     "metadata": {},
     "output_type": "execute_result"
    }
   ],
   "source": [
    "transition_probs, emission_probs"
   ],
   "metadata": {
    "collapsed": false,
    "ExecuteTime": {
     "end_time": "2024-01-03T07:24:01.011673Z",
     "start_time": "2024-01-03T07:24:01.007361Z"
    }
   },
   "id": "5787eb87b6c9d3b8"
  },
  {
   "cell_type": "code",
   "execution_count": 14,
   "outputs": [],
   "source": [
    "# Simulate the HMM and generate strings (observation sequences)\n",
    "def simulate_hmm(num_sequences, min_length, max_length, start_prob, trans_prob, emis_prob):\n",
    "    sequences = []\n",
    "    hidden_states = []\n",
    "    for _ in range(num_sequences):\n",
    "        sequence_length = np.random.randint(min_length, max_length+1)\n",
    "        current_state = np.random.choice(num_states, p=start_prob)\n",
    "        observation_sequence = []\n",
    "        state_sequence = []\n",
    "        for _ in range(sequence_length):\n",
    "            state_sequence.append(current_state)\n",
    "            observation = np.random.choice(num_observations, p=emis_prob[current_state])\n",
    "            observation_sequence.append(observation)\n",
    "            current_state = np.random.choice(num_states, p=trans_prob[current_state])\n",
    "        sequences.append(observation_sequence)\n",
    "        hidden_states.append(state_sequence)\n",
    "    \n",
    "    return sequences, hidden_states"
   ],
   "metadata": {
    "collapsed": false,
    "ExecuteTime": {
     "end_time": "2024-01-03T08:37:33.962566Z",
     "start_time": "2024-01-03T08:37:33.954625Z"
    }
   },
   "id": "85b308da5c51be6"
  },
  {
   "cell_type": "code",
   "execution_count": 34,
   "outputs": [],
   "source": [
    "syn_sequences, syn_hidden_states = simulate_hmm(\n",
    "    num_sequences=50000,\n",
    "    min_length=10,\n",
    "    max_length=30,\n",
    "    start_prob=initial_state_dist,\n",
    "    trans_prob=transition_probs,\n",
    "    emis_prob=emission_probs\n",
    ")"
   ],
   "metadata": {
    "collapsed": false,
    "ExecuteTime": {
     "end_time": "2024-01-03T10:37:56.933438Z",
     "start_time": "2024-01-03T10:37:44.592911Z"
    }
   },
   "id": "6c16f85519b2011c"
  },
  {
   "cell_type": "code",
   "execution_count": 35,
   "outputs": [],
   "source": [
    "def add_noise_to_states(hidden_states, flip_prob=0.1):\n",
    "    noisy_hidden_states = []\n",
    "    for sequence in hidden_states:\n",
    "        noisy_sequence = []\n",
    "        for state in sequence:\n",
    "            if np.random.rand() < flip_prob:\n",
    "                # Flip the state to a different random state\n",
    "                possible_states = list(range(num_states))\n",
    "                possible_states.remove(state)  # Remove the current state from possibilities\n",
    "                new_state = np.random.choice(possible_states)\n",
    "                noisy_sequence.append(new_state)\n",
    "            else:\n",
    "                noisy_sequence.append(state)\n",
    "        noisy_hidden_states.append(noisy_sequence)\n",
    "    return noisy_hidden_states"
   ],
   "metadata": {
    "collapsed": false,
    "ExecuteTime": {
     "end_time": "2024-01-03T10:37:58.540680Z",
     "start_time": "2024-01-03T10:37:58.537904Z"
    }
   },
   "id": "4c1df1520b1d43fe"
  },
  {
   "cell_type": "code",
   "execution_count": 36,
   "outputs": [],
   "source": [
    "noisy_hidden_states = add_noise_to_states(syn_hidden_states, 0.1)"
   ],
   "metadata": {
    "collapsed": false,
    "ExecuteTime": {
     "end_time": "2024-01-03T10:38:03.732220Z",
     "start_time": "2024-01-03T10:38:03.066272Z"
    }
   },
   "id": "3343e831aac7349"
  },
  {
   "cell_type": "code",
   "execution_count": 37,
   "outputs": [
    {
     "name": "stdout",
     "output_type": "stream",
     "text": [
      "[27, 80, 74, 75, 54, 27, 39, 67, 42, 74, 75, 67, 66, 53, 98, 5, 36, 54, 85, 70, 9, 74, 50, 36, 8, 0, 65, 66, 54]\n",
      "[92, 13, 42, 81, 69, 17, 24, 88, 4, 67, 90, 88, 58, 23]\n",
      "[4, 4, 73, 32, 28, 76, 97, 57, 52, 16, 81, 53, 8, 91, 0, 57, 14, 74, 50, 17, 53, 76, 2, 74, 14, 94, 95, 52]\n",
      "[31, 96, 91, 52, 0, 12, 19, 5, 88, 97, 52, 32, 98, 15]\n",
      "[13, 95, 19, 85, 77, 77, 68, 6, 58, 96, 14]\n",
      "[2, 4, 8, 5, 4, 8, 6, 1, 1, 9, 1, 5, 6, 1, 8, 6, 2, 4, 8, 1, 9, 4, 8, 9, 4, 1, 4, 7, 4]\n",
      "[2, 4, 8, 5, 4, 8, 6, 1, 1, 9, 1, 5, 6, 1, 8, 6, 1, 4, 8, 1, 9, 4, 8, 9, 4, 1, 4, 5, 4]\n",
      "--------------------\n",
      "[2, 2, 6, 1, 4, 8, 4, 8, 9, 6, 6, 7, 4, 4]\n",
      "[2, 2, 6, 1, 3, 8, 4, 8, 9, 6, 6, 7, 4, 4]\n",
      "--------------------\n",
      "[3, 7, 1, 1, 4, 8, 1, 4, 5, 6, 1, 8, 3, 2, 3, 4, 8, 9, 4, 8, 8, 3, 1, 9, 8, 1, 4, 8]\n",
      "[3, 7, 5, 1, 4, 8, 1, 4, 5, 6, 1, 8, 1, 2, 3, 4, 8, 9, 4, 8, 8, 3, 1, 6, 5, 1, 4, 0]\n",
      "--------------------\n",
      "[4, 8, 9, 4, 2, 4, 8, 1, 8, 1, 3, 4, 1, 4]\n",
      "[4, 8, 9, 4, 2, 4, 8, 1, 8, 1, 3, 4, 1, 4]\n",
      "--------------------\n",
      "[1, 4, 2, 0, 1, 4, 6, 0, 3, 1, 3]\n",
      "[1, 9, 2, 0, 1, 4, 6, 0, 3, 1, 3]\n",
      "--------------------\n"
     ]
    }
   ],
   "source": [
    "for seq in syn_sequences[:5]:\n",
    "    print('[' + ', '.join(map(str, seq)) + ']')\n",
    "for index in range(len(noisy_hidden_states[:5])):\n",
    "    print('[' + ', '.join(map(str, syn_hidden_states[:5][index])) + ']')\n",
    "    print('[' + ', '.join(map(str, noisy_hidden_states[:5][index])) + ']')\n",
    "    print(\"--------------------\")"
   ],
   "metadata": {
    "collapsed": false,
    "ExecuteTime": {
     "end_time": "2024-01-03T10:38:07.468671Z",
     "start_time": "2024-01-03T10:38:07.456312Z"
    }
   },
   "id": "d00225ae5631839d"
  },
  {
   "cell_type": "code",
   "execution_count": 38,
   "outputs": [],
   "source": [
    "file_path = \"../data/hmm_synthetic_dataset.npz\"\n",
    "seq_object = np.array(syn_sequences, dtype=object)\n",
    "hid_object = np.array(syn_hidden_states, dtype=object)\n",
    "noisy_hid_object = np.array(noisy_hidden_states, dtype=object)\n",
    "np.savez(file_path, observation=seq_object, real_hidden=hid_object, noisy_hidden=noisy_hid_object)"
   ],
   "metadata": {
    "collapsed": false,
    "ExecuteTime": {
     "end_time": "2024-01-03T10:38:15.529391Z",
     "start_time": "2024-01-03T10:38:15.379474Z"
    }
   },
   "id": "47acd9564d1a48a7"
  },
  {
   "cell_type": "code",
   "execution_count": 31,
   "outputs": [],
   "source": [
    "loaded_npz = np.load(\"../data/hmm_synthetic_dataset.npz\", allow_pickle=True)\n",
    "observations = list(loaded_npz['observation'])\n",
    "hidden_states = list(loaded_npz['real_hidden'])\n",
    "noi_hidden_states = list(loaded_npz['noisy_hidden'])"
   ],
   "metadata": {
    "collapsed": false,
    "ExecuteTime": {
     "end_time": "2024-01-03T09:02:26.407648Z",
     "start_time": "2024-01-03T09:02:26.357944Z"
    }
   },
   "id": "dadee89dcb523e94"
  },
  {
   "cell_type": "code",
   "execution_count": 32,
   "outputs": [
    {
     "name": "stdout",
     "output_type": "stream",
     "text": [
      "[44, 47, 52, 52, 12, 2, 58, 16, 26, 80, 54, 76, 73, 12, 22, 0, 41, 35, 94, 39, 5, 90, 54]\n",
      "[50, 11, 73, 45, 98, 62, 14, 49, 83, 89, 63, 49, 10, 53, 80]\n",
      "[54, 42, 69, 94, 70, 54, 68, 2, 77, 10, 53, 39, 33]\n",
      "[52, 64, 39, 88, 98, 75, 65, 53, 55, 64, 93, 41]\n",
      "[62, 69, 16, 31, 40, 81, 12, 14, 92, 65, 52, 89, 10, 15, 81, 25, 52, 43, 1, 0, 79, 91, 17]\n",
      "[8, 6, 1, 3, 8, 1, 4, 5, 2, 4, 5, 7, 0, 1, 2, 2, 6, 7, 8, 9, 8, 6, 1]\n",
      "[8, 6, 1, 3, 8, 1, 3, 7, 2, 4, 5, 7, 0, 1, 2, 2, 6, 7, 8, 9, 8, 6, 1]\n",
      "--------------------\n",
      "[5, 6, 1, 6, 1, 5, 8, 3, 6, 6, 6, 0, 0, 1, 4]\n",
      "[2, 6, 1, 6, 1, 5, 8, 3, 6, 6, 6, 0, 6, 1, 4]\n",
      "--------------------\n",
      "[5, 0, 1, 4, 5, 0, 1, 6, 2, 4, 6, 6, 2]\n",
      "[5, 0, 1, 4, 5, 0, 1, 6, 6, 4, 6, 6, 2]\n",
      "--------------------\n",
      "[7, 1, 4, 4, 8, 1, 5, 6, 3, 0, 4, 8]\n",
      "[7, 1, 4, 4, 8, 1, 5, 6, 3, 7, 4, 8]\n",
      "--------------------\n",
      "[9, 4, 5, 3, 7, 1, 8, 6, 1, 8, 3, 5, 7, 8, 5, 6, 2, 6, 1, 4, 5, 7, 2]\n",
      "[9, 4, 5, 3, 7, 1, 8, 6, 1, 4, 7, 5, 7, 8, 5, 6, 2, 6, 1, 4, 5, 7, 3]\n",
      "--------------------\n"
     ]
    }
   ],
   "source": [
    "for seq in observations[:5]:\n",
    "    print('[' + ', '.join(map(str, seq)) + ']')\n",
    "for index in range(len(hidden_states[:5])):\n",
    "    print('[' + ', '.join(map(str, hidden_states[:5][index])) + ']')\n",
    "    print('[' + ', '.join(map(str, noi_hidden_states[:5][index])) + ']')\n",
    "    print(\"--------------------\")"
   ],
   "metadata": {
    "collapsed": false,
    "ExecuteTime": {
     "end_time": "2024-01-03T09:02:44.634073Z",
     "start_time": "2024-01-03T09:02:44.631580Z"
    }
   },
   "id": "3301997bc52424a0"
  },
  {
   "cell_type": "markdown",
   "source": [
    "### Initailise my model with pre-defined params"
   ],
   "metadata": {
    "collapsed": false
   },
   "id": "5d8ecadb0a8a279c"
  },
  {
   "cell_type": "code",
   "execution_count": 45,
   "outputs": [],
   "source": [
    "split = 5000\n",
    "param_observed = observations[:split]\n",
    "param_hidden = hidden_states[:split]\n",
    "train_observed = observations[split:]\n",
    "train_hidden = hidden_states[split:]"
   ],
   "metadata": {
    "collapsed": false,
    "ExecuteTime": {
     "end_time": "2024-01-03T06:36:30.442836Z",
     "start_time": "2024-01-03T06:36:30.433521Z"
    }
   },
   "id": "9499c1999fa47f9c"
  },
  {
   "cell_type": "code",
   "execution_count": 41,
   "outputs": [],
   "source": [
    "trans_count = np.zeros((num_states, num_states), dtype='int')\n",
    "emis_count = np.zeros((num_observations, num_states), dtype='int')"
   ],
   "metadata": {
    "collapsed": false,
    "ExecuteTime": {
     "end_time": "2024-01-03T06:31:34.765478Z",
     "start_time": "2024-01-03T06:31:34.753660Z"
    }
   },
   "id": "690c39ff1df7c74e"
  },
  {
   "cell_type": "code",
   "execution_count": 88,
   "outputs": [],
   "source": [
    "for i in range(split):\n",
    "    for t in range(len(param_hidden[i])):\n",
    "        emis_count[param_observed[i][t], param_hidden[i][t]] += 1\n",
    "        if t > 0: \n",
    "            trans_count[param_hidden[i][t], param_hidden[i][t - 1]] += 1"
   ],
   "metadata": {
    "collapsed": false,
    "ExecuteTime": {
     "end_time": "2024-01-03T07:10:45.168093Z",
     "start_time": "2024-01-03T07:10:45.166586Z"
    }
   },
   "id": "cd05aed567ce9b5a"
  },
  {
   "cell_type": "code",
   "execution_count": 1,
   "outputs": [
    {
     "ename": "NameError",
     "evalue": "name 'trans_count' is not defined",
     "output_type": "error",
     "traceback": [
      "\u001B[0;31m---------------------------------------------------------------------------\u001B[0m",
      "\u001B[0;31mNameError\u001B[0m                                 Traceback (most recent call last)",
      "Cell \u001B[0;32mIn [1], line 1\u001B[0m\n\u001B[0;32m----> 1\u001B[0m \u001B[43mtrans_count\u001B[49m, emis_count\n",
      "\u001B[0;31mNameError\u001B[0m: name 'trans_count' is not defined"
     ]
    }
   ],
   "source": [
    "trans_count, emis_count"
   ],
   "metadata": {
    "collapsed": false,
    "ExecuteTime": {
     "end_time": "2024-01-03T07:17:33.206946Z",
     "start_time": "2024-01-03T07:17:33.118873Z"
    }
   },
   "id": "4296c0dde8c20b4f"
  },
  {
   "cell_type": "markdown",
   "source": [
    "### Test my model on the synthetic dataset"
   ],
   "metadata": {
    "collapsed": false
   },
   "id": "70fbef4fe0952ec5"
  },
  {
   "cell_type": "code",
   "execution_count": 30,
   "outputs": [
    {
     "data": {
      "text/plain": "28"
     },
     "execution_count": 30,
     "metadata": {},
     "output_type": "execute_result"
    }
   ],
   "source": [
    "len(dataset[2])"
   ],
   "metadata": {
    "collapsed": false,
    "ExecuteTime": {
     "end_time": "2024-01-03T06:18:22.778691Z",
     "start_time": "2024-01-03T06:18:22.768435Z"
    }
   },
   "id": "4494228f5d1b6055"
  },
  {
   "cell_type": "code",
   "execution_count": 110,
   "outputs": [],
   "source": [
    "%load_ext autoreload\n",
    "%autoreload 2"
   ],
   "metadata": {
    "collapsed": false,
    "ExecuteTime": {
     "end_time": "2024-01-03T07:17:05.150034Z",
     "start_time": "2024-01-03T07:17:05.121977Z"
    }
   },
   "id": "ce84f9c7e94ab89d"
  },
  {
   "cell_type": "code",
   "execution_count": 2,
   "outputs": [
    {
     "ename": "NameError",
     "evalue": "name 'dataset' is not defined",
     "output_type": "error",
     "traceback": [
      "\u001B[0;31m---------------------------------------------------------------------------\u001B[0m",
      "\u001B[0;31mNameError\u001B[0m                                 Traceback (most recent call last)",
      "Cell \u001B[0;32mIn [2], line 4\u001B[0m\n\u001B[1;32m      2\u001B[0m \u001B[38;5;28;01mfrom\u001B[39;00m \u001B[38;5;21;01mdirect_assign_gibbs_pos\u001B[39;00m \u001B[38;5;28;01mimport\u001B[39;00m DirectAssignmentPOS\n\u001B[1;32m      3\u001B[0m model \u001B[38;5;241m=\u001B[39m HDPHMM()\n\u001B[0;32m----> 4\u001B[0m sampler \u001B[38;5;241m=\u001B[39m DirectAssignmentPOS(model, \u001B[43mdataset\u001B[49m, num_observations)\n\u001B[1;32m      5\u001B[0m sampler\u001B[38;5;241m.\u001B[39mK \u001B[38;5;241m=\u001B[39m \u001B[38;5;241m10\u001B[39m\n\u001B[1;32m      6\u001B[0m sampler\u001B[38;5;241m.\u001B[39mtransition_count \u001B[38;5;241m=\u001B[39m trans_count\u001B[38;5;241m.\u001B[39mcopy()\n",
      "\u001B[0;31mNameError\u001B[0m: name 'dataset' is not defined"
     ]
    }
   ],
   "source": [
    "from hdp_hmm import HDPHMM\n",
    "from direct_assign_gibbs_pos import DirectAssignmentPOS\n",
    "model = HDPHMM()\n",
    "sampler = DirectAssignmentPOS(model, dataset, num_observations)\n",
    "sampler.K = 10\n",
    "sampler.transition_count = trans_count.copy()\n",
    "sampler.token_state_matrix = emis_count.copy()\n",
    "sampler.hidden_states = [np.zeros(seq_len, dtype='int') for seq_len in sampler.seq_length]\n",
    "for i in range(9):\n",
    "    sampler.model.update_beta_with_new_state()\n",
    "    \n",
    "iterations = 5\n",
    "for iteration in tqdm.tqdm(range(iterations), desc=\"training sampler:\"):\n",
    "    for index in range(len(train_observed)):\n",
    "        for t in range(1, sampler.seq_length[index] - 1):\n",
    "            sampler.sample_hidden_states_on_last_next_state(index, t)\n",
    "            \n",
    "        sampler.sample_hidden_states_on_last_state(index, sampler.seq_length[index] - 1)\n",
    "        \n",
    "    sampler.update_K()\n",
    "    # print(\"hidden states after update K:\", sampler.hidden_states[:5])\n",
    "    print(\"new K: \", sampler.K)\n",
    "    sampler.sample_m()\n",
    "    sampler.sample_beta()\n",
    "    sampler.sample_alpha()\n",
    "    sampler.sample_gamma()"
   ],
   "metadata": {
    "collapsed": false,
    "ExecuteTime": {
     "end_time": "2024-01-03T07:21:27.705514Z",
     "start_time": "2024-01-03T07:21:27.288935Z"
    }
   },
   "id": "5fba7c6cff2ee34b"
  }
 ],
 "metadata": {
  "kernelspec": {
   "display_name": "Python 3",
   "language": "python",
   "name": "python3"
  },
  "language_info": {
   "codemirror_mode": {
    "name": "ipython",
    "version": 2
   },
   "file_extension": ".py",
   "mimetype": "text/x-python",
   "name": "python",
   "nbconvert_exporter": "python",
   "pygments_lexer": "ipython2",
   "version": "2.7.6"
  }
 },
 "nbformat": 4,
 "nbformat_minor": 5
}
