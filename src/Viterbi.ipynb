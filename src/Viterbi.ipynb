{
 "cells": [
  {
   "cell_type": "code",
   "execution_count": 2,
   "id": "initial_id",
   "metadata": {
    "collapsed": true,
    "ExecuteTime": {
     "end_time": "2024-02-01T20:50:06.312503Z",
     "start_time": "2024-02-01T20:50:06.159948Z"
    }
   },
   "outputs": [],
   "source": [
    "from utils.const import SAVE_PATH, LOAD_PATH\n",
    "import numpy as np"
   ]
  },
  {
   "cell_type": "code",
   "execution_count": 12,
   "outputs": [],
   "source": [
    "np.set_printoptions(suppress=True, precision=4)\n",
    "np.set_printoptions(linewidth=100, threshold=np.inf)\n",
    "np.set_printoptions(formatter={'int': '{:5d}'.format})"
   ],
   "metadata": {
    "collapsed": false,
    "ExecuteTime": {
     "end_time": "2024-02-01T20:53:01.197338Z",
     "start_time": "2024-02-01T20:53:01.184632Z"
    }
   },
   "id": "9e6b50f23c1a0711"
  },
  {
   "cell_type": "code",
   "execution_count": 18,
   "outputs": [],
   "source": [
    "PATH = SAVE_PATH + ''\n",
    "DATA_PATH = '../data/hmm_synthetic_dataset(noise-0.5_state-10_obs-500_size-50000).npz'\n",
    "NUM_STATES = 10"
   ],
   "metadata": {
    "collapsed": false,
    "ExecuteTime": {
     "end_time": "2024-02-01T20:56:52.182666Z",
     "start_time": "2024-02-01T20:56:52.162394Z"
    }
   },
   "id": "587f8ec43b0b61ad"
  },
  {
   "cell_type": "code",
   "execution_count": 9,
   "outputs": [],
   "source": [
    "# loaded_npz_trained = np.load(PATH)\n",
    "loaded_npz_real = np.load(DATA_PATH, allow_pickle=True)"
   ],
   "metadata": {
    "collapsed": false,
    "ExecuteTime": {
     "end_time": "2024-02-01T20:52:00.890787Z",
     "start_time": "2024-02-01T20:52:00.872601Z"
    }
   },
   "id": "8609ba008d02246c"
  },
  {
   "cell_type": "code",
   "execution_count": 38,
   "outputs": [],
   "source": [
    "# trans_dist = loaded_npz_trained['trans_dist']\n",
    "# emis_dist = loaded_npz_trained['emis_dist']\n",
    "real_trans_dist = loaded_npz_real['real_trans']\n",
    "real_emis_dist = loaded_npz_real['emis']\n",
    "observations = loaded_npz_real['observation']\n",
    "real_hidden_states = loaded_npz_real['real_hidden']"
   ],
   "metadata": {
    "collapsed": false,
    "ExecuteTime": {
     "end_time": "2024-02-01T21:10:18.890199Z",
     "start_time": "2024-02-01T21:10:18.768227Z"
    }
   },
   "id": "100c96fc6997b41e"
  },
  {
   "cell_type": "code",
   "execution_count": 39,
   "outputs": [],
   "source": [
    "initial_prob = np.array([1 / (NUM_STATES - 1)] * (NUM_STATES - 1))\n",
    "real_trans_dist = np.vstack((initial_prob.reshape(1, -1), real_trans_dist))\n",
    "real_trans_dist = np.hstack((np.zeros((NUM_STATES, 1)), real_trans_dist))"
   ],
   "metadata": {
    "collapsed": false,
    "ExecuteTime": {
     "end_time": "2024-02-01T21:10:24.093996Z",
     "start_time": "2024-02-01T21:10:24.062641Z"
    }
   },
   "id": "8b63034043b081b6"
  },
  {
   "cell_type": "code",
   "execution_count": 13,
   "outputs": [
    {
     "name": "stdout",
     "output_type": "stream",
     "text": [
      "[[0.2532 0.0706 0.0888 0.0549 0.1236 0.0449 0.2569 0.0032 0.1039]\n",
      " [0.5177 0.0029 0.128  0.0116 0.0526 0.     0.1001 0.0812 0.1059]\n",
      " [0.0141 0.0235 0.0264 0.0019 0.0023 0.0149 0.1922 0.418  0.3069]\n",
      " [0.0206 0.1273 0.1187 0.057  0.517  0.     0.0467 0.1071 0.0056]\n",
      " [0.0892 0.0101 0.0998 0.4871 0.0902 0.0053 0.0143 0.0438 0.1601]\n",
      " [0.2458 0.     0.1682 0.0099 0.0352 0.0025 0.0475 0.4803 0.0106]\n",
      " [0.1942 0.0254 0.0136 0.0311 0.1394 0.1462 0.0589 0.244  0.1472]\n",
      " [0.4467 0.0001 0.0835 0.0075 0.0185 0.0008 0.259  0.1204 0.0634]\n",
      " [0.1549 0.0057 0.0536 0.5995 0.0827 0.     0.0292 0.0107 0.0636]]\n",
      "[-1, 59, 204, 365, 20, 378, 216, 239, 453, 253, 1, 424, 113, 461, 464, 338, 68, 338, 340, 41, 454, 278, 425, 123, 277, 303]\n",
      "[-1, 309, 257, 430, 128, 114, 464, 329, 219, 313, 124, 303, 255, 371, 336, 167, 414, 466, 444, 226, 115, 351, 113, 70, 65, 382, 284]\n",
      "[-1, 309, 427, 430, 242, 382, 364, 242, 247, 169, 246, 158]\n",
      "[-1, 328, 335, 377, 387, 378, 316, 179, 292, 488, 190, 135, 262, 270, 336, 141, 136]\n",
      "[-1, 254, 62, 436, 275, 162, 252, 439, 377, 252, 59, 158, 236, 481, 203, 417, 112]\n",
      "[0, 8, 3, 9, 5, 4, 5, 4, 7, 8, 1, 9, 5, 5, 4, 5, 2, 1, 1, 2, 7, 8, 8, 8, 7, 8]\n",
      "--------------------\n",
      "[0, 3, 8, 3, 1, 7, 9, 4, 8, 7, 8, 1, 5, 9, 4, 5, 4, 8, 3, 8, 1, 7, 1, 4, 7, 8, 1]\n",
      "--------------------\n",
      "[0, 5, 4, 5, 1, 9, 5, 3, 7, 7, 9, 9]\n",
      "--------------------\n",
      "[0, 2, 1, 3, 8, 1, 3, 3, 3, 8, 7, 8, 7, 9, 4, 5, 3]\n",
      "--------------------\n",
      "[0, 1, 1, 5, 4, 3, 8, 1, 5, 4, 2, 4, 4, 3, 8, 1, 5]\n",
      "--------------------\n"
     ]
    }
   ],
   "source": [
    "print(real_trans_dist)\n",
    "for seq in observations[:5]:\n",
    "    print('[' + ', '.join(map(str, seq)) + ']')\n",
    "for index in range(len(real_hidden_states[:5])):\n",
    "    print('[' + ', '.join(map(str, real_hidden_states[:5][index])) + ']')\n",
    "    print(\"--------------------\")"
   ],
   "metadata": {
    "collapsed": false,
    "ExecuteTime": {
     "end_time": "2024-02-01T20:53:02.815312Z",
     "start_time": "2024-02-01T20:53:02.785068Z"
    }
   },
   "id": "3c800cb784f94806"
  },
  {
   "cell_type": "code",
   "execution_count": 41,
   "outputs": [],
   "source": [
    "test_index = np.random.choice(len(observations), 500)\n",
    "test_observations = observations[test_index]\n",
    "test_hidden_states = real_hidden_states[test_index]"
   ],
   "metadata": {
    "collapsed": false,
    "ExecuteTime": {
     "end_time": "2024-02-01T21:11:21.749276Z",
     "start_time": "2024-02-01T21:11:21.727867Z"
    }
   },
   "id": "91ee1732fd15b6d"
  },
  {
   "cell_type": "code",
   "execution_count": 42,
   "outputs": [],
   "source": [
    "for i in range(len(test_observations)):\n",
    "    assert len(test_observations[i]) == len(test_hidden_states[i])"
   ],
   "metadata": {
    "collapsed": false,
    "ExecuteTime": {
     "end_time": "2024-02-01T21:11:37.363203Z",
     "start_time": "2024-02-01T21:11:37.361292Z"
    }
   },
   "id": "9886bf1dd61e9b21"
  },
  {
   "cell_type": "code",
   "execution_count": 44,
   "outputs": [
    {
     "name": "stdout",
     "output_type": "stream",
     "text": [
      "[-1, 359, 200, 410, 25, 193, 388, 115, 342, 8, 476, 190, 258, 276, 63, 453, 309, 475, 397, 401, 136, 27, 243, 362, 108, 5, 329, 373, 469]\n",
      "[-1, 213, 155, 424, 397, 345, 416, 74, 265, 71, 430, 404, 281, 207, 35]\n",
      "[-1, 341, 472, 429, 428, 81, 474, 158, 194, 44, 70, 243, 287, 323, 431, 162, 77, 263, 117, 367, 33, 9, 198, 464, 0]\n",
      "[-1, 135, 223, 262, 379, 65, 23, 150, 77, 133, 397, 91, 457]\n",
      "[-1, 44, 276, 332, 364, 41, 226, 190, 63, 213, 66, 173, 12, 138, 155, 327, 22, 64, 242, 191, 50, 439, 424, 473, 95, 292, 61, 426, 52, 407]\n",
      "[0, 6, 8, 1, 7, 6, 8, 1, 6, 3, 9, 4, 5, 4, 5, 4, 3, 7, 8, 7, 3, 8, 1, 7, 7, 9, 4, 5, 9]\n",
      "--------------------\n",
      "[0, 7, 6, 7, 1, 1, 5, 4, 4, 8, 7, 6, 8, 9, 1]\n",
      "--------------------\n",
      "[0, 3, 8, 1, 7, 7, 9, 4, 5, 9, 3, 8, 8, 1, 9, 7, 1, 3, 9, 4, 3, 9, 9, 4, 5]\n",
      "--------------------\n",
      "[0, 8, 8, 4, 2, 3, 8, 7, 5, 4, 5, 9, 4]\n",
      "--------------------\n",
      "[0, 2, 7, 9, 5, 4, 3, 7, 5, 9, 3, 3, 8, 8, 7, 8, 8, 1, 7, 6, 1, 5, 1, 7, 6, 8, 1, 6, 8, 9]\n",
      "--------------------\n"
     ]
    }
   ],
   "source": [
    "for seq in test_observations[:5]:\n",
    "    print('[' + ', '.join(map(str, seq)) + ']')\n",
    "for index in range(len(test_hidden_states[:5])):\n",
    "    print('[' + ', '.join(map(str, test_hidden_states[:5][index])) + ']')\n",
    "    print(\"--------------------\")"
   ],
   "metadata": {
    "collapsed": false,
    "ExecuteTime": {
     "end_time": "2024-02-01T21:12:00.832798Z",
     "start_time": "2024-02-01T21:12:00.812954Z"
    }
   },
   "id": "3a1c14dedf055edd"
  },
  {
   "cell_type": "markdown",
   "source": [
    "Random select 500 sequences from the training dataset, \n",
    "run viterbi to decode based on trained distributions. \n",
    "calculate 0-1 loss. "
   ],
   "metadata": {
    "collapsed": false
   },
   "id": "75a8569d03787da8"
  },
  {
   "cell_type": "code",
   "execution_count": 51,
   "outputs": [],
   "source": [
    "def viterbi(observations, num_states, transition_prob, emission_prob):\n",
    "    \n",
    "    V = np.zeros((num_states, len(observations)))\n",
    "    path = {}\n",
    "    # first column of V is the transition prob from state 0 \n",
    "    V[:, 0] = transition_prob[0, :]\n",
    "\n",
    "    for t in range(1, len(observations)):\n",
    "        for s in range(1, num_states):\n",
    "            prob = V[:, t-1] * transition_prob[:, s] * emission_prob[s - 1, observations[t]]\n",
    "            V[s, t] = np.max(prob)\n",
    "            path[s, t] = np.argmax(prob)\n",
    "\n",
    "    optimal_path = []\n",
    "    last_state = np.argmax(V[:, -1])\n",
    "    optimal_path.append(last_state)\n",
    "\n",
    "    for t in range(len(observations) - 1, 1, -1):\n",
    "        last_state = path[last_state, t]\n",
    "        optimal_path.insert(0, last_state)\n",
    "        \n",
    "    optimal_path.insert(0, 0)\n",
    "\n",
    "    return optimal_path"
   ],
   "metadata": {
    "collapsed": false,
    "ExecuteTime": {
     "end_time": "2024-02-01T21:21:45.455522Z",
     "start_time": "2024-02-01T21:21:45.429041Z"
    }
   },
   "id": "cd70ae1cf1542026"
  },
  {
   "cell_type": "code",
   "execution_count": 54,
   "outputs": [
    {
     "name": "stdout",
     "output_type": "stream",
     "text": [
      "13 13\n",
      "Most probable states: [0, 7, 8, 7, 8, 1, 9, 4, 5, 4, 5, 3, 8]\n",
      "Real hidden states:  [0, 5, 5, 4, 5, 3, 9, 4, 5, 3, 9, 3, 8]\n",
      "11 11\n",
      "Most probable states: [0, 1, 1, 5, 4, 3, 8, 8, 7, 8, 1]\n",
      "Real hidden states:  [0, 1, 1, 5, 4, 8, 1, 5, 7, 8, 9]\n",
      "25 25\n",
      "Most probable states: [0, 1, 1, 7, 6, 1, 7, 1, 1, 1, 7, 8, 1, 4, 5, 3, 8, 8, 1, 1, 1, 2, 1, 7, 8]\n",
      "Real hidden states:  [0, 9, 1, 7, 3, 7, 6, 3, 7, 9, 4, 5, 4, 2, 7, 1, 2, 8, 1, 1, 1, 7, 9, 5, 1]\n",
      "30 30\n",
      "Most probable states: [0, 4, 5, 4, 5, 9, 4, 5, 4, 2, 1, 1, 3, 8, 7, 8, 1, 2, 1, 5, 4, 5, 4, 5, 4, 5, 4, 5, 4, 5]\n",
      "Real hidden states:  [0, 4, 5, 4, 2, 7, 4, 5, 5, 1, 2, 1, 3, 8, 1, 1, 5, 4, 5, 3, 8, 7, 4, 5, 4, 5, 4, 3, 1, 7]\n",
      "18 18\n",
      "Most probable states: [0, 4, 5, 4, 5, 9, 4, 5, 4, 5, 4, 5, 4, 5, 4, 5, 1, 7]\n",
      "Real hidden states:  [0, 5, 1, 2, 7, 9, 4, 5, 4, 7, 8, 1, 5, 4, 2, 3, 8, 7]\n"
     ]
    }
   ],
   "source": [
    "for i, obs in enumerate(test_observations[10:15]):\n",
    "    decoded_hidden_states = viterbi(obs, NUM_STATES, real_trans_dist, real_emis_dist)\n",
    "    print(len(decoded_hidden_states), len(test_hidden_states[i + 10]))\n",
    "    print(\"Most probable states:\", decoded_hidden_states)\n",
    "    print(\"Real hidden states: \", test_hidden_states[i + 10])"
   ],
   "metadata": {
    "collapsed": false,
    "ExecuteTime": {
     "end_time": "2024-02-01T21:22:26.478675Z",
     "start_time": "2024-02-01T21:22:26.458786Z"
    }
   },
   "id": "bf37b57fab922bfc"
  },
  {
   "cell_type": "markdown",
   "source": [
    "Even created by real transition and emission distributions, the viterbi decoded sequence is not same as the orginal hidden states. So want to use real and sampled distributions to decode at the same time and compare the results. "
   ],
   "metadata": {
    "collapsed": false
   },
   "id": "97143249d3c96106"
  }
 ],
 "metadata": {
  "kernelspec": {
   "name": "porjenv",
   "language": "python",
   "display_name": "PartII Project Env"
  },
  "language_info": {
   "codemirror_mode": {
    "name": "ipython",
    "version": 2
   },
   "file_extension": ".py",
   "mimetype": "text/x-python",
   "name": "python",
   "nbconvert_exporter": "python",
   "pygments_lexer": "ipython2",
   "version": "2.7.6"
  }
 },
 "nbformat": 4,
 "nbformat_minor": 5
}
