{
 "cells": [
  {
   "cell_type": "code",
   "execution_count": 20,
   "id": "initial_id",
   "metadata": {
    "collapsed": true,
    "ExecuteTime": {
     "end_time": "2024-02-19T20:01:19.231086Z",
     "start_time": "2024-02-19T20:01:19.213447Z"
    }
   },
   "outputs": [],
   "source": [
    "from utils.const import SAVE_PATH, LOAD_PATH\n",
    "import numpy as np\n",
    "from utils.utils import compute_cost, viterbi"
   ]
  },
  {
   "cell_type": "code",
   "execution_count": 2,
   "outputs": [],
   "source": [
    "np.set_printoptions(suppress=True, precision=4)\n",
    "np.set_printoptions(linewidth=100, threshold=np.inf)\n",
    "np.set_printoptions(formatter={'int': '{:5d}'.format})"
   ],
   "metadata": {
    "collapsed": false,
    "ExecuteTime": {
     "end_time": "2024-02-19T19:46:05.014927Z",
     "start_time": "2024-02-19T19:46:04.990603Z"
    }
   },
   "id": "9e6b50f23c1a0711"
  },
  {
   "cell_type": "code",
   "execution_count": 4,
   "outputs": [],
   "source": [
    "PATH = '../result/noise-0.5_iter-200_state-10_obs-500_size-50000_timestamp-0202_044330_result.npz'\n",
    "DATA_PATH = '../data/hmm_synthetic_dataset(noise-0.5_state-10_obs-500_size-50000).npz'\n",
    "ORI_PATH  = '../result/noise-0.5_iter-0_state-10_obs-500_size-50000_result.npz'\n",
    "NUM_STATES = 10"
   ],
   "metadata": {
    "collapsed": false,
    "ExecuteTime": {
     "end_time": "2024-02-19T19:47:39.454185Z",
     "start_time": "2024-02-19T19:47:39.433339Z"
    }
   },
   "id": "587f8ec43b0b61ad"
  },
  {
   "cell_type": "code",
   "execution_count": 5,
   "outputs": [],
   "source": [
    "loaded_npz_trained = np.load(PATH)\n",
    "loaded_npz_real = np.load(DATA_PATH, allow_pickle=True)\n",
    "loaded_npz_tmp = np.load(ORI_PATH, allow_pickle=True)"
   ],
   "metadata": {
    "collapsed": false,
    "ExecuteTime": {
     "end_time": "2024-02-19T19:47:40.319865Z",
     "start_time": "2024-02-19T19:47:40.296438Z"
    }
   },
   "id": "8609ba008d02246c"
  },
  {
   "cell_type": "code",
   "execution_count": 6,
   "outputs": [],
   "source": [
    "trans_dist = loaded_npz_trained['trans_dist']\n",
    "emis_dist = loaded_npz_trained['emis_dist']\n",
    "real_trans_dist = loaded_npz_real['real_trans']\n",
    "real_emis_dist = loaded_npz_real['emis']\n",
    "observations = loaded_npz_real['observation']\n",
    "real_hidden_states = loaded_npz_real['real_hidden']\n",
    "init_trans_dist = loaded_npz_tmp['init_trans_dist']\n",
    "init_emis_dist = loaded_npz_tmp['init_emis_dist']"
   ],
   "metadata": {
    "collapsed": false,
    "ExecuteTime": {
     "end_time": "2024-02-19T19:47:41.459269Z",
     "start_time": "2024-02-19T19:47:41.348137Z"
    }
   },
   "id": "100c96fc6997b41e"
  },
  {
   "cell_type": "code",
   "execution_count": 7,
   "outputs": [
    {
     "name": "stdout",
     "output_type": "stream",
     "text": [
      "(500, 9) (11, 11)\n"
     ]
    }
   ],
   "source": [
    "print(init_emis_dist.shape, init_trans_dist.shape)"
   ],
   "metadata": {
    "collapsed": false,
    "ExecuteTime": {
     "end_time": "2024-02-19T19:47:42.965439Z",
     "start_time": "2024-02-19T19:47:42.945167Z"
    }
   },
   "id": "5476e0244571f6"
  },
  {
   "cell_type": "code",
   "execution_count": 8,
   "outputs": [],
   "source": [
    "initial_prob = np.array([1 / (NUM_STATES - 1)] * (NUM_STATES - 1))\n",
    "real_trans_dist = np.vstack((initial_prob.reshape(1, -1), real_trans_dist))\n",
    "real_trans_dist = np.hstack((np.zeros((NUM_STATES, 1)), real_trans_dist))"
   ],
   "metadata": {
    "collapsed": false,
    "ExecuteTime": {
     "end_time": "2024-02-19T19:47:57.230145Z",
     "start_time": "2024-02-19T19:47:57.205237Z"
    }
   },
   "id": "8b63034043b081b6"
  },
  {
   "cell_type": "code",
   "execution_count": 9,
   "outputs": [
    {
     "name": "stdout",
     "output_type": "stream",
     "text": [
      "(10, 10)\n",
      "(11, 11)\n"
     ]
    }
   ],
   "source": [
    "print(real_trans_dist.shape)\n",
    "print(trans_dist.shape)"
   ],
   "metadata": {
    "collapsed": false,
    "ExecuteTime": {
     "end_time": "2024-02-19T19:47:58.682400Z",
     "start_time": "2024-02-19T19:47:58.664544Z"
    }
   },
   "id": "6c64b12744d50b6"
  },
  {
   "cell_type": "code",
   "execution_count": 19,
   "outputs": [
    {
     "name": "stdout",
     "output_type": "stream",
     "text": [
      "[[0.     0.0907 0.1191 0.1224 0.102  0.1066 0.1217 0.1093 0.1072 0.1211 0.    ]\n",
      " [0.     0.236  0.0765 0.1068 0.0406 0.1177 0.0283 0.2869 0.002  0.1052 0.    ]\n",
      " [0.     0.5176 0.0039 0.1484 0.0368 0.0596 0.0021 0.0611 0.0692 0.1013 0.    ]\n",
      " [0.     0.0097 0.0107 0.0368 0.0155 0.0125 0.0192 0.1885 0.4127 0.2944 0.    ]\n",
      " [0.     0.0105 0.1304 0.1305 0.0467 0.5394 0.0063 0.0338 0.1007 0.0017 0.    ]\n",
      " [0.     0.0776 0.0108 0.1106 0.4898 0.0773 0.0108 0.0033 0.0472 0.1725 0.    ]\n",
      " [0.0001 0.2178 0.0032 0.1834 0.0153 0.0506 0.0058 0.0584 0.4432 0.0223 0.    ]\n",
      " [0.     0.1976 0.0227 0.0109 0.019  0.1307 0.1682 0.0457 0.2441 0.1612 0.    ]\n",
      " [0.     0.4604 0.0019 0.0801 0.0024 0.0213 0.0073 0.28   0.0898 0.0569 0.    ]\n",
      " [0.     0.1459 0.0034 0.0644 0.6381 0.0803 0.0042 0.0093 0.0028 0.0515 0.    ]\n",
      " [0.     0.3622 0.0903 0.0611 0.0031 0.308  0.0149 0.0959 0.0635 0.0011 0.    ]]\n",
      "[[0.0003 0.1109 0.115  0.1118 0.1134 0.1069 0.1097 0.1145 0.109  0.1084 0.0001]\n",
      " [0.0001 0.1605 0.0873 0.1017 0.1055 0.1223 0.0786 0.15   0.0855 0.1085 0.    ]\n",
      " [0.0002 0.1814 0.0765 0.1052 0.1168 0.1181 0.0706 0.1132 0.1095 0.1086 0.0001]\n",
      " [0.0002 0.1189 0.0752 0.0904 0.1076 0.1044 0.0731 0.1254 0.1645 0.1403 0.    ]\n",
      " [0.0001 0.1076 0.1018 0.1047 0.1102 0.2123 0.0684 0.099  0.1107 0.0852 0.0001]\n",
      " [0.0002 0.1237 0.0716 0.1022 0.2059 0.1137 0.0723 0.0902 0.0991 0.1211 0.    ]\n",
      " [0.0003 0.1525 0.0755 0.1047 0.1185 0.1183 0.0698 0.1101 0.1463 0.1039 0.    ]\n",
      " [0.0001 0.1465 0.0793 0.0841 0.1079 0.126  0.0955 0.1052 0.1395 0.1158 0.    ]\n",
      " [0.0001 0.1961 0.0721 0.0996 0.104  0.0989 0.069  0.1429 0.1172 0.0999 0.    ]\n",
      " [0.0002 0.1414 0.0741 0.0903 0.2121 0.1158 0.0678 0.101  0.0927 0.1044 0.0001]\n",
      " [0.0616 0.3032 0.0945 0.2118 0.1993 0.0067 0.024  0.0276 0.048  0.     0.0231]]\n"
     ]
    }
   ],
   "source": [
    "print(trans_dist)\n",
    "print(init_trans_dist)"
   ],
   "metadata": {
    "collapsed": false,
    "ExecuteTime": {
     "end_time": "2024-02-19T19:54:42.338035Z",
     "start_time": "2024-02-19T19:54:42.325438Z"
    }
   },
   "id": "cf7fa63225ab3f3e"
  },
  {
   "cell_type": "code",
   "execution_count": 11,
   "outputs": [
    {
     "name": "stdout",
     "output_type": "stream",
     "text": [
      "(500, 9)\n",
      "(9, 500)\n"
     ]
    }
   ],
   "source": [
    "print(emis_dist.shape)\n",
    "print(real_emis_dist.shape)"
   ],
   "metadata": {
    "collapsed": false,
    "ExecuteTime": {
     "end_time": "2024-02-19T19:48:15.251859Z",
     "start_time": "2024-02-19T19:48:15.232714Z"
    }
   },
   "id": "d6c6e95921ab83ca"
  },
  {
   "cell_type": "code",
   "execution_count": 12,
   "outputs": [
    {
     "name": "stdout",
     "output_type": "stream",
     "text": [
      "[-1, 59, 204, 365, 20, 378, 216, 239, 453, 253, 1, 424, 113, 461, 464, 338, 68, 338, 340, 41, 454, 278, 425, 123, 277, 303]\n",
      "[-1, 309, 257, 430, 128, 114, 464, 329, 219, 313, 124, 303, 255, 371, 336, 167, 414, 466, 444, 226, 115, 351, 113, 70, 65, 382, 284]\n",
      "[-1, 309, 427, 430, 242, 382, 364, 242, 247, 169, 246, 158]\n",
      "[-1, 328, 335, 377, 387, 378, 316, 179, 292, 488, 190, 135, 262, 270, 336, 141, 136]\n",
      "[-1, 254, 62, 436, 275, 162, 252, 439, 377, 252, 59, 158, 236, 481, 203, 417, 112]\n",
      "[0, 8, 3, 9, 5, 4, 5, 4, 7, 8, 1, 9, 5, 5, 4, 5, 2, 1, 1, 2, 7, 8, 8, 8, 7, 8]\n",
      "--------------------\n",
      "[0, 3, 8, 3, 1, 7, 9, 4, 8, 7, 8, 1, 5, 9, 4, 5, 4, 8, 3, 8, 1, 7, 1, 4, 7, 8, 1]\n",
      "--------------------\n",
      "[0, 5, 4, 5, 1, 9, 5, 3, 7, 7, 9, 9]\n",
      "--------------------\n",
      "[0, 2, 1, 3, 8, 1, 3, 3, 3, 8, 7, 8, 7, 9, 4, 5, 3]\n",
      "--------------------\n",
      "[0, 1, 1, 5, 4, 3, 8, 1, 5, 4, 2, 4, 4, 3, 8, 1, 5]\n",
      "--------------------\n"
     ]
    }
   ],
   "source": [
    "for seq in observations[:5]:\n",
    "    print('[' + ', '.join(map(str, seq)) + ']')\n",
    "for index in range(len(real_hidden_states[:5])):\n",
    "    print('[' + ', '.join(map(str, real_hidden_states[:5][index])) + ']')\n",
    "    print(\"--------------------\")"
   ],
   "metadata": {
    "collapsed": false,
    "ExecuteTime": {
     "end_time": "2024-02-19T19:48:16.170815Z",
     "start_time": "2024-02-19T19:48:16.146693Z"
    }
   },
   "id": "3c800cb784f94806"
  },
  {
   "cell_type": "code",
   "execution_count": 24,
   "outputs": [],
   "source": [
    "test_index = np.random.choice(len(observations), 500)\n",
    "test_observations = observations[test_index]\n",
    "test_hidden_states = real_hidden_states[test_index]"
   ],
   "metadata": {
    "collapsed": false,
    "ExecuteTime": {
     "end_time": "2024-02-19T20:01:37.888919Z",
     "start_time": "2024-02-19T20:01:37.876356Z"
    }
   },
   "id": "91ee1732fd15b6d"
  },
  {
   "cell_type": "code",
   "execution_count": 14,
   "outputs": [],
   "source": [
    "for i in range(len(test_observations)):\n",
    "    assert len(test_observations[i]) == len(test_hidden_states[i])"
   ],
   "metadata": {
    "collapsed": false,
    "ExecuteTime": {
     "end_time": "2024-02-19T19:48:19.050679Z",
     "start_time": "2024-02-19T19:48:19.025310Z"
    }
   },
   "id": "9886bf1dd61e9b21"
  },
  {
   "cell_type": "code",
   "execution_count": 15,
   "outputs": [
    {
     "name": "stdout",
     "output_type": "stream",
     "text": [
      "[-1, 47, 287, 248, 448, 303, 273, 372, 313, 426, 281, 431, 18, 60, 317, 173, 7, 200, 70, 366, 322]\n",
      "[-1, 143, 155, 241, 256, 394, 361, 42, 8, 97, 238, 218, 158, 289, 324, 424, 256, 229, 461, 498, 261]\n",
      "[-1, 260, 141, 141, 313, 14, 430, 259, 364, 264, 480, 324, 4, 91, 200, 268, 402, 469, 191, 407, 93, 358, 13, 80, 447, 277, 217, 328, 439, 15]\n",
      "[-1, 372, 41, 0, 373, 96, 323, 252, 253, 473, 323, 397, 110, 76, 469, 309, 93, 378, 158]\n",
      "[-1, 335, 304, 203, 328, 484, 14, 126, 8, 260, 79, 349, 260, 446, 436, 215, 378, 278, 252, 307, 166, 92, 61, 275, 200, 154, 246, 97]\n",
      "[0, 4, 5, 5, 5, 4, 2, 1, 5, 4, 8, 9, 4, 5, 4, 5, 8, 1, 7, 6, 1]\n",
      "--------------------\n",
      "[0, 4, 5, 9, 4, 8, 1, 5, 5, 1, 7, 8, 7, 8, 1, 2, 1, 5, 4, 2, 4]\n",
      "--------------------\n",
      "[0, 1, 9, 9, 3, 8, 1, 1, 5, 4, 5, 1, 3, 9, 5, 1, 2, 1, 9, 4, 5, 4, 5, 9, 4, 5, 1, 1, 1, 2]\n",
      "--------------------\n",
      "[0, 5, 4, 5, 7, 1, 1, 7, 9, 5, 9, 1, 6, 8, 9, 4, 5, 5, 9]\n",
      "--------------------\n",
      "[0, 5, 4, 8, 1, 7, 1, 7, 3, 7, 8, 1, 5, 4, 5, 7, 5, 9, 4, 5, 4, 5, 1, 5, 8, 1, 9, 4]\n",
      "--------------------\n"
     ]
    }
   ],
   "source": [
    "for seq in test_observations[:5]:\n",
    "    print('[' + ', '.join(map(str, seq)) + ']')\n",
    "for index in range(len(test_hidden_states[:5])):\n",
    "    print('[' + ', '.join(map(str, test_hidden_states[:5][index])) + ']')\n",
    "    print(\"--------------------\")"
   ],
   "metadata": {
    "collapsed": false,
    "ExecuteTime": {
     "end_time": "2024-02-19T19:48:20.137212Z",
     "start_time": "2024-02-19T19:48:20.112380Z"
    }
   },
   "id": "3a1c14dedf055edd"
  },
  {
   "cell_type": "markdown",
   "source": [
    "Random select 500 sequences from the training dataset, \n",
    "run viterbi to decode based on trained distributions. \n",
    "calculate 0-1 loss. "
   ],
   "metadata": {
    "collapsed": false
   },
   "id": "75a8569d03787da8"
  },
  {
   "cell_type": "code",
   "execution_count": 22,
   "outputs": [
    {
     "name": "stdout",
     "output_type": "stream",
     "text": [
      "Decoded real states: [0, 4, 5, 4, 5, 4, 5, 3, 7, 6, 8, 9, 4, 5, 4, 5, 4, 5, 4, 3, 9]\n",
      "Decoded sample states: [0, 4, 5, 4, 5, 4, 5, 3, 9, 4, 5, 9, 4, 5, 4, 5, 4, 5, 4, 5, 4]\n",
      "Decoded init states: [0, 4, 5, 4, 5, 4, 5, 3, 9, 4, 8, 9, 5, 4, 4, 9, 4, 5, 4, 4, 1]\n",
      "0.23809523809523808\n",
      "0.3333333333333333\n",
      "Decoded real states: [0, 4, 5, 4, 5, 9, 4, 5, 3, 8, 1, 2, 3, 8, 1, 7, 1, 3, 7, 9, 4]\n",
      "Decoded sample states: [0, 4, 5, 4, 5, 9, 4, 5, 3, 8, 1, 1, 7, 8, 1, 1, 7, 6, 1, 9, 4]\n",
      "Decoded init states: [0, 4, 5, 4, 5, 9, 4, 5, 3, 8, 1, 1, 7, 8, 1, 7, 1, 5, 4, 9, 4]\n",
      "0.2857142857142857\n",
      "0.19047619047619047\n",
      "Decoded real states: [0, 1, 7, 8, 1, 1, 5, 4, 5, 4, 5, 1, 3, 8, 8, 1, 9, 4, 5, 4, 5, 4, 5, 9, 4, 5, 4, 2, 1, 2]\n",
      "Decoded sample states: [0, 1, 7, 8, 1, 1, 5, 4, 5, 4, 5, 1, 7, 6, 8, 1, 9, 4, 5, 4, 5, 4, 5, 9, 4, 5, 4, 2, 1, 2]\n",
      "Decoded init states: [0, 1, 7, 7, 1, 1, 7, 5, 5, 4, 5, 1, 3, 9, 8, 1, 9, 4, 5, 4, 5, 4, 7, 1, 2, 1, 1, 2, 1, 2]\n",
      "0.06666666666666667\n",
      "0.3\n",
      "Decoded real states: [0, 5, 4, 5, 9, 1, 1, 7, 6, 1, 1, 7, 6, 3, 9, 4, 5, 4, 5]\n",
      "Decoded sample states: [0, 5, 4, 5, 9, 1, 1, 7, 6, 8, 1, 7, 6, 3, 9, 4, 5, 4, 5]\n",
      "Decoded init states: [0, 5, 4, 5, 4, 1, 1, 7, 9, 1, 1, 7, 8, 1, 9, 4, 5, 4, 5]\n",
      "0.05263157894736842\n",
      "0.21052631578947367\n",
      "Decoded real states: [0, 6, 8, 8, 1, 7, 1, 7, 1, 7, 8, 1, 5, 4, 5, 4, 5, 9, 4, 5, 4, 5, 9, 4, 5, 4, 5, 4]\n",
      "Decoded sample states: [0, 7, 6, 8, 1, 7, 1, 7, 1, 5, 4, 5, 9, 4, 5, 4, 5, 9, 4, 5, 4, 5, 9, 4, 5, 4, 5, 4]\n",
      "Decoded init states: [0, 5, 4, 5, 8, 7, 1, 7, 3, 5, 8, 1, 5, 4, 5, 4, 5, 9, 4, 5, 4, 5, 9, 4, 5, 4, 5, 4]\n",
      "0.21428571428571427\n",
      "0.21428571428571427\n"
     ]
    }
   ],
   "source": [
    "for i, obs in enumerate(test_observations[:5]):\n",
    "    decoded_real = viterbi(obs, NUM_STATES, real_trans_dist, real_emis_dist)\n",
    "    decoded_sampled = viterbi(obs, NUM_STATES, trans_dist[:10, :10], emis_dist.T)\n",
    "    decoded_init = viterbi(obs, NUM_STATES, init_trans_dist[:10, :10], init_emis_dist.T)\n",
    "    # print(len(decoded_hidden_states), len(test_hidden_states[i + 10]))\n",
    "    print(\"Decoded real states:\", decoded_real)\n",
    "    print(\"Decoded sample states:\", decoded_sampled)\n",
    "    print(\"Decoded init states:\", decoded_init)\n",
    "    print(np.sum(np.array(decoded_real) != np.array(decoded_sampled)) /  len(test_observations[i]))\n",
    "    print(np.sum(np.array(decoded_real) != np.array(decoded_init)) /  len(test_observations[i]))\n",
    "    # print(\"Real hidden states: \", test_hidden_states[i])"
   ],
   "metadata": {
    "collapsed": false,
    "ExecuteTime": {
     "end_time": "2024-02-19T20:01:27.333041Z",
     "start_time": "2024-02-19T20:01:27.311532Z"
    }
   },
   "id": "bf37b57fab922bfc"
  },
  {
   "cell_type": "code",
   "execution_count": 29,
   "outputs": [
    {
     "name": "stdout",
     "output_type": "stream",
     "text": [
      "0.20098428718027622 0.2513604646018068\n"
     ]
    }
   ],
   "source": [
    "loss = 0\n",
    "init_loss = 0\n",
    "for i, obs in enumerate(test_observations):\n",
    "    decoded_real = viterbi(obs, NUM_STATES, real_trans_dist, real_emis_dist)\n",
    "    decoded_sampled = viterbi(obs, NUM_STATES, trans_dist[:10, :10], emis_dist.T)\n",
    "    decoded_init = viterbi(obs, NUM_STATES, init_trans_dist[:10, :10], init_emis_dist.T)\n",
    "    loss += np.sum(np.array(decoded_real) != np.array(decoded_sampled)) /  len(test_observations[i])\n",
    "    init_loss += np.sum(np.array(decoded_real) != np.array(decoded_init)) /  len(test_observations[i])\n",
    "    \n",
    "print(loss / len(test_observations), init_loss/len(test_observations))"
   ],
   "metadata": {
    "collapsed": false,
    "ExecuteTime": {
     "end_time": "2024-02-19T20:05:54.204371Z",
     "start_time": "2024-02-19T20:05:52.759150Z"
    }
   },
   "id": "1119fe16fee9eba3"
  },
  {
   "cell_type": "markdown",
   "source": [
    "Even created by real transition and emission distributions, the viterbi decoded sequence is not same as the orginal hidden states. So want to use real and sampled distributions to decode at the same time and compare the results. "
   ],
   "metadata": {
    "collapsed": false
   },
   "id": "97143249d3c96106"
  },
  {
   "cell_type": "markdown",
   "source": [
    "### Viterbi Test for Language dataset "
   ],
   "metadata": {
    "collapsed": false
   },
   "id": "888bf216ccb50d29"
  },
  {
   "cell_type": "code",
   "execution_count": 30,
   "outputs": [],
   "source": [
    "PATH = '../result/PTB-noise-0.8_iter-20_timestamp-0219_201249_result.npz'\n",
    "DATA_PATH = '../data/PTB_synthetic_dataset(noise-0.8).npz'"
   ],
   "metadata": {
    "collapsed": false,
    "ExecuteTime": {
     "end_time": "2024-02-19T20:14:00.143975Z",
     "start_time": "2024-02-19T20:14:00.118053Z"
    }
   },
   "id": "53399546a2ed5af5"
  },
  {
   "cell_type": "code",
   "execution_count": 31,
   "outputs": [],
   "source": [
    "loaded_npz_trained = np.load(PATH)\n",
    "loaded_npz_real = np.load(DATA_PATH, allow_pickle=True)"
   ],
   "metadata": {
    "collapsed": false,
    "ExecuteTime": {
     "end_time": "2024-02-19T20:14:01.256938Z",
     "start_time": "2024-02-19T20:14:01.222449Z"
    }
   },
   "id": "f45320b0cdb36f5c"
  },
  {
   "cell_type": "code",
   "execution_count": 33,
   "outputs": [],
   "source": [
    "trans_dist = loaded_npz_trained['trans_dist']\n",
    "emis_dist = loaded_npz_trained['emis_dist']\n",
    "init_trans_dist = loaded_npz_trained['init_trans_dist']\n",
    "init_emis_dist = loaded_npz_trained['init_emis_dist']\n",
    "# real_trans_dist = loaded_npz_real['real_trans']\n",
    "# real_emis_dist = loaded_npz_real['emis']\n",
    "observations = loaded_npz_real['observation']\n",
    "real_hidden_states = loaded_npz_real['real_hidden_universal']"
   ],
   "metadata": {
    "collapsed": false,
    "ExecuteTime": {
     "end_time": "2024-02-19T20:14:21.718084Z",
     "start_time": "2024-02-19T20:14:21.598146Z"
    }
   },
   "id": "925af133fd41c2ea"
  },
  {
   "cell_type": "code",
   "execution_count": 34,
   "outputs": [
    {
     "name": "stdout",
     "output_type": "stream",
     "text": [
      "(6466, 13) (15, 15)\n",
      "(6466, 14) (16, 16)\n"
     ]
    }
   ],
   "source": [
    "print(init_emis_dist.shape, init_trans_dist.shape)\n",
    "print(emis_dist.shape, trans_dist.shape)"
   ],
   "metadata": {
    "collapsed": false,
    "ExecuteTime": {
     "end_time": "2024-02-19T20:14:22.951651Z",
     "start_time": "2024-02-19T20:14:22.917426Z"
    }
   },
   "id": "3b0022b531342d8a"
  },
  {
   "cell_type": "code",
   "execution_count": 40,
   "outputs": [
    {
     "name": "stdout",
     "output_type": "stream",
     "text": [
      "[[0.     0.1529 0.5311 0.0061 0.0051 0.0008 0.0008 0.0013 0.0001 0.0034 0.2962 0.0005 0.0009\n",
      "  0.0008 0.     0.    ]\n",
      " [0.     0.017  0.5841 0.049  0.0228 0.0084 0.0118 0.0067 0.0068 0.0252 0.0851 0.0266 0.0204\n",
      "  0.136  0.     0.    ]\n",
      " [0.0001 0.0053 0.0182 0.0734 0.5336 0.0027 0.0062 0.007  0.0197 0.0095 0.0222 0.2869 0.0069\n",
      "  0.0082 0.     0.    ]\n",
      " [0.0003 0.1299 0.0399 0.142  0.206  0.0793 0.0384 0.0885 0.0765 0.0394 0.0328 0.0634 0.0359\n",
      "  0.0278 0.     0.    ]\n",
      " [0.     0.5332 0.0338 0.0079 0.0445 0.0847 0.0508 0.0226 0.1552 0.0088 0.0288 0.0135 0.0097\n",
      "  0.0065 0.     0.    ]\n",
      " [0.     0.1043 0.0423 0.0421 0.0403 0.0654 0.3903 0.0251 0.03   0.0441 0.0146 0.0249 0.048\n",
      "  0.1286 0.     0.    ]\n",
      " [0.     0.2403 0.2041 0.0209 0.0095 0.1788 0.0757 0.0142 0.0076 0.0553 0.053  0.0078 0.0246\n",
      "  0.1081 0.     0.    ]\n",
      " [0.     0.3121 0.0529 0.0577 0.0823 0.092  0.0648 0.0459 0.0786 0.0503 0.0405 0.0269 0.0337\n",
      "  0.0622 0.     0.    ]\n",
      " [0.0001 0.053  0.0249 0.0182 0.017  0.2271 0.4987 0.0169 0.0422 0.0255 0.0133 0.0104 0.0155\n",
      "  0.0371 0.0001 0.    ]\n",
      " [0.     0.4474 0.0739 0.0307 0.0442 0.0834 0.054  0.0482 0.032  0.0468 0.0458 0.0213 0.03\n",
      "  0.0421 0.     0.    ]\n",
      " [0.     0.2301 0.0316 0.0079 0.0093 0.0344 0.1742 0.0128 0.433  0.0061 0.0417 0.0055 0.0088\n",
      "  0.0046 0.     0.    ]\n",
      " [0.     0.0276 0.0122 0.0444 0.6175 0.0287 0.0108 0.0523 0.0453 0.0198 0.0105 0.1022 0.0163\n",
      "  0.0123 0.     0.    ]\n",
      " [0.     0.44   0.1175 0.0342 0.0345 0.0732 0.0309 0.049  0.0353 0.031  0.0554 0.0193 0.0231\n",
      "  0.0568 0.     0.    ]\n",
      " [0.     0.6699 0.1204 0.0115 0.0097 0.06   0.0105 0.0388 0.0093 0.01   0.0128 0.0027 0.0143\n",
      "  0.03   0.     0.    ]\n",
      " [0.     0.2232 0.1384 0.0668 0.1182 0.0719 0.131  0.0623 0.0574 0.0061 0.0307 0.0568 0.0275\n",
      "  0.0096 0.     0.    ]\n",
      " [0.     0.1742 0.1748 0.0798 0.0827 0.0431 0.1121 0.003  0.0277 0.0696 0.0724 0.0364 0.0311\n",
      "  0.0931 0.     0.    ]]\n",
      "[[0.0041 0.0823 0.0991 0.0982 0.0776 0.0647 0.0695 0.0724 0.0655 0.0725 0.0815 0.0752 0.0696\n",
      "  0.0676 0.    ]\n",
      " [0.0022 0.08   0.0859 0.079  0.097  0.0723 0.0839 0.0713 0.0688 0.0707 0.0719 0.0779 0.0693\n",
      "  0.0696 0.    ]\n",
      " [0.0026 0.0807 0.076  0.0827 0.1072 0.0668 0.081  0.074  0.0704 0.0725 0.0696 0.0819 0.0667\n",
      "  0.068  0.    ]\n",
      " [0.0027 0.0813 0.0772 0.0922 0.0916 0.0697 0.085  0.0713 0.0728 0.0702 0.073  0.0767 0.0684\n",
      "  0.0678 0.    ]\n",
      " [0.0022 0.0891 0.0773 0.078  0.0994 0.0718 0.0875 0.07   0.0717 0.0695 0.0707 0.077  0.069\n",
      "  0.0668 0.0001]\n",
      " [0.0029 0.0821 0.0765 0.0806 0.1002 0.0727 0.0879 0.0693 0.0701 0.071  0.0731 0.0776 0.0677\n",
      "  0.0683 0.0001]\n",
      " [0.0025 0.0842 0.0825 0.0792 0.0964 0.0725 0.0823 0.0695 0.0718 0.0739 0.0712 0.0763 0.0694\n",
      "  0.0684 0.    ]\n",
      " [0.0031 0.0845 0.0805 0.0802 0.0997 0.0715 0.0845 0.0688 0.0722 0.0718 0.0699 0.0761 0.0681\n",
      "  0.0692 0.    ]\n",
      " [0.0032 0.0816 0.0779 0.0774 0.099  0.0695 0.0898 0.0679 0.0748 0.0719 0.0752 0.0758 0.0687\n",
      "  0.0674 0.    ]\n",
      " [0.0027 0.0827 0.0786 0.0805 0.0966 0.0719 0.0845 0.0693 0.0744 0.0731 0.07   0.0784 0.0693\n",
      "  0.0681 0.0001]\n",
      " [0.0031 0.0851 0.0793 0.0787 0.0974 0.0686 0.0876 0.0685 0.0732 0.0698 0.0714 0.0763 0.0697\n",
      "  0.0713 0.    ]\n",
      " [0.0026 0.0828 0.0773 0.0788 0.1079 0.0705 0.0831 0.0678 0.071  0.0716 0.067  0.077  0.0729\n",
      "  0.0697 0.    ]\n",
      " [0.0029 0.0839 0.0781 0.0822 0.0977 0.0676 0.085  0.0705 0.0707 0.0707 0.072  0.0785 0.0711\n",
      "  0.0689 0.0001]\n",
      " [0.0026 0.0875 0.0786 0.0814 0.0979 0.0704 0.0829 0.0717 0.0709 0.0704 0.0731 0.0755 0.0679\n",
      "  0.0692 0.    ]\n",
      " [0.4844 0.3142 0.0083 0.0341 0.0711 0.0398 0.0097 0.0086 0.0114 0.0033 0.0007 0.0042 0.0001\n",
      "  0.0027 0.0073]]\n"
     ]
    }
   ],
   "source": [
    "print(trans_dist)\n",
    "print(init_trans_dist)"
   ],
   "metadata": {
    "collapsed": false,
    "ExecuteTime": {
     "end_time": "2024-02-19T20:18:13.697512Z",
     "start_time": "2024-02-19T20:18:13.680166Z"
    }
   },
   "id": "5f24ee12615fc7c7"
  },
  {
   "cell_type": "code",
   "execution_count": 35,
   "outputs": [],
   "source": [
    "NUM_STATES = 13"
   ],
   "metadata": {
    "collapsed": false,
    "ExecuteTime": {
     "end_time": "2024-02-19T20:16:35.000784Z",
     "start_time": "2024-02-19T20:16:34.997606Z"
    }
   },
   "id": "601e3ee842684d85"
  },
  {
   "cell_type": "code",
   "execution_count": 36,
   "outputs": [],
   "source": [
    "test_index = np.random.choice(len(observations), 500)\n",
    "test_observations = observations[test_index]\n",
    "test_hidden_states = real_hidden_states[test_index]"
   ],
   "metadata": {
    "collapsed": false,
    "ExecuteTime": {
     "end_time": "2024-02-19T20:16:36.091506Z",
     "start_time": "2024-02-19T20:16:36.054821Z"
    }
   },
   "id": "e1f4faa2bda710ec"
  },
  {
   "cell_type": "code",
   "execution_count": 41,
   "outputs": [
    {
     "name": "stdout",
     "output_type": "stream",
     "text": [
      "Decoded sample states: [0, 11, 11, 4, 10, 8, 6, 2, 4, 1, 2, 11, 4]\n",
      "Decoded init states: [0, 6, 11, 4, 10, 6, 6, 2, 4, 1, 2, 4, 4]\n",
      "0.23076923076923078\n",
      "0.0\n",
      "Real hidden states:  [0, 6, 11, 4, 10, 6, 6, 2, 4, 1, 2, 4, 4]\n",
      "Decoded sample states: [0, 2, 4, 2, 4, 8, 6, 2, 4, 1, 10, 8, 6, 1, 11, 1, 2, 4, 8, 6, 2, 11, 11, 4, 1, 2, 4, 10, 1, 2, 4, 8, 6]\n",
      "Decoded init states: [0, 3, 3, 2, 12, 10, 3, 3, 3, 6, 10, 6, 6, 1, 11, 12, 2, 4, 8, 4, 2, 4, 11, 4, 12, 10, 4, 7, 12, 10, 4, 6, 4]\n",
      "0.45454545454545453\n",
      "0.2727272727272727\n",
      "Real hidden states:  [0, 3, 3, 2, 4, 10, 6, 3, 3, 6, 10, 6, 11, 1, 11, 12, 2, 4, 8, 6, 2, 11, 11, 4, 10, 10, 6, 7, 12, 10, 4, 8, 6]\n",
      "Decoded sample states: [0, 2, 11, 4, 8, 5, 1, 9]\n",
      "Decoded init states: [0, 2, 4, 4, 8, 11, 1, 8]\n",
      "0.375\n",
      "0.25\n",
      "Real hidden states:  [0, 2, 4, 4, 8, 6, 1, 3]\n",
      "Decoded sample states: [0, 8, 6, 2, 11, 4, 1, 12, 1, 2, 11, 4, 1, 2, 11, 4, 1, 2, 4, 1, 2, 4]\n",
      "Decoded init states: [0, 10, 6, 2, 11, 4, 4, 7, 1, 2, 3, 8, 4, 2, 11, 4, 1, 6, 4, 1, 3, 3]\n",
      "0.4090909090909091\n",
      "0.22727272727272727\n",
      "Real hidden states:  [0, 10, 6, 2, 11, 4, 6, 10, 1, 2, 3, 4, 6, 2, 11, 4, 12, 6, 4, 1, 3, 3]\n",
      "Decoded sample states: [0, 4, 8, 6, 1, 2, 11, 4, 1, 2, 4, 1, 2, 11, 4, 8, 6]\n",
      "Decoded init states: [0, 4, 9, 4, 1, 2, 11, 4, 1, 4, 4, 1, 4, 11, 4, 8, 6]\n",
      "0.29411764705882354\n",
      "0.17647058823529413\n",
      "Real hidden states:  [0, 4, 9, 6, 1, 2, 11, 4, 1, 4, 4, 12, 4, 4, 4, 8, 6]\n"
     ]
    }
   ],
   "source": [
    "for i, obs in enumerate(test_observations[:5]):\n",
    "    decoded_sampled = viterbi(obs, NUM_STATES, trans_dist[:NUM_STATES, :NUM_STATES], emis_dist.T)\n",
    "    decoded_init = viterbi(obs, NUM_STATES, init_trans_dist[:NUM_STATES, :NUM_STATES], init_emis_dist.T)\n",
    "    print(\"Decoded sample states:\", decoded_sampled)\n",
    "    print(\"Decoded init states:\", decoded_init)\n",
    "    print(np.sum(np.array(test_hidden_states[i]) != np.array(decoded_sampled)) /  len(test_observations[i]))\n",
    "    print(np.sum(np.array(test_hidden_states[i]) != np.array(decoded_init)) /  len(test_observations[i]))\n",
    "    print(\"Real hidden states: \", test_hidden_states[i])"
   ],
   "metadata": {
    "collapsed": false,
    "ExecuteTime": {
     "end_time": "2024-02-19T20:18:29.491839Z",
     "start_time": "2024-02-19T20:18:29.484491Z"
    }
   },
   "id": "c4efcf65967de787"
  },
  {
   "cell_type": "code",
   "execution_count": 38,
   "outputs": [
    {
     "name": "stdout",
     "output_type": "stream",
     "text": [
      "0.42657875063364714 0.18750037530666328\n"
     ]
    }
   ],
   "source": [
    "loss = 0\n",
    "init_loss = 0\n",
    "for i, obs in enumerate(test_observations):\n",
    "    decoded_sampled = viterbi(obs, NUM_STATES, trans_dist[:NUM_STATES, :NUM_STATES], emis_dist.T)\n",
    "    decoded_init = viterbi(obs, NUM_STATES, init_trans_dist[:NUM_STATES, :NUM_STATES], init_emis_dist.T)\n",
    "    loss += np.sum(np.array(test_hidden_states[i]) != np.array(decoded_sampled)) /  len(test_observations[i])\n",
    "    init_loss += np.sum(np.array(test_hidden_states[i]) != np.array(decoded_init)) /  len(test_observations[i])\n",
    "    \n",
    "print(loss / len(test_observations), init_loss/len(test_observations))"
   ],
   "metadata": {
    "collapsed": false,
    "ExecuteTime": {
     "end_time": "2024-02-19T20:16:40.678993Z",
     "start_time": "2024-02-19T20:16:39.714187Z"
    }
   },
   "id": "c43bf55c61693a06"
  }
 ],
 "metadata": {
  "kernelspec": {
   "name": "porjenv",
   "language": "python",
   "display_name": "PartII Project Env"
  },
  "language_info": {
   "codemirror_mode": {
    "name": "ipython",
    "version": 2
   },
   "file_extension": ".py",
   "mimetype": "text/x-python",
   "name": "python",
   "nbconvert_exporter": "python",
   "pygments_lexer": "ipython2",
   "version": "2.7.6"
  }
 },
 "nbformat": 4,
 "nbformat_minor": 5
}
