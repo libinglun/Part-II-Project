{
 "cells": [
  {
   "cell_type": "code",
   "execution_count": 1,
   "id": "initial_id",
   "metadata": {
    "collapsed": true,
    "ExecuteTime": {
     "end_time": "2024-02-07T20:52:47.973099Z",
     "start_time": "2024-02-07T20:52:47.192746Z"
    }
   },
   "outputs": [],
   "source": [
    "import numpy as np"
   ]
  },
  {
   "cell_type": "code",
   "execution_count": 2,
   "outputs": [],
   "source": [
    "np.set_printoptions(suppress=True, precision=4)\n",
    "np.set_printoptions(linewidth=100, threshold=np.inf)\n",
    "np.set_printoptions(formatter={'int': '{:5d}'.format})"
   ],
   "metadata": {
    "collapsed": false,
    "ExecuteTime": {
     "end_time": "2024-02-07T20:53:11.461742Z",
     "start_time": "2024-02-07T20:53:11.455772Z"
    }
   },
   "id": "3a38cc4d3622af65"
  },
  {
   "cell_type": "markdown",
   "source": [
    "### Create HMM training dataset"
   ],
   "metadata": {
    "collapsed": false
   },
   "id": "6ac33f798009939d"
  },
  {
   "cell_type": "code",
   "execution_count": 13,
   "outputs": [],
   "source": [
    "num_states = 10\n",
    "num_observations = 500\n",
    "train_length = 5000\n",
    "test_length = 500"
   ],
   "metadata": {
    "collapsed": false,
    "ExecuteTime": {
     "end_time": "2024-02-07T21:08:54.225604Z",
     "start_time": "2024-02-07T21:08:54.208364Z"
    }
   },
   "id": "dd7ae766bad9d0b4"
  },
  {
   "cell_type": "code",
   "execution_count": 4,
   "outputs": [],
   "source": [
    "transition_probs = np.random.dirichlet(np.ones(num_states) * 1, size=num_states)\n",
    "emission_probs = np.random.dirichlet(np.ones(num_observations) * 2, size=num_states)\n",
    "initial_state_dist = np.ones(num_states) / num_states"
   ],
   "metadata": {
    "collapsed": false,
    "ExecuteTime": {
     "end_time": "2024-02-07T20:53:41.492396Z",
     "start_time": "2024-02-07T20:53:41.485833Z"
    }
   },
   "id": "38dd9c13883b40a0"
  },
  {
   "cell_type": "code",
   "execution_count": 5,
   "outputs": [
    {
     "data": {
      "text/plain": "array([[0.0626, 0.2056, 0.0385, 0.0248, 0.0344, 0.1093, 0.4691, 0.0399, 0.01  , 0.0058],\n       [0.037 , 0.1543, 0.0358, 0.0338, 0.0007, 0.0506, 0.0186, 0.1352, 0.4422, 0.0919],\n       [0.0349, 0.0916, 0.0084, 0.0699, 0.3041, 0.0683, 0.1126, 0.0252, 0.0336, 0.2513],\n       [0.0769, 0.0916, 0.0635, 0.187 , 0.1108, 0.2428, 0.0181, 0.1525, 0.03  , 0.0268],\n       [0.0069, 0.0559, 0.0175, 0.0715, 0.1058, 0.1149, 0.2578, 0.0948, 0.0554, 0.2197],\n       [0.1134, 0.0122, 0.1936, 0.0445, 0.082 , 0.2256, 0.2373, 0.0284, 0.0552, 0.0078],\n       [0.0082, 0.0619, 0.0095, 0.0873, 0.0067, 0.1257, 0.0069, 0.2802, 0.2354, 0.1782],\n       [0.1487, 0.2586, 0.0429, 0.1066, 0.1015, 0.0006, 0.0371, 0.1756, 0.0289, 0.0994],\n       [0.0573, 0.048 , 0.0933, 0.0214, 0.0103, 0.048 , 0.2972, 0.1664, 0.2278, 0.0303],\n       [0.4567, 0.0012, 0.1385, 0.0723, 0.0014, 0.0977, 0.0702, 0.0101, 0.0709, 0.081 ]])"
     },
     "execution_count": 5,
     "metadata": {},
     "output_type": "execute_result"
    }
   ],
   "source": [
    "transition_probs"
   ],
   "metadata": {
    "collapsed": false,
    "ExecuteTime": {
     "end_time": "2024-02-07T20:53:50.597961Z",
     "start_time": "2024-02-07T20:53:50.587082Z"
    }
   },
   "id": "1b2bb61096606f21"
  },
  {
   "cell_type": "code",
   "execution_count": 6,
   "outputs": [],
   "source": [
    "# Simulate the HMM and generate a long sequence \n",
    "def simulate_hmm(seq_len, start_prob, trans_prob, emis_prob):\n",
    "    observation_sequence = []\n",
    "    state_sequence = []\n",
    "    \n",
    "    current_state = np.random.choice(num_states, p=start_prob)\n",
    "    for _ in range(seq_len):\n",
    "        state_sequence.append(current_state)\n",
    "        observation = np.random.choice(num_observations, p=emis_prob[current_state])\n",
    "        observation_sequence.append(observation)\n",
    "        current_state = np.random.choice(num_states, p=trans_prob[current_state])\n",
    "    \n",
    "    return state_sequence, observation_sequence"
   ],
   "metadata": {
    "collapsed": false,
    "ExecuteTime": {
     "end_time": "2024-02-07T20:56:11.345341Z",
     "start_time": "2024-02-07T20:56:11.335213Z"
    }
   },
   "id": "e97decd871bbd68c"
  },
  {
   "cell_type": "code",
   "execution_count": 15,
   "outputs": [],
   "source": [
    "train_obs, train_hid = simulate_hmm(train_length, initial_state_dist, transition_probs, emission_probs)\n",
    "test_obs, test_hid = simulate_hmm(train_length, initial_state_dist, transition_probs, emission_probs)"
   ],
   "metadata": {
    "collapsed": false,
    "ExecuteTime": {
     "end_time": "2024-02-07T21:10:17.276947Z",
     "start_time": "2024-02-07T21:10:17.074420Z"
    }
   },
   "id": "215fb1a8f891b601"
  },
  {
   "cell_type": "code",
   "execution_count": 16,
   "outputs": [],
   "source": [
    "file_path = f\"../../../data/hmm_train_dataset(state-{num_states}_obs-{num_observations}_length-{train_length}).npz\"\n",
    "np.savez(file_path, train_observations=np.array(train_obs), train_hidden_states=np.array(train_hid), train_length=train_length, test_observations=np.array(test_obs), test_hidden_states=np.array(test_hid), test_length=test_length)"
   ],
   "metadata": {
    "collapsed": false,
    "ExecuteTime": {
     "end_time": "2024-02-07T21:10:18.722914Z",
     "start_time": "2024-02-07T21:10:18.718738Z"
    }
   },
   "id": "33694d80a936680"
  },
  {
   "cell_type": "markdown",
   "source": [],
   "metadata": {
    "collapsed": false
   },
   "id": "85b44b5a87baf376"
  }
 ],
 "metadata": {
  "kernelspec": {
   "name": "projenv",
   "language": "python",
   "display_name": "Part II Project Environment"
  },
  "language_info": {
   "codemirror_mode": {
    "name": "ipython",
    "version": 2
   },
   "file_extension": ".py",
   "mimetype": "text/x-python",
   "name": "python",
   "nbconvert_exporter": "python",
   "pygments_lexer": "ipython2",
   "version": "2.7.6"
  }
 },
 "nbformat": 4,
 "nbformat_minor": 5
}
