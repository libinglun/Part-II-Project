{
 "cells": [
  {
   "cell_type": "code",
   "execution_count": 3,
   "id": "initial_id",
   "metadata": {
    "collapsed": true,
    "ExecuteTime": {
     "end_time": "2024-02-08T10:39:51.819687Z",
     "start_time": "2024-02-08T10:39:51.685031Z"
    }
   },
   "outputs": [],
   "source": [
    "import numpy as np"
   ]
  },
  {
   "cell_type": "code",
   "execution_count": 4,
   "outputs": [],
   "source": [
    "np.set_printoptions(suppress=True, precision=4)\n",
    "np.set_printoptions(linewidth=100, threshold=np.inf)\n",
    "np.set_printoptions(formatter={'int': '{:5d}'.format})"
   ],
   "metadata": {
    "collapsed": false,
    "ExecuteTime": {
     "end_time": "2024-02-08T10:39:52.703832Z",
     "start_time": "2024-02-08T10:39:52.697711Z"
    }
   },
   "id": "3a38cc4d3622af65"
  },
  {
   "cell_type": "markdown",
   "source": [
    "### Create HMM training dataset"
   ],
   "metadata": {
    "collapsed": false
   },
   "id": "6ac33f798009939d"
  },
  {
   "cell_type": "code",
   "execution_count": 12,
   "outputs": [],
   "source": [
    "num_states = 10\n",
    "num_observations = 500\n",
    "train_length = 10000\n",
    "test_length = 500"
   ],
   "metadata": {
    "collapsed": false,
    "ExecuteTime": {
     "end_time": "2024-02-08T10:49:05.512130Z",
     "start_time": "2024-02-08T10:49:05.502933Z"
    }
   },
   "id": "dd7ae766bad9d0b4"
  },
  {
   "cell_type": "code",
   "execution_count": 5,
   "outputs": [],
   "source": [
    "transition_probs = np.random.dirichlet(np.ones(num_states) * 1, size=num_states)\n",
    "emission_probs = np.random.dirichlet(np.ones(num_observations) * 2, size=num_states)\n",
    "initial_state_dist = np.ones(num_states) / num_states"
   ],
   "metadata": {
    "collapsed": false,
    "ExecuteTime": {
     "end_time": "2024-02-08T10:39:54.464864Z",
     "start_time": "2024-02-08T10:39:54.456854Z"
    }
   },
   "id": "38dd9c13883b40a0"
  },
  {
   "cell_type": "code",
   "execution_count": 6,
   "outputs": [
    {
     "data": {
      "text/plain": "array([[0.045 , 0.0007, 0.1839, 0.1207, 0.0337, 0.0269, 0.0921, 0.1006, 0.2484, 0.1481],\n       [0.0449, 0.0154, 0.0813, 0.0741, 0.1922, 0.1145, 0.0252, 0.0559, 0.1629, 0.2337],\n       [0.1105, 0.055 , 0.0325, 0.0069, 0.1945, 0.1051, 0.0961, 0.3111, 0.0739, 0.0145],\n       [0.1066, 0.0468, 0.061 , 0.1443, 0.0716, 0.1653, 0.0015, 0.054 , 0.1752, 0.1738],\n       [0.0297, 0.1671, 0.255 , 0.0598, 0.0562, 0.0937, 0.0548, 0.1955, 0.0285, 0.0597],\n       [0.0081, 0.111 , 0.2089, 0.0799, 0.0987, 0.1475, 0.1374, 0.06  , 0.0278, 0.1208],\n       [0.0544, 0.0363, 0.1572, 0.2436, 0.1501, 0.0224, 0.09  , 0.0489, 0.0409, 0.1562],\n       [0.0249, 0.0173, 0.0336, 0.1705, 0.0055, 0.0478, 0.0022, 0.445 , 0.2058, 0.0474],\n       [0.055 , 0.0315, 0.1065, 0.0011, 0.3801, 0.0522, 0.1855, 0.1153, 0.047 , 0.0258],\n       [0.0448, 0.0786, 0.035 , 0.0315, 0.1329, 0.2844, 0.1709, 0.0304, 0.1867, 0.0048]])"
     },
     "execution_count": 6,
     "metadata": {},
     "output_type": "execute_result"
    }
   ],
   "source": [
    "transition_probs"
   ],
   "metadata": {
    "collapsed": false,
    "ExecuteTime": {
     "end_time": "2024-02-08T10:39:55.368067Z",
     "start_time": "2024-02-08T10:39:55.351680Z"
    }
   },
   "id": "1b2bb61096606f21"
  },
  {
   "cell_type": "code",
   "execution_count": 7,
   "outputs": [],
   "source": [
    "# Simulate the HMM and generate a long sequence \n",
    "def simulate_hmm(seq_len, start_prob, trans_prob, emis_prob):\n",
    "    observation_sequence = []\n",
    "    state_sequence = []\n",
    "    \n",
    "    current_state = np.random.choice(num_states, p=start_prob)\n",
    "    for _ in range(seq_len):\n",
    "        state_sequence.append(current_state)\n",
    "        observation = np.random.choice(num_observations, p=emis_prob[current_state])\n",
    "        observation_sequence.append(observation)\n",
    "        current_state = np.random.choice(num_states, p=trans_prob[current_state])\n",
    "    \n",
    "    return state_sequence, observation_sequence"
   ],
   "metadata": {
    "collapsed": false,
    "ExecuteTime": {
     "end_time": "2024-02-08T10:40:03.264448Z",
     "start_time": "2024-02-08T10:40:03.258952Z"
    }
   },
   "id": "e97decd871bbd68c"
  },
  {
   "cell_type": "code",
   "execution_count": 13,
   "outputs": [],
   "source": [
    "train_obs, train_hid = simulate_hmm(train_length, initial_state_dist, transition_probs, emission_probs)\n",
    "test_obs, test_hid = simulate_hmm(train_length, initial_state_dist, transition_probs, emission_probs)"
   ],
   "metadata": {
    "collapsed": false,
    "ExecuteTime": {
     "end_time": "2024-02-08T10:49:08.272726Z",
     "start_time": "2024-02-08T10:49:07.840932Z"
    }
   },
   "id": "215fb1a8f891b601"
  },
  {
   "cell_type": "code",
   "execution_count": 14,
   "outputs": [],
   "source": [
    "file_path = f\"../../../data/hmm_train_dataset(state-{num_states}_obs-{num_observations}_length-{train_length}).npz\"\n",
    "np.savez(file_path, train_observations=np.array(train_obs), train_hidden_states=np.array(train_hid), train_length=train_length, test_observations=np.array(test_obs), test_hidden_states=np.array(test_hid), test_length=test_length)"
   ],
   "metadata": {
    "collapsed": false,
    "ExecuteTime": {
     "end_time": "2024-02-08T10:49:10.532468Z",
     "start_time": "2024-02-08T10:49:10.529141Z"
    }
   },
   "id": "33694d80a936680"
  },
  {
   "cell_type": "markdown",
   "source": [],
   "metadata": {
    "collapsed": false
   },
   "id": "85b44b5a87baf376"
  }
 ],
 "metadata": {
  "kernelspec": {
   "name": "projenv",
   "language": "python",
   "display_name": "Part II Project Environment"
  },
  "language_info": {
   "codemirror_mode": {
    "name": "ipython",
    "version": 2
   },
   "file_extension": ".py",
   "mimetype": "text/x-python",
   "name": "python",
   "nbconvert_exporter": "python",
   "pygments_lexer": "ipython2",
   "version": "2.7.6"
  }
 },
 "nbformat": 4,
 "nbformat_minor": 5
}
