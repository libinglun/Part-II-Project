{
 "cells": [
  {
   "cell_type": "markdown",
   "source": [
    "### Create Synthetic Dateset on Penn Treebank"
   ],
   "metadata": {
    "collapsed": false
   },
   "id": "92c05b1a0591f6a1"
  },
  {
   "cell_type": "code",
   "execution_count": 23,
   "outputs": [],
   "source": [
    "import numpy as np\n",
    "from collections import Counter\n",
    "from collections import defaultdict"
   ],
   "metadata": {
    "collapsed": false,
    "ExecuteTime": {
     "end_time": "2024-02-21T20:12:06.918977Z",
     "start_time": "2024-02-21T20:12:06.796151Z"
    }
   },
   "id": "ded2974dd95dd4ce"
  },
  {
   "cell_type": "code",
   "execution_count": 24,
   "outputs": [],
   "source": [
    "def read_sentences_with_pos_tags(path):\n",
    "    sentences_with_pos_tags = []\n",
    "\n",
    "    with open(path, 'r', encoding='utf-8') as file:\n",
    "        current_sentence = []\n",
    "        for line in file:\n",
    "            if line.strip() and not line.startswith('#'):   # Skip empty lines and comments\n",
    "                fields = line.split('\\t')\n",
    "                if len(fields) > 3:                         # Ensure there are enough fields\n",
    "                    word = fields[1].lower()                # Word form is the second field\n",
    "                    upos = fields[3]                        # Universal POS tag is the fourth field\n",
    "                    xpos = fields[4]                        # Language specific POS tag is the fifth field\n",
    "                    if upos not in ['NUM', 'PUNCT', 'INTJ', 'X']:  # Remove punctuation, interjection, and undefined pos tags\n",
    "                        current_sentence.append((word, upos, xpos))\n",
    "\n",
    "            # New sentence\n",
    "            elif current_sentence:\n",
    "                sentences_with_pos_tags.append(current_sentence)\n",
    "                current_sentence = []\n",
    "\n",
    "    return sentences_with_pos_tags"
   ],
   "metadata": {
    "collapsed": false,
    "ExecuteTime": {
     "end_time": "2024-02-21T20:12:06.919312Z",
     "start_time": "2024-02-21T20:12:06.797364Z"
    }
   },
   "id": "70fbf6963dc61f51"
  },
  {
   "cell_type": "code",
   "execution_count": 25,
   "outputs": [],
   "source": [
    "file_path1 = '../../../data/ptb/penn-train.conllu'\n",
    "file_path2 = '../data/ptb/penn-test.conllu'\n",
    "file_path3 = '../data/ptb/penn-dev.conllu'"
   ],
   "metadata": {
    "collapsed": false,
    "ExecuteTime": {
     "end_time": "2024-02-21T20:12:06.965728Z",
     "start_time": "2024-02-21T20:12:06.800547Z"
    }
   },
   "id": "dbd67d483442e3ac"
  },
  {
   "cell_type": "code",
   "execution_count": 26,
   "outputs": [
    {
     "name": "stdout",
     "output_type": "stream",
     "text": [
      "39821\n"
     ]
    },
    {
     "data": {
      "text/plain": "[[('in', 'ADP', 'IN'),\n  ('an', 'DET', 'DT'),\n  ('oct.', 'PROPN', 'NNP'),\n  ('review', 'NOUN', 'NN'),\n  ('of', 'ADP', 'IN'),\n  ('the', 'DET', 'DT'),\n  ('misanthrope', 'NOUN', 'NN'),\n  ('at', 'ADP', 'IN'),\n  ('chicago', 'PROPN', 'NNP'),\n  (\"'s\", 'PART', 'POS'),\n  ('goodman', 'PROPN', 'NNP'),\n  ('theatre', 'PROPN', 'NNP'),\n  ('revitalized', 'VERB', 'VBN'),\n  ('classics', 'NOUN', 'NNS'),\n  ('take', 'VERB', 'VBP'),\n  ('the', 'DET', 'DT'),\n  ('stage', 'NOUN', 'NN'),\n  ('in', 'ADP', 'IN'),\n  ('windy', 'PROPN', 'NNP'),\n  ('city', 'PROPN', 'NNP'),\n  ('leisure', 'NOUN', 'NN'),\n  ('&', 'CONJ', 'CC'),\n  ('arts', 'NOUN', 'NNS'),\n  ('the', 'DET', 'DT'),\n  ('role', 'NOUN', 'NN'),\n  ('of', 'ADP', 'IN'),\n  ('celimene', 'PROPN', 'NNP'),\n  ('played', 'VERB', 'VBN'),\n  ('by', 'ADP', 'IN'),\n  ('kim', 'PROPN', 'NNP'),\n  ('cattrall', 'PROPN', 'NNP'),\n  ('was', 'AUX', 'VBD'),\n  ('mistakenly', 'ADV', 'RB'),\n  ('attributed', 'VERB', 'VBN'),\n  ('to', 'ADP', 'TO'),\n  ('christina', 'PROPN', 'NNP'),\n  ('haag', 'PROPN', 'NNP')],\n [('ms.', 'PROPN', 'NNP'),\n  ('haag', 'PROPN', 'NNP'),\n  ('plays', 'VERB', 'VBZ'),\n  ('elianti', 'PROPN', 'NNP')],\n [('rolls-royce', 'PROPN', 'NNP'),\n  ('motor', 'PROPN', 'NNP'),\n  ('cars', 'PROPN', 'NNPS'),\n  ('inc.', 'PROPN', 'NNP'),\n  ('said', 'VERB', 'VBD'),\n  ('it', 'PRON', 'PRP'),\n  ('expects', 'VERB', 'VBZ'),\n  ('its', 'PRON', 'PRP$'),\n  ('u.s.', 'PROPN', 'NNP'),\n  ('sales', 'NOUN', 'NNS'),\n  ('to', 'PART', 'TO'),\n  ('remain', 'VERB', 'VB'),\n  ('steady', 'ADJ', 'JJ'),\n  ('at', 'ADP', 'IN'),\n  ('about', 'ADP', 'IN'),\n  ('cars', 'NOUN', 'NNS'),\n  ('in', 'ADP', 'IN')]]"
     },
     "execution_count": 26,
     "metadata": {},
     "output_type": "execute_result"
    }
   ],
   "source": [
    "sentences_pos_tags = read_sentences_with_pos_tags(file_path1)\n",
    "print(len(sentences_pos_tags))\n",
    "sentences_pos_tags[:3]"
   ],
   "metadata": {
    "collapsed": false,
    "ExecuteTime": {
     "end_time": "2024-02-21T20:12:07.413664Z",
     "start_time": "2024-02-21T20:12:06.803051Z"
    }
   },
   "id": "1d1783e8d11a2486"
  },
  {
   "cell_type": "code",
   "execution_count": 27,
   "outputs": [],
   "source": [
    "def replace_low_frequency_words(sentences_with_pos_tags, filter_count=1):\n",
    "    # Count the frequencies of each word\n",
    "    word_counts = Counter(word for sentence in sentences_with_pos_tags for word, _, _ in sentence)\n",
    "\n",
    "    # Replace words with count less than filter_count to 'UNK' and their tags to 'UNK_TAG'\n",
    "    processed_sentences = []\n",
    "    for sentence in sentences_with_pos_tags:\n",
    "        new_sentence = []\n",
    "        for word, upos, xpos in sentence:\n",
    "            if word_counts[word] < filter_count:\n",
    "                new_word = 'UNK'                # Only set the word to UNK\n",
    "                new_upos = upos\n",
    "                new_xpos = xpos\n",
    "            else:\n",
    "                new_word = word\n",
    "                new_upos = upos\n",
    "                new_xpos = xpos\n",
    "            new_sentence.append((new_word, new_upos, new_xpos))\n",
    "        processed_sentences.append(new_sentence)\n",
    "\n",
    "    return processed_sentences"
   ],
   "metadata": {
    "collapsed": false,
    "ExecuteTime": {
     "end_time": "2024-02-21T20:12:07.435802Z",
     "start_time": "2024-02-21T20:12:07.417116Z"
    }
   },
   "id": "64552bda6752f35c"
  },
  {
   "cell_type": "code",
   "execution_count": 28,
   "outputs": [
    {
     "data": {
      "text/plain": "[[('in', 'ADP', 'IN'),\n  ('an', 'DET', 'DT'),\n  ('oct.', 'PROPN', 'NNP'),\n  ('review', 'NOUN', 'NN'),\n  ('of', 'ADP', 'IN'),\n  ('the', 'DET', 'DT'),\n  ('UNK', 'NOUN', 'NN'),\n  ('at', 'ADP', 'IN'),\n  ('chicago', 'PROPN', 'NNP'),\n  (\"'s\", 'PART', 'POS'),\n  ('UNK', 'PROPN', 'NNP'),\n  ('UNK', 'PROPN', 'NNP'),\n  ('UNK', 'VERB', 'VBN'),\n  ('UNK', 'NOUN', 'NNS'),\n  ('take', 'VERB', 'VBP'),\n  ('the', 'DET', 'DT'),\n  ('stage', 'NOUN', 'NN'),\n  ('in', 'ADP', 'IN'),\n  ('UNK', 'PROPN', 'NNP'),\n  ('city', 'PROPN', 'NNP'),\n  ('UNK', 'NOUN', 'NN'),\n  ('&', 'CONJ', 'CC'),\n  ('arts', 'NOUN', 'NNS'),\n  ('the', 'DET', 'DT'),\n  ('role', 'NOUN', 'NN'),\n  ('of', 'ADP', 'IN'),\n  ('UNK', 'PROPN', 'NNP'),\n  ('played', 'VERB', 'VBN'),\n  ('by', 'ADP', 'IN'),\n  ('UNK', 'PROPN', 'NNP'),\n  ('UNK', 'PROPN', 'NNP'),\n  ('was', 'AUX', 'VBD'),\n  ('UNK', 'ADV', 'RB'),\n  ('attributed', 'VERB', 'VBN'),\n  ('to', 'ADP', 'TO'),\n  ('UNK', 'PROPN', 'NNP'),\n  ('UNK', 'PROPN', 'NNP')],\n [('ms.', 'PROPN', 'NNP'),\n  ('UNK', 'PROPN', 'NNP'),\n  ('plays', 'VERB', 'VBZ'),\n  ('UNK', 'PROPN', 'NNP')],\n [('UNK', 'PROPN', 'NNP'),\n  ('motor', 'PROPN', 'NNP'),\n  ('cars', 'PROPN', 'NNPS'),\n  ('inc.', 'PROPN', 'NNP'),\n  ('said', 'VERB', 'VBD'),\n  ('it', 'PRON', 'PRP'),\n  ('expects', 'VERB', 'VBZ'),\n  ('its', 'PRON', 'PRP$'),\n  ('u.s.', 'PROPN', 'NNP'),\n  ('sales', 'NOUN', 'NNS'),\n  ('to', 'PART', 'TO'),\n  ('remain', 'VERB', 'VB'),\n  ('steady', 'ADJ', 'JJ'),\n  ('at', 'ADP', 'IN'),\n  ('about', 'ADP', 'IN'),\n  ('cars', 'NOUN', 'NNS'),\n  ('in', 'ADP', 'IN')]]"
     },
     "execution_count": 28,
     "metadata": {},
     "output_type": "execute_result"
    }
   ],
   "source": [
    "filtered_sentences = replace_low_frequency_words(sentences_pos_tags, filter_count=10)\n",
    "filtered_sentences[:3]"
   ],
   "metadata": {
    "collapsed": false,
    "ExecuteTime": {
     "end_time": "2024-02-21T20:12:07.845325Z",
     "start_time": "2024-02-21T20:12:07.482134Z"
    }
   },
   "id": "519fa300c7c1ea65"
  },
  {
   "cell_type": "code",
   "execution_count": 29,
   "outputs": [],
   "source": [
    "def create_vocab_index(sentences_with_pos_tags):\n",
    "    # Function to create a dictionary mapping each unique word/POS to an integer index\n",
    "    # with specified start index\n",
    "    def build_index(items, start_index=0):\n",
    "        item_to_index = defaultdict(lambda: len(item_to_index) + start_index)\n",
    "        for item in items:\n",
    "            item_to_index[item]\n",
    "        return dict(item_to_index)\n",
    "\n",
    "    all_words = [word for sentence in sentences_with_pos_tags for word, upos, xpos in sentence]\n",
    "    all_upos_tags = [upos for sentence in sentences_with_pos_tags for word, upos, xpos in sentence]\n",
    "    all_xpos_tags = [xpos for sentence in sentences_with_pos_tags for word, upos, xpos in sentence]\n",
    "\n",
    "    return build_index(all_words, start_index=0), build_index(all_upos_tags, start_index=1),  build_index(all_xpos_tags, start_index=1)"
   ],
   "metadata": {
    "collapsed": false,
    "ExecuteTime": {
     "end_time": "2024-02-21T20:12:07.859760Z",
     "start_time": "2024-02-21T20:12:07.847289Z"
    }
   },
   "id": "f1857d0c82ac9ab7"
  },
  {
   "cell_type": "code",
   "execution_count": 1,
   "outputs": [
    {
     "ename": "NameError",
     "evalue": "name 'create_vocab_index' is not defined",
     "output_type": "error",
     "traceback": [
      "\u001B[0;31m---------------------------------------------------------------------------\u001B[0m",
      "\u001B[0;31mNameError\u001B[0m                                 Traceback (most recent call last)",
      "Cell \u001B[0;32mIn [1], line 1\u001B[0m\n\u001B[0;32m----> 1\u001B[0m word_to_index, upos_to_index, xpos_to_index \u001B[38;5;241m=\u001B[39m \u001B[43mcreate_vocab_index\u001B[49m(filtered_sentences)\n\u001B[1;32m      2\u001B[0m \u001B[38;5;28mprint\u001B[39m(\u001B[38;5;28mlen\u001B[39m(word_to_index))\n\u001B[1;32m      3\u001B[0m \u001B[38;5;28mlist\u001B[39m(word_to_index\u001B[38;5;241m.\u001B[39mitems())[\u001B[38;5;241m10\u001B[39m:\u001B[38;5;241m15\u001B[39m], \u001B[38;5;28mlist\u001B[39m(upos_to_index\u001B[38;5;241m.\u001B[39mitems())\n",
      "\u001B[0;31mNameError\u001B[0m: name 'create_vocab_index' is not defined"
     ]
    }
   ],
   "source": [
    "word_to_index, upos_to_index, xpos_to_index = create_vocab_index(filtered_sentences)\n",
    "print(len(word_to_index))\n",
    "list(word_to_index.items())[10:15], list(upos_to_index.items())"
   ],
   "metadata": {
    "collapsed": false,
    "ExecuteTime": {
     "end_time": "2024-02-26T10:17:59.113694Z",
     "start_time": "2024-02-26T10:17:59.029981Z"
    }
   },
   "id": "627926987e0430ce"
  },
  {
   "cell_type": "code",
   "execution_count": 31,
   "outputs": [],
   "source": [
    "def count_tags(tag, sentences_with_pos_tags):\n",
    "    count = 0\n",
    "    for sentence in sentences_with_pos_tags: \n",
    "        for _, upos, _ in sentence:\n",
    "            if upos == tag: \n",
    "                # print(sentence)\n",
    "                count += 1\n",
    "    return count"
   ],
   "metadata": {
    "collapsed": false,
    "ExecuteTime": {
     "end_time": "2024-02-21T20:12:08.126443Z",
     "start_time": "2024-02-21T20:12:08.113413Z"
    }
   },
   "id": "3f8d494dbc15cab8"
  },
  {
   "cell_type": "code",
   "execution_count": 32,
   "outputs": [
    {
     "data": {
      "text/plain": "(6466, 13, 34)"
     },
     "execution_count": 32,
     "metadata": {},
     "output_type": "execute_result"
    }
   ],
   "source": [
    "len(word_to_index), len(upos_to_index), len(xpos_to_index)"
   ],
   "metadata": {
    "collapsed": false,
    "ExecuteTime": {
     "end_time": "2024-02-21T20:12:08.126739Z",
     "start_time": "2024-02-21T20:12:08.117407Z"
    }
   },
   "id": "45b9d3235e2411f7"
  },
  {
   "cell_type": "code",
   "execution_count": 33,
   "outputs": [
    {
     "name": "stdout",
     "output_type": "stream",
     "text": [
      "97030\n",
      "80893\n",
      "94139\n",
      "187112\n",
      "25869\n",
      "106967\n",
      "23947\n",
      "28196\n",
      "31211\n",
      "35590\n",
      "66402\n",
      "13503\n",
      "12504\n"
     ]
    }
   ],
   "source": [
    "for tag, _ in upos_to_index.items():\n",
    "    print(count_tags(tag, filtered_sentences))"
   ],
   "metadata": {
    "collapsed": false,
    "ExecuteTime": {
     "end_time": "2024-02-21T20:12:08.708335Z",
     "start_time": "2024-02-21T20:12:08.170065Z"
    }
   },
   "id": "afe46007fe33e22"
  },
  {
   "cell_type": "code",
   "execution_count": 34,
   "outputs": [],
   "source": [
    "def convert_to_indexes(filtered_sentences_tags, word_to_index, upos_to_index, xpos_to_index):\n",
    "    hidden_states_universal = []\n",
    "    hidden_states_specific = []\n",
    "    observations = []\n",
    "\n",
    "    for sentence in filtered_sentences_tags:\n",
    "        if len(sentence) <= 5: \n",
    "            continue\n",
    "        sentence_upos_indexes = [upos_to_index[upos] for _, upos, _ in sentence]\n",
    "        sentence_xpos_indexes = [xpos_to_index[xpos] for _, _, xpos in sentence]\n",
    "        sentence_word_indexes = [word_to_index[word] for word, _, _ in sentence]\n",
    "\n",
    "        hidden_states_universal.append(sentence_upos_indexes)\n",
    "        hidden_states_specific.append(sentence_xpos_indexes)\n",
    "        observations.append(sentence_word_indexes)\n",
    "\n",
    "    return hidden_states_universal, hidden_states_specific, observations"
   ],
   "metadata": {
    "collapsed": false,
    "ExecuteTime": {
     "end_time": "2024-02-21T20:12:08.708520Z",
     "start_time": "2024-02-21T20:12:08.705588Z"
    }
   },
   "id": "d99468136e414171"
  },
  {
   "cell_type": "code",
   "execution_count": 35,
   "outputs": [],
   "source": [
    "hidden_states_universal, hidden_states_specific, observations = convert_to_indexes(\n",
    "    filtered_sentences, word_to_index, upos_to_index, xpos_to_index)"
   ],
   "metadata": {
    "collapsed": false,
    "ExecuteTime": {
     "end_time": "2024-02-21T20:12:09.029873Z",
     "start_time": "2024-02-21T20:12:08.783078Z"
    }
   },
   "id": "75c511c19f12c211"
  },
  {
   "cell_type": "code",
   "execution_count": 36,
   "outputs": [
    {
     "name": "stdout",
     "output_type": "stream",
     "text": [
      "[1, 2, 3, 4, 1, 2, 4, 1, 3, 5, 3, 3, 6, 4, 6, 2, 4, 1, 3, 3, 4, 7, 4, 2, 4, 1, 3, 6, 1, 3, 3, 8, 9, 6, 1, 3, 3]\n",
      "[1, 2, 3, 4, 1, 2, 4, 1, 3, 5, 3, 3, 6, 7, 8, 2, 4, 1, 3, 3, 4, 9, 7, 2, 4, 1, 3, 6, 1, 3, 3, 10, 11, 6, 12, 3, 3]\n",
      "[0, 1, 2, 3, 4, 5, 6, 7, 8, 9, 6, 6, 6, 6, 10, 5, 11, 0, 6, 12, 6, 13, 14, 5, 15, 4, 6, 16, 17, 6, 6, 18, 6, 19, 20, 6, 6]\n",
      "-----------------------------\n",
      "[3, 3, 3, 3, 6, 10, 6, 10, 3, 4, 5, 6, 11, 1, 1, 4, 1]\n",
      "[3, 3, 14, 3, 10, 15, 13, 16, 3, 7, 12, 17, 18, 1, 1, 7, 1]\n",
      "[6, 23, 24, 25, 26, 27, 28, 29, 30, 31, 20, 32, 33, 7, 34, 24, 0]\n",
      "-----------------------------\n",
      "[2, 4, 4, 4, 11, 4, 6, 4, 1, 2, 3]\n",
      "[2, 4, 4, 4, 18, 4, 10, 7, 1, 2, 3]\n",
      "[5, 35, 36, 37, 38, 39, 40, 24, 0, 5, 30]\n",
      "-----------------------------\n",
      "[3, 3, 4, 7, 11, 4, 4, 6, 10, 6, 4, 1, 2, 4, 4, 4, 1, 3, 7, 3, 7, 1, 11, 11, 4]\n",
      "[3, 3, 4, 9, 18, 4, 4, 10, 15, 13, 4, 1, 2, 4, 4, 4, 1, 3, 9, 3, 9, 1, 18, 18, 7]\n",
      "[41, 6, 42, 43, 44, 45, 46, 26, 47, 48, 49, 50, 5, 35, 36, 37, 0, 51, 43, 52, 43, 0, 53, 54, 55]\n",
      "-----------------------------\n",
      "[3, 3, 3, 6, 10, 4, 1, 4, 1, 4, 2, 4]\n",
      "[3, 3, 3, 10, 16, 4, 12, 7, 1, 7, 2, 4]\n",
      "[56, 57, 25, 58, 29, 59, 20, 60, 61, 60, 62, 63]\n",
      "-----------------------------\n"
     ]
    }
   ],
   "source": [
    "for index in range(len(observations[:5])):\n",
    "    print('[' + ', '.join(map(str, hidden_states_universal[:5][index])) + ']')\n",
    "    print('[' + ', '.join(map(str, hidden_states_specific[:5][index])) + ']')\n",
    "    print('[' + ', '.join(map(str, observations[:5][index])) + ']')\n",
    "    print('-----------------------------')"
   ],
   "metadata": {
    "collapsed": false,
    "ExecuteTime": {
     "end_time": "2024-02-21T20:12:09.042790Z",
     "start_time": "2024-02-21T20:12:09.033278Z"
    }
   },
   "id": "535f784c8912985"
  },
  {
   "cell_type": "code",
   "execution_count": 37,
   "outputs": [],
   "source": [
    "def add_noise_to_states_ptb(hidden_states, number_states, flip_prob=0.5):\n",
    "    noisy_hidden_states = []\n",
    "    for sequence in hidden_states:\n",
    "        noisy_sequence = []\n",
    "        for state in sequence:\n",
    "            if np.random.rand() < flip_prob:\n",
    "                # Flip the state to a different random state\n",
    "                possible_states = list(range(1, number_states + 1))\n",
    "                possible_states.remove(state)  # Remove the current state from possibilities\n",
    "                new_state = np.random.choice(possible_states)\n",
    "                noisy_sequence.append(new_state)\n",
    "            else:\n",
    "                noisy_sequence.append(state)\n",
    "        noisy_hidden_states.append(noisy_sequence)\n",
    "    return noisy_hidden_states"
   ],
   "metadata": {
    "collapsed": false,
    "ExecuteTime": {
     "end_time": "2024-02-21T20:12:09.042947Z",
     "start_time": "2024-02-21T20:12:09.038093Z"
    }
   },
   "id": "5a00b40d28c4a0a9"
  },
  {
   "cell_type": "code",
   "execution_count": 38,
   "outputs": [
    {
     "ename": "KeyboardInterrupt",
     "evalue": "",
     "output_type": "error",
     "traceback": [
      "\u001B[0;31m---------------------------------------------------------------------------\u001B[0m",
      "\u001B[0;31mKeyboardInterrupt\u001B[0m                         Traceback (most recent call last)",
      "Cell \u001B[0;32mIn [38], line 3\u001B[0m\n\u001B[1;32m      1\u001B[0m ptb_noisy_level \u001B[38;5;241m=\u001B[39m \u001B[38;5;241m0.4\u001B[39m\n\u001B[1;32m      2\u001B[0m noisy_hidden_states_universal \u001B[38;5;241m=\u001B[39m add_noise_to_states_ptb(hidden_states_universal, \u001B[38;5;28mlen\u001B[39m(upos_to_index), flip_prob\u001B[38;5;241m=\u001B[39mptb_noisy_level)\n\u001B[0;32m----> 3\u001B[0m noisy_hidden_states_specific \u001B[38;5;241m=\u001B[39m \u001B[43madd_noise_to_states_ptb\u001B[49m\u001B[43m(\u001B[49m\u001B[43mhidden_states_specific\u001B[49m\u001B[43m,\u001B[49m\u001B[43m \u001B[49m\u001B[38;5;28;43mlen\u001B[39;49m\u001B[43m(\u001B[49m\u001B[43mxpos_to_index\u001B[49m\u001B[43m)\u001B[49m\u001B[43m,\u001B[49m\u001B[43m \u001B[49m\u001B[43mflip_prob\u001B[49m\u001B[38;5;241;43m=\u001B[39;49m\u001B[43mptb_noisy_level\u001B[49m\u001B[43m)\u001B[49m\n",
      "Cell \u001B[0;32mIn [37], line 10\u001B[0m, in \u001B[0;36madd_noise_to_states_ptb\u001B[0;34m(hidden_states, number_states, flip_prob)\u001B[0m\n\u001B[1;32m      8\u001B[0m     possible_states \u001B[38;5;241m=\u001B[39m \u001B[38;5;28mlist\u001B[39m(\u001B[38;5;28mrange\u001B[39m(\u001B[38;5;241m1\u001B[39m, number_states \u001B[38;5;241m+\u001B[39m \u001B[38;5;241m1\u001B[39m))\n\u001B[1;32m      9\u001B[0m     possible_states\u001B[38;5;241m.\u001B[39mremove(state)  \u001B[38;5;66;03m# Remove the current state from possibilities\u001B[39;00m\n\u001B[0;32m---> 10\u001B[0m     new_state \u001B[38;5;241m=\u001B[39m \u001B[43mnp\u001B[49m\u001B[38;5;241;43m.\u001B[39;49m\u001B[43mrandom\u001B[49m\u001B[38;5;241;43m.\u001B[39;49m\u001B[43mchoice\u001B[49m\u001B[43m(\u001B[49m\u001B[43mpossible_states\u001B[49m\u001B[43m)\u001B[49m\n\u001B[1;32m     11\u001B[0m     noisy_sequence\u001B[38;5;241m.\u001B[39mappend(new_state)\n\u001B[1;32m     12\u001B[0m \u001B[38;5;28;01melse\u001B[39;00m:\n",
      "File \u001B[0;32mnumpy/random/mtrand.pyx:997\u001B[0m, in \u001B[0;36mnumpy.random.mtrand.RandomState.choice\u001B[0;34m()\u001B[0m\n",
      "File \u001B[0;32mnumpy/random/mtrand.pyx:781\u001B[0m, in \u001B[0;36mnumpy.random.mtrand.RandomState.randint\u001B[0;34m()\u001B[0m\n",
      "File \u001B[0;32mnumpy/random/_bounded_integers.pyx:1315\u001B[0m, in \u001B[0;36mnumpy.random._bounded_integers._rand_int64\u001B[0;34m()\u001B[0m\n",
      "File \u001B[0;32m/Library/Frameworks/Python.framework/Versions/3.10/lib/python3.10/site-packages/numpy/core/fromnumeric.py:3100\u001B[0m, in \u001B[0;36mprod\u001B[0;34m(a, axis, dtype, out, keepdims, initial, where)\u001B[0m\n\u001B[1;32m   2979\u001B[0m \u001B[38;5;129m@array_function_dispatch\u001B[39m(_prod_dispatcher)\n\u001B[1;32m   2980\u001B[0m \u001B[38;5;28;01mdef\u001B[39;00m \u001B[38;5;21mprod\u001B[39m(a, axis\u001B[38;5;241m=\u001B[39m\u001B[38;5;28;01mNone\u001B[39;00m, dtype\u001B[38;5;241m=\u001B[39m\u001B[38;5;28;01mNone\u001B[39;00m, out\u001B[38;5;241m=\u001B[39m\u001B[38;5;28;01mNone\u001B[39;00m, keepdims\u001B[38;5;241m=\u001B[39mnp\u001B[38;5;241m.\u001B[39m_NoValue,\n\u001B[1;32m   2981\u001B[0m          initial\u001B[38;5;241m=\u001B[39mnp\u001B[38;5;241m.\u001B[39m_NoValue, where\u001B[38;5;241m=\u001B[39mnp\u001B[38;5;241m.\u001B[39m_NoValue):\n\u001B[1;32m   2982\u001B[0m     \u001B[38;5;124;03m\"\"\"\u001B[39;00m\n\u001B[1;32m   2983\u001B[0m \u001B[38;5;124;03m    Return the product of array elements over a given axis.\u001B[39;00m\n\u001B[1;32m   2984\u001B[0m \n\u001B[0;32m   (...)\u001B[0m\n\u001B[1;32m   3098\u001B[0m \u001B[38;5;124;03m    10\u001B[39;00m\n\u001B[1;32m   3099\u001B[0m \u001B[38;5;124;03m    \"\"\"\u001B[39;00m\n\u001B[0;32m-> 3100\u001B[0m     \u001B[38;5;28;01mreturn\u001B[39;00m \u001B[43m_wrapreduction\u001B[49m\u001B[43m(\u001B[49m\u001B[43ma\u001B[49m\u001B[43m,\u001B[49m\u001B[43m \u001B[49m\u001B[43mnp\u001B[49m\u001B[38;5;241;43m.\u001B[39;49m\u001B[43mmultiply\u001B[49m\u001B[43m,\u001B[49m\u001B[43m \u001B[49m\u001B[38;5;124;43m'\u001B[39;49m\u001B[38;5;124;43mprod\u001B[39;49m\u001B[38;5;124;43m'\u001B[39;49m\u001B[43m,\u001B[49m\u001B[43m \u001B[49m\u001B[43maxis\u001B[49m\u001B[43m,\u001B[49m\u001B[43m \u001B[49m\u001B[43mdtype\u001B[49m\u001B[43m,\u001B[49m\u001B[43m \u001B[49m\u001B[43mout\u001B[49m\u001B[43m,\u001B[49m\n\u001B[1;32m   3101\u001B[0m \u001B[43m                          \u001B[49m\u001B[43mkeepdims\u001B[49m\u001B[38;5;241;43m=\u001B[39;49m\u001B[43mkeepdims\u001B[49m\u001B[43m,\u001B[49m\u001B[43m \u001B[49m\u001B[43minitial\u001B[49m\u001B[38;5;241;43m=\u001B[39;49m\u001B[43minitial\u001B[49m\u001B[43m,\u001B[49m\u001B[43m \u001B[49m\u001B[43mwhere\u001B[49m\u001B[38;5;241;43m=\u001B[39;49m\u001B[43mwhere\u001B[49m\u001B[43m)\u001B[49m\n",
      "File \u001B[0;32m/Library/Frameworks/Python.framework/Versions/3.10/lib/python3.10/site-packages/numpy/core/fromnumeric.py:88\u001B[0m, in \u001B[0;36m_wrapreduction\u001B[0;34m(obj, ufunc, method, axis, dtype, out, **kwargs)\u001B[0m\n\u001B[1;32m     85\u001B[0m         \u001B[38;5;28;01melse\u001B[39;00m:\n\u001B[1;32m     86\u001B[0m             \u001B[38;5;28;01mreturn\u001B[39;00m reduction(axis\u001B[38;5;241m=\u001B[39maxis, out\u001B[38;5;241m=\u001B[39mout, \u001B[38;5;241m*\u001B[39m\u001B[38;5;241m*\u001B[39mpasskwargs)\n\u001B[0;32m---> 88\u001B[0m \u001B[38;5;28;01mreturn\u001B[39;00m \u001B[43mufunc\u001B[49m\u001B[38;5;241;43m.\u001B[39;49m\u001B[43mreduce\u001B[49m\u001B[43m(\u001B[49m\u001B[43mobj\u001B[49m\u001B[43m,\u001B[49m\u001B[43m \u001B[49m\u001B[43maxis\u001B[49m\u001B[43m,\u001B[49m\u001B[43m \u001B[49m\u001B[43mdtype\u001B[49m\u001B[43m,\u001B[49m\u001B[43m \u001B[49m\u001B[43mout\u001B[49m\u001B[43m,\u001B[49m\u001B[43m \u001B[49m\u001B[38;5;241;43m*\u001B[39;49m\u001B[38;5;241;43m*\u001B[39;49m\u001B[43mpasskwargs\u001B[49m\u001B[43m)\u001B[49m\n",
      "\u001B[0;31mKeyboardInterrupt\u001B[0m: "
     ]
    }
   ],
   "source": [
    "ptb_noisy_level = 0.4\n",
    "noisy_hidden_states_universal = add_noise_to_states_ptb(hidden_states_universal, len(upos_to_index), flip_prob=ptb_noisy_level)\n",
    "noisy_hidden_states_specific = add_noise_to_states_ptb(hidden_states_specific, len(xpos_to_index), flip_prob=ptb_noisy_level)"
   ],
   "metadata": {
    "collapsed": false,
    "ExecuteTime": {
     "end_time": "2024-02-21T20:12:12.288237Z",
     "start_time": "2024-02-21T20:12:09.056175Z"
    }
   },
   "id": "882f45144c8d7d64"
  },
  {
   "cell_type": "code",
   "execution_count": null,
   "outputs": [],
   "source": [
    "for i in range(len(hidden_states_universal)):\n",
    "    hidden_states_universal[i].insert(0, 0)\n",
    "    noisy_hidden_states_universal[i].insert(0, 0)\n",
    "\n",
    "    hidden_states_specific[i].insert(0, 0)\n",
    "    noisy_hidden_states_specific[i].insert(0, 0)\n",
    "    \n",
    "    observations[i].insert(0, -1)"
   ],
   "metadata": {
    "collapsed": false,
    "ExecuteTime": {
     "end_time": "2024-02-21T20:12:12.302269Z",
     "start_time": "2024-02-21T20:12:12.289327Z"
    }
   },
   "id": "bb61f6c5a8ed226b"
  },
  {
   "cell_type": "code",
   "execution_count": null,
   "outputs": [],
   "source": [
    "for index in range(len(observations[20:25])):\n",
    "    print('[' + ', '.join(map(str, hidden_states_universal[:5][index])) + ']')\n",
    "    print('[' + ', '.join(map(str, noisy_hidden_states_universal[:5][index])) + ']')\n",
    "    print('-----------------------------')"
   ],
   "metadata": {
    "collapsed": false,
    "ExecuteTime": {
     "start_time": "2024-02-21T20:12:12.291205Z"
    }
   },
   "id": "7268fce90a40c6f1"
  },
  {
   "cell_type": "code",
   "execution_count": null,
   "outputs": [],
   "source": [
    "for index in range(len(observations[:5])):\n",
    "    print('[' + ', '.join(map(str, hidden_states_specific[:5][index])) + ']')\n",
    "    print('[' + ', '.join(map(str, noisy_hidden_states_specific[:5][index])) + ']')\n",
    "    print('-----------------------------')"
   ],
   "metadata": {
    "collapsed": false,
    "ExecuteTime": {
     "start_time": "2024-02-21T20:12:12.293404Z"
    }
   },
   "id": "80f31f2fc3b2a95b"
  },
  {
   "cell_type": "code",
   "execution_count": null,
   "outputs": [],
   "source": [
    "for index in range(len(observations[:5])):\n",
    "    print('[' + ', '.join(map(str, observations[:5][index])) + ']')\n",
    "    print('-----------------------------')"
   ],
   "metadata": {
    "collapsed": false,
    "ExecuteTime": {
     "start_time": "2024-02-21T20:12:12.295176Z"
    }
   },
   "id": "fc3fe53ff9d663a"
  },
  {
   "cell_type": "code",
   "execution_count": null,
   "outputs": [],
   "source": [
    "file_path = f\"../../../data/PTB_synthetic_dataset(noise-{ptb_noisy_level}).npz\"\n",
    "obs_object = np.array(observations, dtype=object)\n",
    "uni_hid_object = np.array(hidden_states_universal, dtype=object)\n",
    "noisy_uni_hid_object = np.array(noisy_hidden_states_universal, dtype=object)\n",
    "spc_hid_object = np.array(hidden_states_specific, dtype=object)\n",
    "noisy_spc_hid_object = np.array(noisy_hidden_states_specific, dtype=object)\n",
    "np.savez(file_path, num_states=len(upos_to_index) + 1, num_obs=len(word_to_index), observation=obs_object, real_hidden_universal=uni_hid_object, noisy_hidden_universal=noisy_uni_hid_object, real_hidden_specific=spc_hid_object, noisy_hidden_specifc=noisy_spc_hid_object, noisy_level=ptb_noisy_level)"
   ],
   "metadata": {
    "collapsed": false,
    "ExecuteTime": {
     "start_time": "2024-02-21T20:12:12.296930Z"
    }
   },
   "id": "9da93b0a5f4dbd12"
  },
  {
   "cell_type": "code",
   "execution_count": 40,
   "outputs": [
    {
     "data": {
      "text/plain": "35"
     },
     "execution_count": 40,
     "metadata": {},
     "output_type": "execute_result"
    }
   ],
   "source": [
    "len(xpos_to_index) + 1"
   ],
   "metadata": {
    "collapsed": false,
    "ExecuteTime": {
     "end_time": "2024-02-21T20:12:48.868870Z",
     "start_time": "2024-02-21T20:12:48.865291Z"
    }
   },
   "id": "7572d9da5d2a7709"
  },
  {
   "cell_type": "code",
   "execution_count": null,
   "outputs": [],
   "source": [
    "read_npz = np.load(\"../data/PennTreebank_synthetic_dataset(noise-0.8).npz\")\n",
    "read_npz['num_obs'], read_npz['num_states']"
   ],
   "metadata": {
    "collapsed": false,
    "ExecuteTime": {
     "start_time": "2024-02-21T20:12:12.298541Z"
    }
   },
   "id": "6d6feaa2629c902b"
  },
  {
   "cell_type": "code",
   "execution_count": null,
   "outputs": [],
   "source": [
    "upos_to_index['UNK_TAG']"
   ],
   "metadata": {
    "collapsed": false,
    "ExecuteTime": {
     "start_time": "2024-02-21T20:12:12.299734Z"
    }
   },
   "id": "3a704269a47fb374"
  },
  {
   "cell_type": "code",
   "execution_count": null,
   "outputs": [],
   "source": [
    "read_result = np.load(\"../data/ptb-noise-0.7_iter-20_timestamp-0118_222152_result.npz\")\n",
    "read_result['result']"
   ],
   "metadata": {
    "collapsed": false,
    "ExecuteTime": {
     "start_time": "2024-02-21T20:12:12.300783Z"
    }
   },
   "id": "4602cb8c42902b00"
  }
 ],
 "metadata": {
  "kernelspec": {
   "display_name": "Python 3",
   "language": "python",
   "name": "python3"
  },
  "language_info": {
   "codemirror_mode": {
    "name": "ipython",
    "version": 2
   },
   "file_extension": ".py",
   "mimetype": "text/x-python",
   "name": "python",
   "nbconvert_exporter": "python",
   "pygments_lexer": "ipython2",
   "version": "2.7.6"
  }
 },
 "nbformat": 4,
 "nbformat_minor": 5
}
