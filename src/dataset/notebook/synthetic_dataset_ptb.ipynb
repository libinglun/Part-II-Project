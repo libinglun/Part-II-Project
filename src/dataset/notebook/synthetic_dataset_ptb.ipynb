{
 "cells": [
  {
   "cell_type": "markdown",
   "source": [
    "### Create Synthetic Dateset on Penn Treebank"
   ],
   "metadata": {
    "collapsed": false
   },
   "id": "92c05b1a0591f6a1"
  },
  {
   "cell_type": "code",
   "execution_count": 1,
   "outputs": [],
   "source": [
    "import numpy as np\n",
    "from collections import Counter\n",
    "from collections import defaultdict"
   ],
   "metadata": {
    "collapsed": false,
    "ExecuteTime": {
     "end_time": "2024-01-26T19:52:54.980421Z",
     "start_time": "2024-01-26T19:52:54.859052Z"
    }
   },
   "id": "ded2974dd95dd4ce"
  },
  {
   "cell_type": "code",
   "execution_count": 2,
   "outputs": [],
   "source": [
    "def read_sentences_with_pos_tags(path):\n",
    "    sentences_with_pos_tags = []\n",
    "\n",
    "    with open(path, 'r', encoding='utf-8') as file:\n",
    "        current_sentence = []\n",
    "        for line in file:\n",
    "            if line.strip() and not line.startswith('#'):   # Skip empty lines and comments\n",
    "                fields = line.split('\\t')\n",
    "                if len(fields) > 3:                         # Ensure there are enough fields\n",
    "                    word = fields[1].lower()                # Word form is the second field\n",
    "                    upos = fields[3]                        # Universal POS tag is the fourth field\n",
    "                    xpos = fields[4]                        # Language specific POS tag is the fifth field\n",
    "                    if upos not in ['NUM', 'PUNCT', 'INTJ', 'X']:  # Remove punctuation, interjection, and undefined pos tags\n",
    "                        current_sentence.append((word, upos, xpos))\n",
    "\n",
    "            # New sentence\n",
    "            elif current_sentence:\n",
    "                sentences_with_pos_tags.append(current_sentence)\n",
    "                current_sentence = []\n",
    "\n",
    "    return sentences_with_pos_tags"
   ],
   "metadata": {
    "collapsed": false,
    "ExecuteTime": {
     "end_time": "2024-01-26T19:52:55.723635Z",
     "start_time": "2024-01-26T19:52:55.699223Z"
    }
   },
   "id": "70fbf6963dc61f51"
  },
  {
   "cell_type": "code",
   "execution_count": 7,
   "outputs": [],
   "source": [
    "file_path1 = '../../../data/ptb/penn-train.conllu'\n",
    "file_path2 = '../data/ptb/penn-test.conllu'\n",
    "file_path3 = '../data/ptb/penn-dev.conllu'"
   ],
   "metadata": {
    "collapsed": false,
    "ExecuteTime": {
     "end_time": "2024-01-26T19:53:22.721045Z",
     "start_time": "2024-01-26T19:53:22.709460Z"
    }
   },
   "id": "dbd67d483442e3ac"
  },
  {
   "cell_type": "code",
   "execution_count": 8,
   "outputs": [
    {
     "name": "stdout",
     "output_type": "stream",
     "text": [
      "39821\n"
     ]
    },
    {
     "data": {
      "text/plain": "[[('in', 'ADP', 'IN'),\n  ('an', 'DET', 'DT'),\n  ('oct.', 'PROPN', 'NNP'),\n  ('review', 'NOUN', 'NN'),\n  ('of', 'ADP', 'IN'),\n  ('the', 'DET', 'DT'),\n  ('misanthrope', 'NOUN', 'NN'),\n  ('at', 'ADP', 'IN'),\n  ('chicago', 'PROPN', 'NNP'),\n  (\"'s\", 'PART', 'POS'),\n  ('goodman', 'PROPN', 'NNP'),\n  ('theatre', 'PROPN', 'NNP'),\n  ('revitalized', 'VERB', 'VBN'),\n  ('classics', 'NOUN', 'NNS'),\n  ('take', 'VERB', 'VBP'),\n  ('the', 'DET', 'DT'),\n  ('stage', 'NOUN', 'NN'),\n  ('in', 'ADP', 'IN'),\n  ('windy', 'PROPN', 'NNP'),\n  ('city', 'PROPN', 'NNP'),\n  ('leisure', 'NOUN', 'NN'),\n  ('&', 'CONJ', 'CC'),\n  ('arts', 'NOUN', 'NNS'),\n  ('the', 'DET', 'DT'),\n  ('role', 'NOUN', 'NN'),\n  ('of', 'ADP', 'IN'),\n  ('celimene', 'PROPN', 'NNP'),\n  ('played', 'VERB', 'VBN'),\n  ('by', 'ADP', 'IN'),\n  ('kim', 'PROPN', 'NNP'),\n  ('cattrall', 'PROPN', 'NNP'),\n  ('was', 'AUX', 'VBD'),\n  ('mistakenly', 'ADV', 'RB'),\n  ('attributed', 'VERB', 'VBN'),\n  ('to', 'ADP', 'TO'),\n  ('christina', 'PROPN', 'NNP'),\n  ('haag', 'PROPN', 'NNP')],\n [('ms.', 'PROPN', 'NNP'),\n  ('haag', 'PROPN', 'NNP'),\n  ('plays', 'VERB', 'VBZ'),\n  ('elianti', 'PROPN', 'NNP')],\n [('rolls-royce', 'PROPN', 'NNP'),\n  ('motor', 'PROPN', 'NNP'),\n  ('cars', 'PROPN', 'NNPS'),\n  ('inc.', 'PROPN', 'NNP'),\n  ('said', 'VERB', 'VBD'),\n  ('it', 'PRON', 'PRP'),\n  ('expects', 'VERB', 'VBZ'),\n  ('its', 'PRON', 'PRP$'),\n  ('u.s.', 'PROPN', 'NNP'),\n  ('sales', 'NOUN', 'NNS'),\n  ('to', 'PART', 'TO'),\n  ('remain', 'VERB', 'VB'),\n  ('steady', 'ADJ', 'JJ'),\n  ('at', 'ADP', 'IN'),\n  ('about', 'ADP', 'IN'),\n  ('cars', 'NOUN', 'NNS'),\n  ('in', 'ADP', 'IN')]]"
     },
     "execution_count": 8,
     "metadata": {},
     "output_type": "execute_result"
    }
   ],
   "source": [
    "sentences_pos_tags = read_sentences_with_pos_tags(file_path1)\n",
    "print(len(sentences_pos_tags))\n",
    "sentences_pos_tags[:3]"
   ],
   "metadata": {
    "collapsed": false,
    "ExecuteTime": {
     "end_time": "2024-01-26T19:53:24.119983Z",
     "start_time": "2024-01-26T19:53:23.466893Z"
    }
   },
   "id": "1d1783e8d11a2486"
  },
  {
   "cell_type": "code",
   "execution_count": 10,
   "outputs": [],
   "source": [
    "def replace_low_frequency_words(sentences_with_pos_tags, filter_count=1):\n",
    "    # Count the frequencies of each word\n",
    "    word_counts = Counter(word for sentence in sentences_with_pos_tags for word, _, _ in sentence)\n",
    "\n",
    "    # Replace words with count less than filter_count to 'UNK' and their tags to 'UNK_TAG'\n",
    "    processed_sentences = []\n",
    "    for sentence in sentences_with_pos_tags:\n",
    "        new_sentence = []\n",
    "        for word, upos, xpos in sentence:\n",
    "            if word_counts[word] < filter_count:\n",
    "                new_word = 'UNK'                # Only set the word to UNK\n",
    "                new_upos = upos\n",
    "                new_xpos = xpos\n",
    "            else:\n",
    "                new_word = word\n",
    "                new_upos = upos\n",
    "                new_xpos = xpos\n",
    "            new_sentence.append((new_word, new_upos, new_xpos))\n",
    "        processed_sentences.append(new_sentence)\n",
    "\n",
    "    return processed_sentences"
   ],
   "metadata": {
    "collapsed": false,
    "ExecuteTime": {
     "end_time": "2024-01-26T19:53:27.395552Z",
     "start_time": "2024-01-26T19:53:27.385589Z"
    }
   },
   "id": "64552bda6752f35c"
  },
  {
   "cell_type": "code",
   "execution_count": 11,
   "outputs": [
    {
     "data": {
      "text/plain": "[[('in', 'ADP', 'IN'),\n  ('an', 'DET', 'DT'),\n  ('oct.', 'PROPN', 'NNP'),\n  ('review', 'NOUN', 'NN'),\n  ('of', 'ADP', 'IN'),\n  ('the', 'DET', 'DT'),\n  ('UNK', 'NOUN', 'NN'),\n  ('at', 'ADP', 'IN'),\n  ('chicago', 'PROPN', 'NNP'),\n  (\"'s\", 'PART', 'POS'),\n  ('UNK', 'PROPN', 'NNP'),\n  ('UNK', 'PROPN', 'NNP'),\n  ('UNK', 'VERB', 'VBN'),\n  ('UNK', 'NOUN', 'NNS'),\n  ('take', 'VERB', 'VBP'),\n  ('the', 'DET', 'DT'),\n  ('stage', 'NOUN', 'NN'),\n  ('in', 'ADP', 'IN'),\n  ('UNK', 'PROPN', 'NNP'),\n  ('city', 'PROPN', 'NNP'),\n  ('UNK', 'NOUN', 'NN'),\n  ('&', 'CONJ', 'CC'),\n  ('arts', 'NOUN', 'NNS'),\n  ('the', 'DET', 'DT'),\n  ('role', 'NOUN', 'NN'),\n  ('of', 'ADP', 'IN'),\n  ('UNK', 'PROPN', 'NNP'),\n  ('played', 'VERB', 'VBN'),\n  ('by', 'ADP', 'IN'),\n  ('UNK', 'PROPN', 'NNP'),\n  ('UNK', 'PROPN', 'NNP'),\n  ('was', 'AUX', 'VBD'),\n  ('UNK', 'ADV', 'RB'),\n  ('attributed', 'VERB', 'VBN'),\n  ('to', 'ADP', 'TO'),\n  ('UNK', 'PROPN', 'NNP'),\n  ('UNK', 'PROPN', 'NNP')],\n [('ms.', 'PROPN', 'NNP'),\n  ('UNK', 'PROPN', 'NNP'),\n  ('plays', 'VERB', 'VBZ'),\n  ('UNK', 'PROPN', 'NNP')],\n [('UNK', 'PROPN', 'NNP'),\n  ('motor', 'PROPN', 'NNP'),\n  ('cars', 'PROPN', 'NNPS'),\n  ('inc.', 'PROPN', 'NNP'),\n  ('said', 'VERB', 'VBD'),\n  ('it', 'PRON', 'PRP'),\n  ('expects', 'VERB', 'VBZ'),\n  ('its', 'PRON', 'PRP$'),\n  ('u.s.', 'PROPN', 'NNP'),\n  ('sales', 'NOUN', 'NNS'),\n  ('to', 'PART', 'TO'),\n  ('remain', 'VERB', 'VB'),\n  ('steady', 'ADJ', 'JJ'),\n  ('at', 'ADP', 'IN'),\n  ('about', 'ADP', 'IN'),\n  ('cars', 'NOUN', 'NNS'),\n  ('in', 'ADP', 'IN')]]"
     },
     "execution_count": 11,
     "metadata": {},
     "output_type": "execute_result"
    }
   ],
   "source": [
    "filtered_sentences = replace_low_frequency_words(sentences_pos_tags, filter_count=10)\n",
    "filtered_sentences[:3]"
   ],
   "metadata": {
    "collapsed": false,
    "ExecuteTime": {
     "end_time": "2024-01-26T19:53:29.397640Z",
     "start_time": "2024-01-26T19:53:29.172935Z"
    }
   },
   "id": "519fa300c7c1ea65"
  },
  {
   "cell_type": "code",
   "execution_count": 12,
   "outputs": [],
   "source": [
    "def create_vocab_index(sentences_with_pos_tags):\n",
    "    # Function to create a dictionary mapping each unique word/POS to an integer index\n",
    "    # with specified start index\n",
    "    def build_index(items, start_index=0):\n",
    "        item_to_index = defaultdict(lambda: len(item_to_index) + start_index)\n",
    "        for item in items:\n",
    "            item_to_index[item]\n",
    "        return dict(item_to_index)\n",
    "\n",
    "    all_words = [word for sentence in sentences_with_pos_tags for word, upos, xpos in sentence]\n",
    "    all_upos_tags = [upos for sentence in sentences_with_pos_tags for word, upos, xpos in sentence]\n",
    "    all_xpos_tags = [xpos for sentence in sentences_with_pos_tags for word, upos, xpos in sentence]\n",
    "\n",
    "    return build_index(all_words, start_index=0), build_index(all_upos_tags, start_index=1),  build_index(all_xpos_tags, start_index=1)"
   ],
   "metadata": {
    "collapsed": false,
    "ExecuteTime": {
     "end_time": "2024-01-26T19:53:32.235604Z",
     "start_time": "2024-01-26T19:53:32.232721Z"
    }
   },
   "id": "f1857d0c82ac9ab7"
  },
  {
   "cell_type": "code",
   "execution_count": 13,
   "outputs": [
    {
     "name": "stdout",
     "output_type": "stream",
     "text": [
      "6466\n"
     ]
    },
    {
     "data": {
      "text/plain": "([('take', 10), ('stage', 11), ('city', 12), ('&', 13), ('arts', 14)],\n [('ADP', 1),\n  ('DET', 2),\n  ('PROPN', 3),\n  ('NOUN', 4),\n  ('PART', 5),\n  ('VERB', 6),\n  ('CONJ', 7),\n  ('AUX', 8),\n  ('ADV', 9),\n  ('PRON', 10),\n  ('ADJ', 11),\n  ('SCONJ', 12),\n  ('SYM', 13)])"
     },
     "execution_count": 13,
     "metadata": {},
     "output_type": "execute_result"
    }
   ],
   "source": [
    "word_to_index, upos_to_index, xpos_to_index = create_vocab_index(filtered_sentences)\n",
    "print(len(word_to_index))\n",
    "list(word_to_index.items())[10:15], list(upos_to_index.items())"
   ],
   "metadata": {
    "collapsed": false,
    "ExecuteTime": {
     "end_time": "2024-01-26T19:53:33.438556Z",
     "start_time": "2024-01-26T19:53:33.285153Z"
    }
   },
   "id": "627926987e0430ce"
  },
  {
   "cell_type": "code",
   "execution_count": 14,
   "outputs": [],
   "source": [
    "def count_tags(tag, sentences_with_pos_tags):\n",
    "    count = 0\n",
    "    for sentence in sentences_with_pos_tags: \n",
    "        for _, upos, _ in sentence:\n",
    "            if upos == tag: \n",
    "                # print(sentence)\n",
    "                count += 1\n",
    "                \n",
    "    return count"
   ],
   "metadata": {
    "collapsed": false,
    "ExecuteTime": {
     "end_time": "2024-01-26T19:53:35.455494Z",
     "start_time": "2024-01-26T19:53:35.437044Z"
    }
   },
   "id": "3f8d494dbc15cab8"
  },
  {
   "cell_type": "code",
   "execution_count": 15,
   "outputs": [
    {
     "data": {
      "text/plain": "(6466, 13, 34)"
     },
     "execution_count": 15,
     "metadata": {},
     "output_type": "execute_result"
    }
   ],
   "source": [
    "len(word_to_index), len(upos_to_index), len(xpos_to_index)"
   ],
   "metadata": {
    "collapsed": false,
    "ExecuteTime": {
     "end_time": "2024-01-26T19:53:36.480843Z",
     "start_time": "2024-01-26T19:53:36.468338Z"
    }
   },
   "id": "45b9d3235e2411f7"
  },
  {
   "cell_type": "code",
   "execution_count": 16,
   "outputs": [
    {
     "name": "stdout",
     "output_type": "stream",
     "text": [
      "97030\n",
      "80893\n",
      "94139\n",
      "187112\n",
      "25869\n",
      "106967\n",
      "23947\n",
      "28196\n",
      "31211\n",
      "35590\n",
      "66402\n",
      "13503\n",
      "12504\n"
     ]
    }
   ],
   "source": [
    "for tag, _ in upos_to_index.items():\n",
    "    print(count_tags(tag, filtered_sentences))"
   ],
   "metadata": {
    "collapsed": false,
    "ExecuteTime": {
     "end_time": "2024-01-26T19:53:38.851594Z",
     "start_time": "2024-01-26T19:53:38.442325Z"
    }
   },
   "id": "afe46007fe33e22"
  },
  {
   "cell_type": "code",
   "execution_count": 17,
   "outputs": [],
   "source": [
    "def convert_to_indexes(filtered_sentences_tags, word_to_index, upos_to_index, xpos_to_index):\n",
    "    hidden_states_universal = []\n",
    "    hidden_states_specific = []\n",
    "    observations = []\n",
    "\n",
    "    for sentence in filtered_sentences_tags:\n",
    "        if len(sentence) <= 5: \n",
    "            continue\n",
    "        sentence_upos_indexes = [upos_to_index[upos] for _, upos, _ in sentence]\n",
    "        sentence_xpos_indexes = [xpos_to_index[xpos] for _, _, xpos in sentence]\n",
    "        sentence_word_indexes = [word_to_index[word] for word, _, _ in sentence]\n",
    "\n",
    "        hidden_states_universal.append(sentence_upos_indexes)\n",
    "        hidden_states_specific.append(sentence_xpos_indexes)\n",
    "        observations.append(sentence_word_indexes)\n",
    "\n",
    "    return hidden_states_universal, hidden_states_specific, observations"
   ],
   "metadata": {
    "collapsed": false,
    "ExecuteTime": {
     "end_time": "2024-01-26T19:53:40.188359Z",
     "start_time": "2024-01-26T19:53:40.179193Z"
    }
   },
   "id": "d99468136e414171"
  },
  {
   "cell_type": "code",
   "execution_count": 18,
   "outputs": [],
   "source": [
    "hidden_states_universal, hidden_states_specific, observations = convert_to_indexes(\n",
    "    filtered_sentences, word_to_index, upos_to_index, xpos_to_index)"
   ],
   "metadata": {
    "collapsed": false,
    "ExecuteTime": {
     "end_time": "2024-01-26T19:53:42.052390Z",
     "start_time": "2024-01-26T19:53:41.877024Z"
    }
   },
   "id": "75c511c19f12c211"
  },
  {
   "cell_type": "code",
   "execution_count": 19,
   "outputs": [
    {
     "name": "stdout",
     "output_type": "stream",
     "text": [
      "[1, 2, 3, 4, 1, 2, 4, 1, 3, 5, 3, 3, 6, 4, 6, 2, 4, 1, 3, 3, 4, 7, 4, 2, 4, 1, 3, 6, 1, 3, 3, 8, 9, 6, 1, 3, 3]\n",
      "[1, 2, 3, 4, 1, 2, 4, 1, 3, 5, 3, 3, 6, 7, 8, 2, 4, 1, 3, 3, 4, 9, 7, 2, 4, 1, 3, 6, 1, 3, 3, 10, 11, 6, 12, 3, 3]\n",
      "[0, 1, 2, 3, 4, 5, 6, 7, 8, 9, 6, 6, 6, 6, 10, 5, 11, 0, 6, 12, 6, 13, 14, 5, 15, 4, 6, 16, 17, 6, 6, 18, 6, 19, 20, 6, 6]\n",
      "-----------------------------\n",
      "[3, 3, 3, 3, 6, 10, 6, 10, 3, 4, 5, 6, 11, 1, 1, 4, 1]\n",
      "[3, 3, 14, 3, 10, 15, 13, 16, 3, 7, 12, 17, 18, 1, 1, 7, 1]\n",
      "[6, 23, 24, 25, 26, 27, 28, 29, 30, 31, 20, 32, 33, 7, 34, 24, 0]\n",
      "-----------------------------\n",
      "[2, 4, 4, 4, 11, 4, 6, 4, 1, 2, 3]\n",
      "[2, 4, 4, 4, 18, 4, 10, 7, 1, 2, 3]\n",
      "[5, 35, 36, 37, 38, 39, 40, 24, 0, 5, 30]\n",
      "-----------------------------\n",
      "[3, 3, 4, 7, 11, 4, 4, 6, 10, 6, 4, 1, 2, 4, 4, 4, 1, 3, 7, 3, 7, 1, 11, 11, 4]\n",
      "[3, 3, 4, 9, 18, 4, 4, 10, 15, 13, 4, 1, 2, 4, 4, 4, 1, 3, 9, 3, 9, 1, 18, 18, 7]\n",
      "[41, 6, 42, 43, 44, 45, 46, 26, 47, 48, 49, 50, 5, 35, 36, 37, 0, 51, 43, 52, 43, 0, 53, 54, 55]\n",
      "-----------------------------\n",
      "[3, 3, 3, 6, 10, 4, 1, 4, 1, 4, 2, 4]\n",
      "[3, 3, 3, 10, 16, 4, 12, 7, 1, 7, 2, 4]\n",
      "[56, 57, 25, 58, 29, 59, 20, 60, 61, 60, 62, 63]\n",
      "-----------------------------\n"
     ]
    }
   ],
   "source": [
    "for index in range(len(observations[:5])):\n",
    "    print('[' + ', '.join(map(str, hidden_states_universal[:5][index])) + ']')\n",
    "    print('[' + ', '.join(map(str, hidden_states_specific[:5][index])) + ']')\n",
    "    print('[' + ', '.join(map(str, observations[:5][index])) + ']')\n",
    "    print('-----------------------------')"
   ],
   "metadata": {
    "collapsed": false,
    "ExecuteTime": {
     "end_time": "2024-01-26T19:53:44.026849Z",
     "start_time": "2024-01-26T19:53:44.010466Z"
    }
   },
   "id": "535f784c8912985"
  },
  {
   "cell_type": "code",
   "execution_count": 20,
   "outputs": [],
   "source": [
    "def add_noise_to_states_ptb(hidden_states, number_states, flip_prob=0.5):\n",
    "    noisy_hidden_states = []\n",
    "    for sequence in hidden_states:\n",
    "        noisy_sequence = []\n",
    "        for state in sequence:\n",
    "            if np.random.rand() < flip_prob:\n",
    "                # Flip the state to a different random state\n",
    "                possible_states = list(range(1, number_states + 1))\n",
    "                possible_states.remove(state)  # Remove the current state from possibilities\n",
    "                new_state = np.random.choice(possible_states)\n",
    "                noisy_sequence.append(new_state)\n",
    "            else:\n",
    "                noisy_sequence.append(state)\n",
    "        noisy_hidden_states.append(noisy_sequence)\n",
    "    return noisy_hidden_states"
   ],
   "metadata": {
    "collapsed": false,
    "ExecuteTime": {
     "end_time": "2024-01-26T19:53:50.708946Z",
     "start_time": "2024-01-26T19:53:50.696449Z"
    }
   },
   "id": "5a00b40d28c4a0a9"
  },
  {
   "cell_type": "code",
   "execution_count": 21,
   "outputs": [],
   "source": [
    "ptb_noisy_level = 0.4\n",
    "noisy_hidden_states_universal = add_noise_to_states_ptb(hidden_states_universal, len(upos_to_index), flip_prob=ptb_noisy_level)\n",
    "noisy_hidden_states_specific = add_noise_to_states_ptb(hidden_states_specific, len(xpos_to_index), flip_prob=ptb_noisy_level)"
   ],
   "metadata": {
    "collapsed": false,
    "ExecuteTime": {
     "end_time": "2024-01-26T19:53:57.360693Z",
     "start_time": "2024-01-26T19:53:54.216614Z"
    }
   },
   "id": "882f45144c8d7d64"
  },
  {
   "cell_type": "code",
   "execution_count": 22,
   "outputs": [],
   "source": [
    "for i in range(len(hidden_states_universal)):\n",
    "    hidden_states_universal[i].insert(0, 0)\n",
    "    noisy_hidden_states_universal[i].insert(0, 0)\n",
    "\n",
    "    hidden_states_specific[i].insert(0, 0)\n",
    "    noisy_hidden_states_specific[i].insert(0, 0)\n",
    "    \n",
    "    observations[i].insert(0, -1)"
   ],
   "metadata": {
    "collapsed": false,
    "ExecuteTime": {
     "end_time": "2024-01-26T19:53:59.091490Z",
     "start_time": "2024-01-26T19:53:59.084012Z"
    }
   },
   "id": "bb61f6c5a8ed226b"
  },
  {
   "cell_type": "code",
   "execution_count": 23,
   "outputs": [
    {
     "name": "stdout",
     "output_type": "stream",
     "text": [
      "[0, 1, 2, 3, 4, 1, 2, 4, 1, 3, 5, 3, 3, 6, 4, 6, 2, 4, 1, 3, 3, 4, 7, 4, 2, 4, 1, 3, 6, 1, 3, 3, 8, 9, 6, 1, 3, 3]\n",
      "[0, 2, 13, 6, 4, 1, 2, 4, 1, 3, 5, 3, 3, 13, 4, 3, 2, 4, 11, 10, 3, 12, 7, 4, 2, 4, 1, 3, 6, 1, 3, 1, 8, 9, 6, 1, 1, 3]\n",
      "-----------------------------\n",
      "[0, 3, 3, 3, 3, 6, 10, 6, 10, 3, 4, 5, 6, 11, 1, 1, 4, 1]\n",
      "[0, 3, 3, 2, 9, 6, 8, 6, 6, 3, 4, 7, 6, 2, 13, 1, 4, 1]\n",
      "-----------------------------\n",
      "[0, 2, 4, 4, 4, 11, 4, 6, 4, 1, 2, 3]\n",
      "[0, 10, 10, 4, 8, 11, 2, 11, 4, 1, 12, 3]\n",
      "-----------------------------\n",
      "[0, 3, 3, 4, 7, 11, 4, 4, 6, 10, 6, 4, 1, 2, 4, 4, 4, 1, 3, 7, 3, 7, 1, 11, 11, 4]\n",
      "[0, 3, 3, 4, 2, 11, 7, 3, 3, 10, 6, 2, 5, 2, 10, 12, 4, 1, 3, 7, 3, 7, 1, 11, 11, 6]\n",
      "-----------------------------\n",
      "[0, 3, 3, 3, 6, 10, 4, 1, 4, 1, 4, 2, 4]\n",
      "[0, 3, 3, 3, 6, 10, 4, 9, 12, 1, 4, 2, 7]\n",
      "-----------------------------\n"
     ]
    }
   ],
   "source": [
    "for index in range(len(observations[20:25])):\n",
    "    print('[' + ', '.join(map(str, hidden_states_universal[:5][index])) + ']')\n",
    "    print('[' + ', '.join(map(str, noisy_hidden_states_universal[:5][index])) + ']')\n",
    "    print('-----------------------------')"
   ],
   "metadata": {
    "collapsed": false,
    "ExecuteTime": {
     "end_time": "2024-01-26T19:54:00.579410Z",
     "start_time": "2024-01-26T19:54:00.562325Z"
    }
   },
   "id": "7268fce90a40c6f1"
  },
  {
   "cell_type": "code",
   "execution_count": 24,
   "outputs": [
    {
     "name": "stdout",
     "output_type": "stream",
     "text": [
      "[0, 1, 2, 3, 4, 1, 2, 4, 1, 3, 5, 3, 3, 6, 7, 8, 2, 4, 1, 3, 3, 4, 9, 7, 2, 4, 1, 3, 6, 1, 3, 3, 10, 11, 6, 12, 3, 3]\n",
      "[0, 1, 17, 16, 4, 1, 2, 9, 28, 3, 5, 3, 8, 6, 7, 8, 2, 4, 1, 3, 3, 4, 9, 7, 2, 16, 34, 3, 6, 1, 10, 3, 10, 11, 32, 12, 19, 10]\n",
      "-----------------------------\n",
      "[0, 3, 3, 14, 3, 10, 15, 13, 16, 3, 7, 12, 17, 18, 1, 1, 7, 1]\n",
      "[0, 3, 3, 14, 5, 33, 15, 31, 16, 31, 2, 12, 17, 31, 1, 1, 7, 7]\n",
      "-----------------------------\n",
      "[0, 2, 4, 4, 4, 18, 4, 10, 7, 1, 2, 3]\n",
      "[0, 23, 4, 4, 33, 18, 4, 6, 7, 1, 2, 10]\n",
      "-----------------------------\n",
      "[0, 3, 3, 4, 9, 18, 4, 4, 10, 15, 13, 4, 1, 2, 4, 4, 4, 1, 3, 9, 3, 9, 1, 18, 18, 7]\n",
      "[0, 3, 3, 25, 9, 18, 4, 4, 10, 15, 13, 21, 1, 17, 6, 4, 4, 1, 3, 9, 3, 9, 1, 18, 34, 11]\n",
      "-----------------------------\n",
      "[0, 3, 3, 3, 10, 16, 4, 12, 7, 1, 7, 2, 4]\n",
      "[0, 30, 3, 34, 10, 21, 4, 8, 7, 1, 16, 2, 4]\n",
      "-----------------------------\n"
     ]
    }
   ],
   "source": [
    "for index in range(len(observations[:5])):\n",
    "    print('[' + ', '.join(map(str, hidden_states_specific[:5][index])) + ']')\n",
    "    print('[' + ', '.join(map(str, noisy_hidden_states_specific[:5][index])) + ']')\n",
    "    print('-----------------------------')"
   ],
   "metadata": {
    "collapsed": false,
    "ExecuteTime": {
     "end_time": "2024-01-26T19:54:02.623613Z",
     "start_time": "2024-01-26T19:54:02.613504Z"
    }
   },
   "id": "80f31f2fc3b2a95b"
  },
  {
   "cell_type": "code",
   "execution_count": 25,
   "outputs": [
    {
     "name": "stdout",
     "output_type": "stream",
     "text": [
      "[-1, 0, 1, 2, 3, 4, 5, 6, 7, 8, 9, 6, 6, 6, 6, 10, 5, 11, 0, 6, 12, 6, 13, 14, 5, 15, 4, 6, 16, 17, 6, 6, 18, 6, 19, 20, 6, 6]\n",
      "-----------------------------\n",
      "[-1, 6, 23, 24, 25, 26, 27, 28, 29, 30, 31, 20, 32, 33, 7, 34, 24, 0]\n",
      "-----------------------------\n",
      "[-1, 5, 35, 36, 37, 38, 39, 40, 24, 0, 5, 30]\n",
      "-----------------------------\n",
      "[-1, 41, 6, 42, 43, 44, 45, 46, 26, 47, 48, 49, 50, 5, 35, 36, 37, 0, 51, 43, 52, 43, 0, 53, 54, 55]\n",
      "-----------------------------\n",
      "[-1, 56, 57, 25, 58, 29, 59, 20, 60, 61, 60, 62, 63]\n",
      "-----------------------------\n"
     ]
    }
   ],
   "source": [
    "for index in range(len(observations[:5])):\n",
    "    print('[' + ', '.join(map(str, observations[:5][index])) + ']')\n",
    "    print('-----------------------------')"
   ],
   "metadata": {
    "collapsed": false,
    "ExecuteTime": {
     "end_time": "2024-01-26T19:54:03.979062Z",
     "start_time": "2024-01-26T19:54:03.964982Z"
    }
   },
   "id": "fc3fe53ff9d663a"
  },
  {
   "cell_type": "code",
   "execution_count": 27,
   "outputs": [],
   "source": [
    "file_path = f\"../../../data/PTB_synthetic_dataset(noise-{ptb_noisy_level}).npz\"\n",
    "obs_object = np.array(observations, dtype=object)\n",
    "uni_hid_object = np.array(hidden_states_universal, dtype=object)\n",
    "noisy_uni_hid_object = np.array(noisy_hidden_states_universal, dtype=object)\n",
    "spc_hid_object = np.array(hidden_states_specific, dtype=object)\n",
    "noisy_spc_hid_object = np.array(noisy_hidden_states_specific, dtype=object)\n",
    "np.savez(file_path, num_states=len(upos_to_index) + 1, num_obs=len(word_to_index), observation=obs_object, real_hidden_universal=uni_hid_object, noisy_hidden_universal=noisy_uni_hid_object, real_hidden_specific=spc_hid_object, noisy_hidden_specifc=noisy_spc_hid_object, noisy_level=ptb_noisy_level)"
   ],
   "metadata": {
    "collapsed": false,
    "ExecuteTime": {
     "end_time": "2024-01-26T19:54:17.371015Z",
     "start_time": "2024-01-26T19:54:16.564026Z"
    }
   },
   "id": "9da93b0a5f4dbd12"
  },
  {
   "cell_type": "code",
   "execution_count": 129,
   "outputs": [
    {
     "data": {
      "text/plain": "(array(6466), array(14))"
     },
     "execution_count": 129,
     "metadata": {},
     "output_type": "execute_result"
    }
   ],
   "source": [
    "read_npz = np.load(\"../data/PennTreebank_synthetic_dataset(noise-0.8).npz\")\n",
    "read_npz['num_obs'], read_npz['num_states']"
   ],
   "metadata": {
    "collapsed": false,
    "ExecuteTime": {
     "end_time": "2024-01-18T22:24:46.109855Z",
     "start_time": "2024-01-18T22:24:46.088148Z"
    }
   },
   "id": "6d6feaa2629c902b"
  },
  {
   "cell_type": "code",
   "execution_count": 31,
   "outputs": [
    {
     "data": {
      "text/plain": "7"
     },
     "execution_count": 31,
     "metadata": {},
     "output_type": "execute_result"
    }
   ],
   "source": [
    "upos_to_index['UNK_TAG']"
   ],
   "metadata": {
    "collapsed": false,
    "ExecuteTime": {
     "end_time": "2024-01-15T08:40:06.131582Z",
     "start_time": "2024-01-15T08:40:06.120783Z"
    }
   },
   "id": "3a704269a47fb374"
  },
  {
   "cell_type": "code",
   "execution_count": 131,
   "outputs": [
    {
     "data": {
      "text/plain": "array([55696.93966458, 48077.46788257, 40796.52998724, 40882.63262071,\n       48252.11934206, 56556.51708689, 61556.06152119, 63970.7717321 ,\n       65471.6533929 , 66335.87011565, 66808.8515842 , 67165.15026411,\n       67429.15459948, 67580.05554896, 67665.67502065, 67821.98475421,\n       67988.70769473, 68163.15558276, 68297.49185731, 68308.82919506])"
     },
     "execution_count": 131,
     "metadata": {},
     "output_type": "execute_result"
    }
   ],
   "source": [
    "read_result = np.load(\"../data/ptb-noise-0.7_iter-20_timestamp-0118_222152_result.npz\")\n",
    "read_result['result']"
   ],
   "metadata": {
    "collapsed": false,
    "ExecuteTime": {
     "end_time": "2024-01-18T22:41:56.732439Z",
     "start_time": "2024-01-18T22:41:56.713356Z"
    }
   },
   "id": "4602cb8c42902b00"
  },
  {
   "cell_type": "code",
   "execution_count": 3,
   "outputs": [
    {
     "data": {
      "text/plain": "1"
     },
     "execution_count": 3,
     "metadata": {},
     "output_type": "execute_result"
    }
   ],
   "source": [
    "np.sum([1, 2, 3] != [1, 2, 4])"
   ],
   "metadata": {
    "collapsed": false,
    "ExecuteTime": {
     "end_time": "2024-01-21T18:33:43.016460Z",
     "start_time": "2024-01-21T18:33:43.008624Z"
    }
   },
   "id": "7f2b9b680b7ce8bc"
  }
 ],
 "metadata": {
  "kernelspec": {
   "display_name": "Python 3",
   "language": "python",
   "name": "python3"
  },
  "language_info": {
   "codemirror_mode": {
    "name": "ipython",
    "version": 2
   },
   "file_extension": ".py",
   "mimetype": "text/x-python",
   "name": "python",
   "nbconvert_exporter": "python",
   "pygments_lexer": "ipython2",
   "version": "2.7.6"
  }
 },
 "nbformat": 4,
 "nbformat_minor": 5
}
