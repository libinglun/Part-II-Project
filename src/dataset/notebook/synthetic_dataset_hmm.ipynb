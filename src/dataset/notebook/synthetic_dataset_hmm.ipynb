{
 "cells": [
  {
   "cell_type": "code",
   "execution_count": 2,
   "id": "initial_id",
   "metadata": {
    "ExecuteTime": {
     "end_time": "2024-04-02T09:44:46.076128Z",
     "start_time": "2024-04-02T09:44:45.962089Z"
    }
   },
   "outputs": [],
   "source": [
    "import numpy as np\n",
    "import tqdm"
   ]
  },
  {
   "cell_type": "markdown",
   "id": "9d759fe8449593b5",
   "metadata": {},
   "source": [
    "### Create Synthetic Dataset on Predefined HMM"
   ]
  },
  {
   "cell_type": "code",
   "execution_count": 3,
   "id": "d42c121b90cd961e",
   "metadata": {
    "ExecuteTime": {
     "end_time": "2024-04-02T09:44:47.474235Z",
     "start_time": "2024-04-02T09:44:47.461739Z"
    }
   },
   "outputs": [],
   "source": [
    "np.set_printoptions(suppress=True, precision=4)\n",
    "np.set_printoptions(linewidth=100, threshold=np.inf)\n",
    "np.set_printoptions(formatter={'int': '{:5d}'.format})"
   ]
  },
  {
   "cell_type": "code",
   "execution_count": 4,
   "id": "c08a922824f24efa",
   "metadata": {
    "ExecuteTime": {
     "end_time": "2024-04-02T09:44:49.590476Z",
     "start_time": "2024-04-02T09:44:49.576234Z"
    }
   },
   "outputs": [],
   "source": [
    "num_states = 10\n",
    "num_observations = 500\n",
    "size = 50000"
   ]
  },
  {
   "cell_type": "code",
   "execution_count": 5,
   "id": "d00feed61a6f6993",
   "metadata": {
    "ExecuteTime": {
     "end_time": "2024-04-02T09:44:50.190890Z",
     "start_time": "2024-04-02T09:44:50.175459Z"
    }
   },
   "outputs": [],
   "source": [
    "transition_probs = np.random.dirichlet(np.ones(num_states) * 1, size=num_states)\n",
    "emission_probs = np.random.dirichlet(np.ones(num_observations) * 2, size=num_states)\n",
    "initial_state_dist = np.ones(num_states) / num_states"
   ]
  },
  {
   "cell_type": "code",
   "execution_count": 6,
   "id": "5787eb87b6c9d3b8",
   "metadata": {
    "ExecuteTime": {
     "end_time": "2024-04-02T09:44:58.094472Z",
     "start_time": "2024-04-02T09:44:58.072633Z"
    }
   },
   "outputs": [
    {
     "data": {
      "text/plain": "(10, 500)"
     },
     "execution_count": 6,
     "metadata": {},
     "output_type": "execute_result"
    }
   ],
   "source": [
    "emission_probs.shape"
   ]
  },
  {
   "cell_type": "code",
   "execution_count": 18,
   "id": "85b308da5c51be6",
   "metadata": {
    "ExecuteTime": {
     "end_time": "2024-02-01T11:11:30.391634Z",
     "start_time": "2024-02-01T11:11:30.381353Z"
    }
   },
   "outputs": [
    {
     "data": {
      "text/plain": "array([[0.0297, 0.0982, 0.0105, 0.0253, 0.0812, 0.0148, 0.0749, 0.0151, 0.5495, 0.1009],\n       [0.3441, 0.1869, 0.261 , 0.0018, 0.1289, 0.0529, 0.    , 0.002 , 0.0133, 0.009 ],\n       [0.0034, 0.0987, 0.0876, 0.    , 0.0016, 0.0115, 0.0006, 0.0058, 0.6721, 0.1187],\n       [0.7578, 0.1083, 0.0302, 0.    , 0.0029, 0.0162, 0.0495, 0.0123, 0.0148, 0.008 ],\n       [0.01  , 0.1662, 0.1885, 0.0278, 0.0315, 0.0499, 0.0674, 0.1576, 0.2684, 0.0328],\n       [0.0044, 0.2439, 0.0039, 0.2448, 0.0014, 0.0016, 0.0888, 0.3746, 0.0344, 0.0022],\n       [0.0472, 0.1738, 0.0164, 0.0002, 0.    , 0.0075, 0.0092, 0.3522, 0.2906, 0.103 ],\n       [0.2798, 0.0052, 0.0524, 0.0077, 0.0794, 0.    , 0.0236, 0.1097, 0.0106, 0.4317],\n       [0.057 , 0.0087, 0.0309, 0.0129, 0.031 , 0.494 , 0.1351, 0.1599, 0.0163, 0.0542],\n       [0.1163, 0.0115, 0.001 , 0.0042, 0.0005, 0.0484, 0.2185, 0.0342, 0.0655, 0.4998]])"
     },
     "execution_count": 18,
     "metadata": {},
     "output_type": "execute_result"
    }
   ],
   "source": [
    "# Simulate the HMM and generate strings (observation sequences)\n",
    "def simulate_hmm(num_sequences, min_length, max_length, start_prob, trans_prob, emis_prob):\n",
    "    sequences = []\n",
    "    hidden_states = []\n",
    "    for _ in range(num_sequences):\n",
    "        sequence_length = np.random.randint(min_length, max_length+1)\n",
    "        current_state = np.random.choice(num_states, p=start_prob)\n",
    "        observation_sequence = []\n",
    "        state_sequence = []\n",
    "        for _ in range(sequence_length):\n",
    "            state_sequence.append(current_state)\n",
    "            observation = np.random.choice(num_observations, p=emis_prob[current_state])\n",
    "            observation_sequence.append(observation)\n",
    "            current_state = np.random.choice(num_states, p=trans_prob[current_state])\n",
    "        sequences.append(observation_sequence)\n",
    "        hidden_states.append(state_sequence)\n",
    "    \n",
    "    return sequences, hidden_states"
   ]
  },
  {
   "cell_type": "code",
   "execution_count": 33,
   "id": "6c16f85519b2011c",
   "metadata": {
    "ExecuteTime": {
     "end_time": "2024-01-25T13:20:29.101056Z",
     "start_time": "2024-01-25T13:20:13.427152Z"
    }
   },
   "outputs": [],
   "source": [
    "syn_sequences, syn_hidden_states = simulate_hmm(\n",
    "    num_sequences=size,\n",
    "    min_length=10,\n",
    "    max_length=30,\n",
    "    start_prob=initial_state_dist,\n",
    "    trans_prob=transition_probs,\n",
    "    emis_prob=emission_probs\n",
    ")"
   ]
  },
  {
   "cell_type": "code",
   "execution_count": 34,
   "id": "4c1df1520b1d43fe",
   "metadata": {
    "ExecuteTime": {
     "end_time": "2024-01-25T13:20:31.199622Z",
     "start_time": "2024-01-25T13:20:31.186012Z"
    }
   },
   "outputs": [],
   "source": [
    "def add_noise_to_states(hidden_states, number_states, flip_prob=0.5):\n",
    "    noisy_hidden_states = []\n",
    "    for sequence in hidden_states:\n",
    "        noisy_sequence = []\n",
    "        for state in sequence:\n",
    "            if np.random.rand() < flip_prob:\n",
    "                # Flip the state to a different random state\n",
    "                possible_states = list(range(number_states))\n",
    "                possible_states.remove(state)  # Remove the current state from possibilities\n",
    "                new_state = np.random.choice(possible_states)\n",
    "                noisy_sequence.append(new_state)\n",
    "            else:\n",
    "                noisy_sequence.append(state)\n",
    "        noisy_hidden_states.append(noisy_sequence)\n",
    "    return noisy_hidden_states"
   ]
  },
  {
   "cell_type": "code",
   "execution_count": 35,
   "id": "3343e831aac7349",
   "metadata": {
    "ExecuteTime": {
     "end_time": "2024-01-25T13:20:34.519393Z",
     "start_time": "2024-01-25T13:20:32.320075Z"
    }
   },
   "outputs": [],
   "source": [
    "noisy_level = 0.5\n",
    "noisy_hidden_states = add_noise_to_states(syn_hidden_states, num_states, flip_prob=noisy_level)"
   ]
  },
  {
   "cell_type": "code",
   "execution_count": 36,
   "id": "d00225ae5631839d",
   "metadata": {
    "ExecuteTime": {
     "end_time": "2024-01-25T13:20:35.280384Z",
     "start_time": "2024-01-25T13:20:35.263604Z"
    }
   },
   "outputs": [
    {
     "name": "stdout",
     "output_type": "stream",
     "text": [
      "[[0.1821 0.1229 0.4174 0.0546 0.0237 0.0057 0.1313 0.0064 0.0105 0.0455]\n",
      " [0.1898 0.2178 0.2813 0.0187 0.0038 0.0134 0.0224 0.0376 0.1665 0.0486]\n",
      " [0.1055 0.0926 0.081  0.0609 0.0659 0.0855 0.0666 0.1091 0.0799 0.253 ]\n",
      " [0.2165 0.0123 0.1887 0.0021 0.0846 0.0509 0.1874 0.035  0.1293 0.0933]\n",
      " [0.0666 0.059  0.1515 0.0023 0.2476 0.1113 0.0792 0.0281 0.2419 0.0126]\n",
      " [0.0831 0.2488 0.0738 0.032  0.0412 0.1616 0.0046 0.2375 0.11   0.0075]\n",
      " [0.0906 0.1309 0.1675 0.0205 0.0609 0.0875 0.0421 0.0103 0.1993 0.1904]\n",
      " [0.1333 0.1623 0.0229 0.0267 0.0462 0.3118 0.0646 0.0209 0.1404 0.0709]\n",
      " [0.0811 0.0338 0.103  0.3329 0.0224 0.0137 0.0702 0.0619 0.0401 0.241 ]\n",
      " [0.0036 0.015  0.0067 0.04   0.4144 0.0035 0.3599 0.0789 0.074  0.004 ]]\n",
      "[441, 368, 13, 108, 169, 66, 359, 106, 344, 274, 195, 68, 34, 115, 54, 224, 28, 86, 487, 75, 225, 94]\n",
      "[270, 202, 290, 492, 236, 212, 452, 290, 451, 387, 358, 404, 453, 67]\n",
      "[149, 496, 46, 291, 153, 42, 474, 253, 7, 39, 277, 416, 50, 371]\n",
      "[447, 112, 234, 87, 98, 160, 463, 289, 78, 37, 337, 467, 222, 41, 314, 468, 63, 65, 101, 437, 349, 493, 37]\n",
      "[472, 417, 5, 160, 99, 326, 281, 68, 229, 390, 180, 339, 123, 219, 242, 484, 236, 297, 395, 40, 441, 271, 19, 153, 173, 225, 189, 135]\n",
      "[1, 3, 2, 7, 1, 2, 6, 2, 7, 5, 1, 8, 0, 6, 2, 7, 5, 1, 1, 9, 6, 2]\n",
      "[1, 3, 6, 0, 5, 1, 5, 6, 9, 5, 1, 5, 0, 6, 2, 0, 5, 1, 3, 9, 2, 2]\n",
      "--------------------\n",
      "[9, 7, 8, 6, 4, 4, 1, 0, 9, 6, 9, 4, 0, 2]\n",
      "[5, 2, 8, 6, 9, 4, 1, 3, 9, 3, 9, 4, 7, 5]\n",
      "--------------------\n",
      "[5, 8, 0, 0, 2, 7, 8, 1, 1, 1, 8, 2, 9, 4]\n",
      "[5, 8, 0, 0, 7, 7, 1, 1, 1, 1, 8, 9, 9, 4]\n",
      "--------------------\n",
      "[4, 2, 1, 2, 9, 4, 4, 8, 6, 4, 5, 8, 3, 6, 1, 0, 1, 1, 2, 3, 2, 9, 4]\n",
      "[4, 2, 9, 5, 0, 8, 6, 8, 9, 4, 0, 2, 4, 6, 6, 6, 1, 2, 6, 3, 6, 9, 4]\n",
      "--------------------\n",
      "[3, 4, 0, 0, 0, 2, 6, 8, 2, 7, 8, 6, 0, 0, 9, 6, 2, 3, 4, 4, 1, 8, 3, 2, 0, 2, 6, 6]\n",
      "[9, 7, 0, 1, 0, 3, 6, 2, 2, 5, 8, 0, 0, 8, 0, 6, 2, 2, 7, 4, 9, 8, 0, 2, 6, 2, 6, 1]\n",
      "--------------------\n"
     ]
    }
   ],
   "source": [
    "print(transition_probs)\n",
    "for seq in syn_sequences[:5]:\n",
    "    print('[' + ', '.join(map(str, seq)) + ']')\n",
    "for index in range(len(noisy_hidden_states[:5])):\n",
    "    print('[' + ', '.join(map(str, syn_hidden_states[:5][index])) + ']')\n",
    "    print('[' + ', '.join(map(str, noisy_hidden_states[:5][index])) + ']')\n",
    "    print(\"--------------------\")"
   ]
  },
  {
   "cell_type": "code",
   "execution_count": 11,
   "id": "e1088b389caa259d",
   "metadata": {
    "ExecuteTime": {
     "end_time": "2024-01-25T13:10:43.366192Z",
     "start_time": "2024-01-25T13:10:43.198531Z"
    }
   },
   "outputs": [],
   "source": [
    "for i in range(len(syn_hidden_states)):\n",
    "    for j in range(len(syn_hidden_states[i])):\n",
    "        syn_hidden_states[i][j] += 1\n",
    "        noisy_hidden_states[i][j] += 1\n",
    "        \n",
    "for i in range(len(syn_hidden_states)):\n",
    "    syn_hidden_states[i].insert(0, 0)\n",
    "    noisy_hidden_states[i].insert(0, 0)\n",
    "    \n",
    "    syn_sequences[i].insert(0, -1)"
   ]
  },
  {
   "cell_type": "code",
   "execution_count": 12,
   "id": "f22b1a89c4a00785",
   "metadata": {
    "ExecuteTime": {
     "end_time": "2024-01-25T13:10:48.821209Z",
     "start_time": "2024-01-25T13:10:48.805851Z"
    }
   },
   "outputs": [
    {
     "name": "stdout",
     "output_type": "stream",
     "text": [
      "[-1, 360, 235, 376, 443, 78, 315, 262, 398, 215, 37, 246, 165, 181, 246, 304, 303, 220, 469, 131]\n",
      "[-1, 495, 408, 99, 409, 396, 302, 422, 176, 224, 307, 28, 219, 331, 252, 391, 448]\n",
      "[-1, 293, 460, 240, 370, 362, 118, 100, 335, 472, 228, 170, 499, 217, 397, 371, 50, 222, 207, 254, 382, 413, 71, 139, 81]\n",
      "[-1, 159, 479, 45, 474, 94, 13, 225, 117, 315, 25, 431, 168, 330]\n",
      "[-1, 109, 432, 17, 138, 323, 46, 422, 477, 497, 340, 334, 147, 453]\n",
      "[0, 4, 10, 7, 9, 4, 3, 3, 9, 10, 7, 1, 3, 8, 6, 8, 9, 4, 9, 4]\n",
      "[0, 1, 10, 10, 6, 4, 10, 3, 9, 3, 5, 9, 9, 8, 1, 6, 7, 3, 9, 4]\n",
      "--------------------\n",
      "[0, 6, 9, 4, 7, 9, 4, 1, 3, 9, 6, 8, 6, 1, 3, 6, 2]\n",
      "[0, 6, 9, 9, 4, 9, 4, 1, 7, 1, 2, 3, 6, 1, 3, 6, 7]\n",
      "--------------------\n",
      "[0, 6, 6, 6, 5, 9, 10, 5, 9, 4, 7, 4, 3, 2, 10, 7, 10, 5, 9, 6, 6, 8, 10, 5, 5]\n",
      "[0, 7, 6, 6, 2, 9, 10, 2, 7, 8, 6, 4, 7, 2, 10, 9, 10, 2, 1, 6, 6, 2, 10, 9, 5]\n",
      "--------------------\n",
      "[0, 2, 9, 3, 10, 5, 5, 1, 7, 6, 8, 6, 2, 2]\n",
      "[0, 2, 9, 9, 9, 5, 4, 7, 2, 6, 2, 6, 9, 3]\n",
      "--------------------\n",
      "[0, 8, 2, 3, 10, 5, 7, 2, 3, 1, 2, 9, 4, 10]\n",
      "[0, 8, 4, 3, 5, 5, 7, 2, 10, 1, 9, 9, 9, 10]\n",
      "--------------------\n"
     ]
    }
   ],
   "source": [
    "for seq in syn_sequences[:5]:\n",
    "    print('[' + ', '.join(map(str, seq)) + ']')\n",
    "for index in range(len(noisy_hidden_states[:5])):\n",
    "    print('[' + ', '.join(map(str, syn_hidden_states[:5][index])) + ']')\n",
    "    print('[' + ', '.join(map(str, noisy_hidden_states[:5][index])) + ']')\n",
    "    print(\"--------------------\")"
   ]
  },
  {
   "cell_type": "code",
   "execution_count": 37,
   "id": "47acd9564d1a48a7",
   "metadata": {
    "ExecuteTime": {
     "end_time": "2024-01-25T13:20:43.910127Z",
     "start_time": "2024-01-25T13:20:43.259674Z"
    }
   },
   "outputs": [],
   "source": [
    "file_path = f\"../data/hmm_synthetic_dataset(noise-{noisy_level}_state-{num_states}_obs-{num_observations}_size-{size}).npz\"\n",
    "seq_object = np.array(syn_sequences, dtype=object)\n",
    "hid_object = np.array(syn_hidden_states, dtype=object)\n",
    "noisy_hid_object = np.array(noisy_hidden_states, dtype=object)\n",
    "trans_object = transition_probs\n",
    "emis_object = emission_probs\n",
    "np.savez(file_path, observation=seq_object, real_hidden=hid_object, noisy_hidden=noisy_hid_object, real_trans=trans_object, emis=emis_object , noisy_level=noisy_level)"
   ]
  },
  {
   "cell_type": "code",
   "execution_count": 41,
   "id": "dadee89dcb523e94",
   "metadata": {
    "ExecuteTime": {
     "end_time": "2024-01-25T13:27:48.936049Z",
     "start_time": "2024-01-25T13:27:48.917359Z"
    }
   },
   "outputs": [
    {
     "data": {
      "text/plain": [
       "(5, 101)"
      ]
     },
     "execution_count": 41,
     "metadata": {},
     "output_type": "execute_result"
    }
   ],
   "source": [
    "loaded_npz = np.load(\"../data/hmm_synthetic_dataset.npz\", allow_pickle=True)\n",
    "observations = list(loaded_npz['observation'])\n",
    "hidden_states = list(loaded_npz['real_hidden'])\n",
    "noi_hidden_states = list(loaded_npz['noisy_hidden'])\n",
    "transition_dist = np.vstack(loaded_npz['real_trans'])"
   ]
  },
  {
   "cell_type": "code",
   "execution_count": 3,
   "id": "3301997bc52424a0",
   "metadata": {
    "ExecuteTime": {
     "end_time": "2024-01-14T10:57:00.615003Z",
     "start_time": "2024-01-14T10:57:00.592949Z"
    }
   },
   "outputs": [
    {
     "ename": "NameError",
     "evalue": "name 'transition_dist' is not defined",
     "output_type": "error",
     "traceback": [
      "\u001B[0;31m---------------------------------------------------------------------------\u001B[0m",
      "\u001B[0;31mNameError\u001B[0m                                 Traceback (most recent call last)",
      "Cell \u001B[0;32mIn[3], line 1\u001B[0m\n\u001B[0;32m----> 1\u001B[0m \u001B[38;5;28mprint\u001B[39m(\u001B[43mtransition_dist\u001B[49m)\n\u001B[1;32m      2\u001B[0m \u001B[38;5;28;01mfor\u001B[39;00m seq \u001B[38;5;129;01min\u001B[39;00m observations[:\u001B[38;5;241m5\u001B[39m]:\n\u001B[1;32m      3\u001B[0m     \u001B[38;5;28mprint\u001B[39m(\u001B[38;5;124m'\u001B[39m\u001B[38;5;124m[\u001B[39m\u001B[38;5;124m'\u001B[39m \u001B[38;5;241m+\u001B[39m \u001B[38;5;124m'\u001B[39m\u001B[38;5;124m, \u001B[39m\u001B[38;5;124m'\u001B[39m\u001B[38;5;241m.\u001B[39mjoin(\u001B[38;5;28mmap\u001B[39m(\u001B[38;5;28mstr\u001B[39m, seq)) \u001B[38;5;241m+\u001B[39m \u001B[38;5;124m'\u001B[39m\u001B[38;5;124m]\u001B[39m\u001B[38;5;124m'\u001B[39m)\n",
      "\u001B[0;31mNameError\u001B[0m: name 'transition_dist' is not defined"
     ]
    }
   ],
   "source": [
    "print(transition_dist)\n",
    "for seq in observations[:5]:\n",
    "    print('[' + ', '.join(map(str, seq)) + ']')\n",
    "for index in range(len(hidden_states[:5])):\n",
    "    print('[' + ', '.join(map(str, hidden_states[:5][index])) + ']')\n",
    "    print('[' + ', '.join(map(str, noi_hidden_states[:5][index])) + ']')\n",
    "    print(\"--------------------\")"
   ]
  },
  {
   "cell_type": "markdown",
   "id": "5d8ecadb0a8a279c",
   "metadata": {},
   "source": [
    "### Initailise my model with pre-defined params"
   ]
  },
  {
   "cell_type": "code",
   "execution_count": 45,
   "id": "9499c1999fa47f9c",
   "metadata": {
    "ExecuteTime": {
     "end_time": "2024-01-03T06:36:30.442836Z",
     "start_time": "2024-01-03T06:36:30.433521Z"
    }
   },
   "outputs": [],
   "source": [
    "split = 5000\n",
    "param_observed = observations[:split]\n",
    "param_hidden = hidden_states[:split]\n",
    "train_observed = observations[split:]\n",
    "train_hidden = hidden_states[split:]"
   ]
  },
  {
   "cell_type": "code",
   "execution_count": 41,
   "id": "690c39ff1df7c74e",
   "metadata": {
    "ExecuteTime": {
     "end_time": "2024-01-03T06:31:34.765478Z",
     "start_time": "2024-01-03T06:31:34.753660Z"
    }
   },
   "outputs": [],
   "source": [
    "trans_count = np.zeros((num_states, num_states), dtype='int')\n",
    "emis_count = np.zeros((num_observations, num_states), dtype='int')"
   ]
  },
  {
   "cell_type": "code",
   "execution_count": 88,
   "id": "cd05aed567ce9b5a",
   "metadata": {
    "ExecuteTime": {
     "end_time": "2024-01-03T07:10:45.168093Z",
     "start_time": "2024-01-03T07:10:45.166586Z"
    }
   },
   "outputs": [],
   "source": [
    "for i in range(split):\n",
    "    for t in range(len(param_hidden[i])):\n",
    "        emis_count[param_observed[i][t], param_hidden[i][t]] += 1\n",
    "        if t > 0: \n",
    "            trans_count[param_hidden[i][t], param_hidden[i][t - 1]] += 1"
   ]
  },
  {
   "cell_type": "code",
   "execution_count": 60,
   "id": "aaff0b569926921e",
   "metadata": {
    "ExecuteTime": {
     "end_time": "2024-01-21T10:04:07.698365Z",
     "start_time": "2024-01-21T10:04:07.678088Z"
    }
   },
   "outputs": [],
   "source": [
    "read_npz = np.load(\"../data/noise-0.5_iter-300_state-10_size-50000_timestamp-0121_065808_result.npz\")\n",
    "distance = read_npz['result']"
   ]
  },
  {
   "cell_type": "code",
   "execution_count": 61,
   "id": "d7a1a9e8fcc0d62c",
   "metadata": {
    "ExecuteTime": {
     "end_time": "2024-01-21T10:04:09.041200Z",
     "start_time": "2024-01-21T10:04:09.026932Z"
    }
   },
   "outputs": [
    {
     "data": {
      "text/plain": [
       "array([3.3506, 3.3362, 3.3476, 3.3389, 3.3153, 3.3417, 3.3399, 3.3498, 3.3624, 3.3622, 3.3164,\n",
       "       3.304 , 3.2982, 3.2846, 3.3118, 3.3038, 3.2682, 3.2504, 3.2656, 3.2778, 3.2616, 3.2701,\n",
       "       3.2789, 3.2693, 3.2571, 3.2239, 3.2193, 3.2221, 3.251 , 3.2168, 3.2407, 3.2068, 3.2423,\n",
       "       3.2131, 3.2025, 3.1882, 3.1518, 3.1939, 3.157 , 3.1286, 3.1196, 3.0794, 3.0922, 3.0766,\n",
       "       3.0504, 3.0317, 3.0761, 3.0634, 3.0471, 3.0182, 2.9836, 2.9932, 2.9678, 2.9618, 2.9478,\n",
       "       2.963 , 2.9729, 2.9692, 3.0059, 3.0148, 3.0034, 2.9748, 2.9862, 2.9987, 2.9379, 2.9668,\n",
       "       2.9786, 2.9594, 2.9768, 2.9485, 2.9581, 2.9023, 2.9207, 2.889 , 2.8646, 2.8715, 2.8395,\n",
       "       2.8607, 2.8792, 2.8844, 2.8536, 2.8883, 2.8993, 2.8947, 2.9122, 2.9455, 2.9548, 2.9274,\n",
       "       2.94  , 2.9549, 2.959 , 2.9829, 2.9873, 2.9609, 2.9932, 2.9972, 3.0214, 3.0065, 3.0283,\n",
       "       3.0086, 3.0556, 3.0562, 3.1182, 3.116 , 3.0997, 3.0787, 3.094 , 3.0953, 3.1177, 3.1215,\n",
       "       3.1104, 3.0887, 3.1259, 3.1679, 3.1138, 3.1261, 3.1339, 3.1457, 3.1643, 3.1675, 3.1551,\n",
       "       3.1543, 3.1402, 3.0917, 3.1443, 3.1488, 3.1036, 3.1354, 3.1075, 3.0972, 3.0968, 3.1049,\n",
       "       3.0853, 3.1074, 3.1263, 3.1372, 3.1397, 3.1252, 3.1395, 3.1808, 3.1709, 3.1558, 3.1242,\n",
       "       3.0887, 3.0728, 3.0797, 3.0697, 3.0663, 3.079 , 3.0657, 3.0625, 3.0605, 3.0566, 3.0742,\n",
       "       3.1033, 3.0973, 3.1034, 3.0813, 3.1103, 3.0746, 3.0543, 3.0437, 3.0424, 3.0742, 3.0654,\n",
       "       3.0632, 3.0903, 3.0945, 3.0767, 3.1102, 3.0969, 3.1074, 3.1112, 3.1175, 3.1451, 3.0921,\n",
       "       3.0688, 3.1156, 3.0914, 3.0769, 3.076 , 3.1086, 3.1445, 3.1226, 3.1207, 3.1153, 3.1234,\n",
       "       3.1311, 3.1264, 3.0626, 3.0817, 3.0404, 3.0886, 3.0579, 3.0464, 3.0783, 3.0808, 3.1177,\n",
       "       3.1247, 3.1359, 3.1278, 3.1064, 3.1355, 3.1419, 3.1159, 3.1039, 3.152 , 3.1624, 3.121 ,\n",
       "       3.155 , 3.1452, 3.1644, 3.1382, 3.0838, 3.0782, 3.104 , 3.0587, 3.0654, 3.1127, 3.1122,\n",
       "       3.1313, 3.1299, 3.1311, 3.0943, 3.1092, 3.0959, 3.0694, 3.0847, 3.1158, 3.1164, 3.1319,\n",
       "       3.112 , 3.1098, 3.1081, 3.1103, 3.0488, 3.0815, 3.0641, 3.0361, 2.9687, 3.0114, 3.006 ,\n",
       "       2.9761, 2.9666, 2.9487, 2.953 , 2.9856, 2.9977, 3.0055, 3.0017, 3.0065, 3.0096, 3.0183,\n",
       "       2.9566, 2.9853, 3.0025, 3.0233, 3.0358, 3.0373, 3.0073, 2.9848, 2.9817, 2.9885, 2.984 ,\n",
       "       3.0421, 3.0487, 3.0858, 3.0393, 3.0798, 3.0575, 3.0453, 3.0688, 3.0736, 3.0312, 3.0513,\n",
       "       3.0763, 3.0618, 3.0904, 3.1164, 3.0502, 3.0508, 3.0526, 3.0439, 3.0782, 3.1013, 3.1434,\n",
       "       3.1792, 3.1565, 3.1372, 3.133 , 3.1074, 3.128 , 3.1111, 3.1388, 3.1516, 3.1786, 3.1648,\n",
       "       3.1732, 3.1597, 3.1879])"
      ]
     },
     "execution_count": 61,
     "metadata": {},
     "output_type": "execute_result"
    }
   ],
   "source": [
    "distance"
   ]
  }
 ],
 "metadata": {
  "kernelspec": {
   "display_name": "PartII Project Env",
   "language": "python",
   "name": "porjenv"
  },
  "language_info": {
   "codemirror_mode": {
    "name": "ipython",
    "version": 3
   },
   "file_extension": ".py",
   "mimetype": "text/x-python",
   "name": "python",
   "nbconvert_exporter": "python",
   "pygments_lexer": "ipython3",
   "version": "3.10.7"
  }
 },
 "nbformat": 4,
 "nbformat_minor": 5
}
